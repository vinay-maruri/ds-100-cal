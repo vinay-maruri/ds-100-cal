{
 "cells": [
  {
   "cell_type": "markdown",
   "metadata": {},
   "source": [
    "Before you turn in the homework, make sure everything runs as expected. To do so, select **Kernel**$\\rightarrow$**Restart & Run All** in the toolbar above.  Remember to submit both on **DataHub** and **Gradescope**.\n",
    "\n",
    "Please fill in your name and include a list of your collaborators below."
   ]
  },
  {
   "cell_type": "code",
   "execution_count": 1,
   "metadata": {},
   "outputs": [],
   "source": [
    "NAME = \"Vinay Maruri\"\n",
    "COLLABORATORS = \"\""
   ]
  },
  {
   "cell_type": "markdown",
   "metadata": {},
   "source": [
    "---"
   ]
  },
  {
   "cell_type": "markdown",
   "metadata": {
    "deletable": false,
    "editable": false,
    "nbgrader": {
     "cell_type": "markdown",
     "checksum": "e7eaf28713568e98e7e9cae11949d588",
     "grade": false,
     "grade_id": "cell-0f606107582a739d",
     "locked": true,
     "schema_version": 2,
     "solution": false
    }
   },
   "source": [
    "# Project 2: NYC Taxi Rides\n",
    "\n",
    "# Data Ethics\n",
    "\n",
    "It's important to consider data ethics and the NYC taxi dataset is no exception. In this notebook we will give you some food for thought and prompt you to think critically about some important aspects of this dataset. \n",
    "\n",
    "Please choose 2 out of the following 4 questions and write thoughtful responses to your chosen questions. You should make sure to backup your responses with proofs, counter examples, real world data, etc. We encourage you to not only draw upon lectures/online resources but also to debate with your peers! Make sure to submit this notebook to datahub.\n",
    "\n",
    "## Questions\n",
    "\n",
    "1. We downloaded the taxi data from a publicly available endpoint (http://www.nyc.gov/html/tlc/html/about/trip_record_data.shtml). This means anyone can access this dataset. Can you think of some other external dataset that can be joined with the taxi data that can be utilized to target specific demographics or invade privacy? How could this dataset be used? For example, if we join taxi dataset and street camera, it will be easy to findout who the passenger is.\n",
    "\n",
    "2. Many people use ride sharing services like Uber or Lyft. Unlike taxi companies, Uber and Lyft know who you are and exactly where you are going. Although the data is not publicy accessible, you can still access part of the data through limited accessed API that's only opened to paid partners (https://developer.uber.com/docs/riders/references/api/v1.2/requests-request_id-get). What can a third party do with these data? \n",
    "\n",
    "3. If Josh is the chief data scientist at Uber, he has access to all the Uber data. He wants to investigate racial discrimination against drivers by evaluating and performing hypothesis testing on a ride ratings dataset. For example, he can test the hypothesis that given the same level of service, an Asian driver will get different rating from a Caucasian driver. Can Josh perform such experiment? State your assumptions on the data available at Uber.\n",
    "\n",
    "4. Let's say that the New York City Metropolitan Transportation Authority (NYC MTA) aggregates data from taxis, Ubers, and Lyfts, and determines that people in Brooklyn rarely use taxis/rideshares. The director of the MTA signs a bill to devote all transportation infrastructure funds solely to Manhattan; what is(are) the flaw(s) in making that assumption?"
   ]
  },
  {
   "cell_type": "code",
   "execution_count": 2,
   "metadata": {},
   "outputs": [
    {
     "name": "stdout",
     "output_type": "stream",
     "text": [
      "(Answer to Question 4): The first flaw that that MTA made is failing to realize that the MTA runs other services, most important of which is the NYC subway system. Upon inspecting subway ridership data, Brooklyn passengers heavily use the subway, with heavy ridership at all stations in the borough. Given that subway infrastructure is in a state of disrepair in New York City, allocating all transportation infrastructure funds to Manhattan seems to be problematic given that MTA subway infrastructure is experiencing problems in Brooklyn in areas that heavily use the subway. If Manhattan gets all the funds, then Brooklyn MTA subway infrastructure will fall into further disrepair, harming the subway system and riders even more. The second flaw in dedicating all funds solely to Manhattan is that the MTA's assumption assumes Manhattan taxi riders only go to places in Manhattan. As the data clearly shows in the other part 1 notebooks, there is cross-borough traffic as taxi riders take rides from Manhattan to Brooklyn and vice versa. By allocating all funds solely to Manhattan, the MTA is ignoring road problems that happen in Brooklyn that would affect Manhattan taxi riders who take a cab to areas in Brooklyn. Sources: 1. https://www.nytimes.com/interactive/2018/05/09/nyregion/subway-crisis-mta-decisions-signals-rules.html, 2. http://web.mta.info/nyct/facts/ridership/ridership_sub_annual.htm\n"
     ]
    }
   ],
   "source": [
    "response_1 = \"(Answer to Question 4): The first flaw that that MTA made is failing to realize that the MTA runs other services, most important of which is the NYC subway system. Upon inspecting subway ridership data, Brooklyn passengers heavily use the subway, with heavy ridership at all stations in the borough. Given that subway infrastructure is in a state of disrepair in New York City, allocating all transportation infrastructure funds to Manhattan seems to be problematic given that MTA subway infrastructure is experiencing problems in Brooklyn in areas that heavily use the subway. If Manhattan gets all the funds, then Brooklyn MTA subway infrastructure will fall into further disrepair, harming the subway system and riders even more. The second flaw in dedicating all funds solely to Manhattan is that the MTA's assumption assumes Manhattan taxi riders only go to places in Manhattan. As the data clearly shows in the other part 1 notebooks, there is cross-borough traffic as taxi riders take rides from Manhattan to Brooklyn and vice versa. By allocating all funds solely to Manhattan, the MTA is ignoring road problems that happen in Brooklyn that would affect Manhattan taxi riders who take a cab to areas in Brooklyn. Sources: 1. https://www.nytimes.com/interactive/2018/05/09/nyregion/subway-crisis-mta-decisions-signals-rules.html, 2. http://web.mta.info/nyct/facts/ridership/ridership_sub_annual.htm\"\n",
    "print(response_1)"
   ]
  },
  {
   "cell_type": "code",
   "execution_count": 3,
   "metadata": {
    "deletable": false,
    "editable": false,
    "nbgrader": {
     "cell_type": "code",
     "checksum": "369c02697c3518448214bffeb3c98c35",
     "grade": true,
     "grade_id": "response-1-test",
     "locked": true,
     "points": 5,
     "schema_version": 2,
     "solution": false
    }
   },
   "outputs": [],
   "source": [
    "# Don't delete me!"
   ]
  },
  {
   "cell_type": "code",
   "execution_count": 4,
   "metadata": {},
   "outputs": [
    {
     "name": "stdout",
     "output_type": "stream",
     "text": [
      "(Answer to Question 1): There is a dataset available that has demographic statistics broken down by zip code for all zip codes in New York City. If the location data in the taxi dataset is mapped to 2 new columns in the taxi dataset containing the zip code of the starting point and the zip code of the destination, then this dataset can be joined with the taxi dataset to add racial demographics to the table, giving each ride the demographics of the starting point (by zip code) and the demographics of the destination (by zip code). Doing this will allow specific demographics to be targeted in potentially discriminatory ways because we have a picture of taxi ride usage across the different zip codes, which allows estimates of riders by racial and ethnic categories to be conducted. This could be used to discriminate by race, as there could be a strategy implemented that avoids sending taxis into areas heavily populated by minority residents, causing New York City taxis to become inaccessible to racial minorities. The NYC zip code demography dataset is available at: https://catalog.data.gov/dataset/demographic-statistics-by-zip-code-acfc9\n"
     ]
    }
   ],
   "source": [
    "response_2 = \"(Answer to Question 1): There is a dataset available that has demographic statistics broken down by zip code for all zip codes in New York City. If the location data in the taxi dataset is mapped to 2 new columns in the taxi dataset containing the zip code of the starting point and the zip code of the destination, then this dataset can be joined with the taxi dataset to add racial demographics to the table, giving each ride the demographics of the starting point (by zip code) and the demographics of the destination (by zip code). Doing this will allow specific demographics to be targeted in potentially discriminatory ways because we have a picture of taxi ride usage across the different zip codes, which allows estimates of riders by racial and ethnic categories to be conducted. This could be used to discriminate by race, as there could be a strategy implemented that avoids sending taxis into areas heavily populated by minority residents, causing New York City taxis to become inaccessible to racial minorities. The NYC zip code demography dataset is available at: https://catalog.data.gov/dataset/demographic-statistics-by-zip-code-acfc9\"\n",
    "print(response_2)"
   ]
  },
  {
   "cell_type": "code",
   "execution_count": 5,
   "metadata": {
    "deletable": false,
    "editable": false,
    "nbgrader": {
     "cell_type": "code",
     "checksum": "aac6608f6452d6bd8bd157dc6e1631e0",
     "grade": true,
     "grade_id": "response-2-test",
     "locked": true,
     "points": 5,
     "schema_version": 2,
     "solution": false
    }
   },
   "outputs": [],
   "source": [
    "# Don't delete me!"
   ]
  },
  {
   "cell_type": "markdown",
   "metadata": {},
   "source": [
    "## Submission\n",
    "\n",
    "You're almost done!\n",
    "\n",
    "Before submitting this assignment, ensure that you have:\n",
    "\n",
    "1. Restarted the Kernel (in the menubar, select Kernel$\\rightarrow$Restart & Run All)\n",
    "2. Validated the notebook by clicking the \"Validate\" button.\n",
    "\n",
    "Then,\n",
    "\n",
    "1. **Submit** the assignment via the Assignments tab in **Datahub** \n",
    "1. **Upload and tag** the manually reviewed portions of the assignment on **Gradescope**"
   ]
  }
 ],
 "metadata": {
  "kernelspec": {
   "display_name": "Python 3",
   "language": "python",
   "name": "python3"
  },
  "language_info": {
   "codemirror_mode": {
    "name": "ipython",
    "version": 3
   },
   "file_extension": ".py",
   "mimetype": "text/x-python",
   "name": "python",
   "nbconvert_exporter": "python",
   "pygments_lexer": "ipython3",
   "version": "3.6.4"
  }
 },
 "nbformat": 4,
 "nbformat_minor": 2
}
