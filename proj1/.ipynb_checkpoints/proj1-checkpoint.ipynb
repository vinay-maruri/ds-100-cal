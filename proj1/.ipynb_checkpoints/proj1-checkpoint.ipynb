{
 "cells": [
  {
   "cell_type": "markdown",
   "metadata": {},
   "source": [
    "Before you turn this problem in, make sure everything runs as expected. First, **restart the kernel** (in the menubar, select Kernel$\\rightarrow$Restart) and then **run all cells** (in the menubar, select Cell$\\rightarrow$Run All).\n",
    "\n",
    "Make sure you fill in any place that says `YOUR CODE HERE` or \"YOUR ANSWER HERE\", as well as your name and collaborators below:"
   ]
  },
  {
   "cell_type": "code",
   "execution_count": 1,
   "metadata": {},
   "outputs": [],
   "source": [
    "NAME = \"Vinay Maruri\"\n",
    "COLLABORATORS = \"\""
   ]
  },
  {
   "cell_type": "markdown",
   "metadata": {},
   "source": [
    "---"
   ]
  },
  {
   "cell_type": "markdown",
   "metadata": {
    "deletable": false,
    "editable": false,
    "nbgrader": {
     "cell_type": "markdown",
     "checksum": "851a1167a43648157d50a63c9bf36e69",
     "grade": false,
     "grade_id": "intro",
     "locked": true,
     "schema_version": 2,
     "solution": false
    }
   },
   "source": [
    "# Project 1: Trump, Twitter, and Text\n",
    "\n",
    "Welcome to the first project of Data 100! In this project, we will work with the Twitter API in order to analyze Donald Trump's tweets.\n",
    "\n",
    "**The project is due 11:59pm Tuesday, October 23, California Time.**\n",
    "\n",
    "You do not have to work on this project before the midterm, but you might find it helpful, since it goes over a lot of pandas materials that we haven't used in a while.\n",
    "\n",
    "**Fun:**\n",
    "\n",
    "We intend this project to be fun! You will analyze actual data from the Twitter API. You will also draw conclusions about the current (and often controversial) US President's tweet behavior. If you find yourself getting frustrated or stuck on one problem for too long, we suggest coming into office hours and working with friends in the class.\n",
    "\n",
    "With that in mind, let's get started!"
   ]
  },
  {
   "cell_type": "code",
   "execution_count": 2,
   "metadata": {
    "deletable": false,
    "editable": false,
    "nbgrader": {
     "cell_type": "code",
     "checksum": "39a1c52c1b5855b6bd9b10e6a7802072",
     "grade": false,
     "grade_id": "import",
     "locked": true,
     "schema_version": 2,
     "solution": false
    }
   },
   "outputs": [],
   "source": [
    "# Run this cell to set up your notebook\n",
    "import csv\n",
    "import numpy as np\n",
    "import pandas as pd\n",
    "import matplotlib.pyplot as plt\n",
    "import zipfile\n",
    "\n",
    "# Ensure that Pandas shows at least 280 characters in columns, so we can see full tweets\n",
    "pd.set_option('max_colwidth', 280)\n",
    "\n",
    "%matplotlib inline\n",
    "plt.style.use('fivethirtyeight')\n",
    "import seaborn as sns\n",
    "sns.set()\n",
    "sns.set_context(\"talk\")\n",
    "import re"
   ]
  },
  {
   "cell_type": "markdown",
   "metadata": {
    "deletable": false,
    "editable": false,
    "nbgrader": {
     "cell_type": "markdown",
     "checksum": "69812bdeba1101e72f0c2c49d4e05e7e",
     "grade": false,
     "grade_id": "tweepy-intro",
     "locked": true,
     "schema_version": 2,
     "solution": false
    }
   },
   "source": [
    "# Downloading Recent Tweets\n",
    "\n",
    "---\n",
    "\n",
    "Since we'll be looking at Twitter data, we need to download the data from Twitter!\n",
    "\n",
    "Twitter provides an API for downloading tweet data in large batches.  The `tweepy` package makes it fairly easy to use."
   ]
  },
  {
   "cell_type": "code",
   "execution_count": 3,
   "metadata": {
    "deletable": false,
    "editable": false,
    "nbgrader": {
     "cell_type": "code",
     "checksum": "727d86148491e8268741fb9ad1182f32",
     "grade": false,
     "grade_id": "tweepy",
     "locked": true,
     "schema_version": 2,
     "solution": false
    }
   },
   "outputs": [],
   "source": [
    "## Make sure you are in your data100 conda environment if you are working locally.\n",
    "# The following should run:\n",
    "import tweepy"
   ]
  },
  {
   "cell_type": "markdown",
   "metadata": {
    "deletable": false,
    "editable": false,
    "nbgrader": {
     "cell_type": "markdown",
     "checksum": "be71d5e18529a33a68df98dba32c6b98",
     "grade": false,
     "grade_id": "instructions",
     "locked": true,
     "schema_version": 2,
     "solution": false
    }
   },
   "source": [
    "There are instructions on using `tweepy` [here](http://tweepy.readthedocs.io/en/v3.5.0/getting_started.html), but we will give you example code.\n",
    "\n",
    "Twitter requires you to have authentication keys to access their API.  To get your keys, you'll have to sign up as a Twitter developer.  The next question will walk you through this process."
   ]
  },
  {
   "cell_type": "markdown",
   "metadata": {
    "deletable": false,
    "editable": false,
    "nbgrader": {
     "cell_type": "markdown",
     "checksum": "d7f77217a61748b66ee95e547435218f",
     "grade": false,
     "grade_id": "q1",
     "locked": true,
     "schema_version": 2,
     "solution": false
    }
   },
   "source": [
    "## Question 1\n",
    "\n",
    "Follow the instructions below to get your Twitter API keys.  **Read the instructions completely before starting.**\n",
    "\n",
    "1. [Create a Twitter account](https://twitter.com).  You can use an existing account if you have one; if you prefer to not do this assignment under your regular account, feel free to create a throw-away account.\n",
    "2. Under account settings, add your phone number to the account.\n",
    "3. [Create a Twitter developer account](https://dev.twitter.com/resources/signup) by clicking the 'Apply' button on the top right of the page. Attach it to your Twitter account. You'll have to fill out a form describing what you want to do with the developer account. Explain that you are doing this for a class at UC Berkeley and that you don't know exactly what you're building yet and just need the account to get started. These applications are approved by some sort of AI system, so it doesn't matter exactly what you write. Just don't enter a bunch of alweiofalwiuhflawiuehflawuihflaiwhfe type stuff or you might get rejected.\n",
    "4. Once you're logged into your developer account, [create an application for this assignment](https://apps.twitter.com/app/new).  You can call it whatever you want, and you can write any URL when it asks for a web site.  You don't need to provide a callback URL.\n",
    "5. On the page for that application, find your Consumer Key and Consumer Secret.\n",
    "6. On the same page, create an Access Token.  Record the resulting Access Token and Access Token Secret.\n",
    "7. Edit the file [keys.json](keys.json) and replace the placeholders with your keys.  "
   ]
  },
  {
   "cell_type": "markdown",
   "metadata": {
    "deletable": false,
    "editable": false,
    "nbgrader": {
     "cell_type": "markdown",
     "checksum": "660b295179b4972ddbe15e607eab658b",
     "grade": false,
     "grade_id": "warning",
     "locked": true,
     "schema_version": 2,
     "solution": false
    }
   },
   "source": [
    "\n",
    "## WARNING (Please Read) !!!!\n",
    "\n",
    "\n",
    "### Protect your Twitter Keys\n",
    "<span style=\"color:red\">\n",
    "If someone has your authentication keys, they can access your Twitter account and post as you!  So don't give them to anyone, and **don't write them down in this notebook**. \n",
    "</span>\n",
    "The usual way to store sensitive information like this is to put it in a separate file and read it programmatically.  That way, you can share the rest of your code without sharing your keys.  That's why we're asking you to put your keys in `keys.json` for this assignment.\n",
    "\n",
    "\n",
    "### Avoid making too many API calls.\n",
    "\n",
    "<span style=\"color:red\">\n",
    "Twitter limits developers to a certain rate of requests for data.  If you make too many requests in a short period of time, you'll have to wait awhile (around 15 minutes) before you can make more.  </span> \n",
    "So carefully follow the code examples you see and don't rerun cells without thinking.  Instead, always save the data you've collected to a file.  We've provided templates to help you do that.\n",
    "\n",
    "\n",
    "### Be careful about which functions you call!\n",
    "\n",
    "<span style=\"color:red\">\n",
    "This API can retweet tweets, follow and unfollow people, and modify your twitter settings.  Be careful which functions you invoke! </span> One of the sp18 instructors accidentally re-tweeted some tweets because that instructor typed `retweet` instead of `retweet_count`. \n",
    "</span>\n"
   ]
  },
  {
   "cell_type": "code",
   "execution_count": 4,
   "metadata": {
    "deletable": false,
    "editable": false,
    "nbgrader": {
     "cell_type": "code",
     "checksum": "c2eb5fb9a1af6832165a365b0aad21ab",
     "grade": false,
     "grade_id": "keys",
     "locked": true,
     "schema_version": 2,
     "solution": false
    }
   },
   "outputs": [],
   "source": [
    "import json\n",
    "key_file = 'keys.json'\n",
    "# Loading your keys from keys.json (which you should have filled\n",
    "# in in question 1):\n",
    "with open(key_file) as f:\n",
    "    keys = json.load(f)\n",
    "# if you print or view the contents of keys be sure to delete the cell!"
   ]
  },
  {
   "cell_type": "markdown",
   "metadata": {
    "deletable": false,
    "editable": false,
    "nbgrader": {
     "cell_type": "markdown",
     "checksum": "118d21c4ccbbf942c9f2707840908cca",
     "grade": false,
     "grade_id": "tweepy-auth-note",
     "locked": true,
     "schema_version": 2,
     "solution": false
    }
   },
   "source": [
    "This cell tests the Twitter authentication. It should run without errors or warnings and display your Twitter username."
   ]
  },
  {
   "cell_type": "code",
   "execution_count": 5,
   "metadata": {
    "deletable": false,
    "editable": false,
    "nbgrader": {
     "cell_type": "code",
     "checksum": "66806331fe1cb852ab300e98459cb2d4",
     "grade": false,
     "grade_id": "twitter-auth",
     "locked": true,
     "schema_version": 2,
     "solution": false
    }
   },
   "outputs": [
    {
     "name": "stdout",
     "output_type": "stream",
     "text": [
      "Your username is: realvinaymaruri\n"
     ]
    }
   ],
   "source": [
    "import tweepy\n",
    "from tweepy import TweepError\n",
    "import logging\n",
    "\n",
    "try:\n",
    "    auth = tweepy.OAuthHandler(keys[\"consumer_key\"], keys[\"consumer_secret\"])\n",
    "    auth.set_access_token(keys[\"access_token\"], keys[\"access_token_secret\"])\n",
    "    api = tweepy.API(auth)\n",
    "    print(\"Your username is:\", api.auth.get_username())\n",
    "except TweepError as e:\n",
    "    logging.warning(\"There was a Tweepy error. Double check your API keys and try again.\")\n",
    "    logging.warning(e)"
   ]
  },
  {
   "cell_type": "markdown",
   "metadata": {
    "deletable": false,
    "editable": false,
    "nbgrader": {
     "cell_type": "markdown",
     "checksum": "b738ef5c6ffad625b8d5a61b66719ad6",
     "grade": false,
     "grade_id": "q2",
     "locked": true,
     "schema_version": 2,
     "solution": false
    }
   },
   "source": [
    "## Question 2\n",
    "\n",
    "In the example below, we have loaded some tweets by @BerkeleyData.  Run it and read the code."
   ]
  },
  {
   "cell_type": "code",
   "execution_count": 6,
   "metadata": {
    "deletable": false,
    "editable": false,
    "nbgrader": {
     "cell_type": "code",
     "checksum": "3defce91d655ee59ae318cc20133476a",
     "grade": false,
     "grade_id": "load-berkeley-tweets",
     "locked": true,
     "schema_version": 2,
     "solution": false
    }
   },
   "outputs": [],
   "source": [
    "from pathlib import Path\n",
    "import json\n",
    "\n",
    "ds_tweets_save_path = \"BerkeleyData_recent_tweets.json\"\n",
    "# Guarding against attempts to download the data multiple\n",
    "# times:\n",
    "if not Path(ds_tweets_save_path).is_file():\n",
    "    # Getting as many recent tweets by @BerkeleyData as Twitter will let us have.\n",
    "    # We use tweet_mode='extended' so that Twitter gives us full 280 character tweets.\n",
    "    # This was a change introduced in September 2017.\n",
    "    \n",
    "    # The tweepy Cursor API actually returns \"sophisticated\" Status objects but we \n",
    "    # will use the basic Python dictionaries stored in the _json field. \n",
    "    example_tweets = [t._json for t in tweepy.Cursor(api.user_timeline, id=\"BerkeleyData\", \n",
    "                                             tweet_mode='extended').items()]\n",
    "    \n",
    "    # Saving the tweets to a json file on disk for future analysis\n",
    "    with open(ds_tweets_save_path, \"w\") as f:        \n",
    "        json.dump(example_tweets, f)\n",
    "\n",
    "# Re-loading the json file:\n",
    "with open(ds_tweets_save_path, \"r\") as f:\n",
    "    example_tweets = json.load(f)"
   ]
  },
  {
   "cell_type": "markdown",
   "metadata": {
    "deletable": false,
    "editable": false,
    "nbgrader": {
     "cell_type": "markdown",
     "checksum": "7dc93f6841b3ecdb826a8ff12ebb2030",
     "grade": false,
     "grade_id": "first-tweet-did-it-workk",
     "locked": true,
     "schema_version": 2,
     "solution": false
    }
   },
   "source": [
    "Assuming everything ran correctly you should be able to look at the first tweet by running the cell below.\n",
    "\n",
    "<span style=\"color:red\">\n",
    "**Warning** Do not attempt to view all the tweets in a notebook.  It will likely freeze your browser.  The following would be a **bad idea**:\n",
    "```python\n",
    "    pprint(example_tweets)\n",
    "```\n",
    "\n",
    "</span> "
   ]
  },
  {
   "cell_type": "code",
   "execution_count": 7,
   "metadata": {
    "deletable": false,
    "editable": false,
    "nbgrader": {
     "cell_type": "code",
     "checksum": "de383bb55c2e4e13c896209b5f7589c0",
     "grade": false,
     "grade_id": "first-tweet",
     "locked": true,
     "schema_version": 2,
     "solution": false
    }
   },
   "outputs": [
    {
     "name": "stdout",
     "output_type": "stream",
     "text": [
      "{'contributors': None,\n",
      " 'coordinates': None,\n",
      " 'created_at': 'Thu Oct 11 18:24:57 +0000 2018',\n",
      " 'display_text_range': [0, 239],\n",
      " 'entities': {'hashtags': [{'indices': [221, 239],\n",
      "                            'text': 'PoliticalPendulum'}],\n",
      "              'media': [{'display_url': 'pic.twitter.com/syRJJiCdwU',\n",
      "                         'expanded_url': 'https://twitter.com/BerkeleyData/status/1050452208104431616/photo/1',\n",
      "                         'id': 1050450189239037952,\n",
      "                         'id_str': '1050450189239037952',\n",
      "                         'indices': [240, 263],\n",
      "                         'media_url': 'http://pbs.twimg.com/media/DpPy4a_VsAAsFkB.jpg',\n",
      "                         'media_url_https': 'https://pbs.twimg.com/media/DpPy4a_VsAAsFkB.jpg',\n",
      "                         'sizes': {'large': {'h': 729,\n",
      "                                             'resize': 'fit',\n",
      "                                             'w': 1400},\n",
      "                                   'medium': {'h': 625,\n",
      "                                              'resize': 'fit',\n",
      "                                              'w': 1200},\n",
      "                                   'small': {'h': 354,\n",
      "                                             'resize': 'fit',\n",
      "                                             'w': 680},\n",
      "                                   'thumb': {'h': 150,\n",
      "                                             'resize': 'crop',\n",
      "                                             'w': 150}},\n",
      "                         'type': 'photo',\n",
      "                         'url': 'https://t.co/syRJJiCdwU'}],\n",
      "              'symbols': [],\n",
      "              'urls': [{'display_url': 'bit.ly/PoliticalPendu…',\n",
      "                        'expanded_url': 'http://bit.ly/PoliticalPendulum',\n",
      "                        'indices': [197, 220],\n",
      "                        'url': 'https://t.co/hxpyFJLXvc'}],\n",
      "              'user_mentions': []},\n",
      " 'extended_entities': {'media': [{'display_url': 'pic.twitter.com/syRJJiCdwU',\n",
      "                                  'expanded_url': 'https://twitter.com/BerkeleyData/status/1050452208104431616/photo/1',\n",
      "                                  'id': 1050450189239037952,\n",
      "                                  'id_str': '1050450189239037952',\n",
      "                                  'indices': [240, 263],\n",
      "                                  'media_url': 'http://pbs.twimg.com/media/DpPy4a_VsAAsFkB.jpg',\n",
      "                                  'media_url_https': 'https://pbs.twimg.com/media/DpPy4a_VsAAsFkB.jpg',\n",
      "                                  'sizes': {'large': {'h': 729,\n",
      "                                                      'resize': 'fit',\n",
      "                                                      'w': 1400},\n",
      "                                            'medium': {'h': 625,\n",
      "                                                       'resize': 'fit',\n",
      "                                                       'w': 1200},\n",
      "                                            'small': {'h': 354,\n",
      "                                                      'resize': 'fit',\n",
      "                                                      'w': 680},\n",
      "                                            'thumb': {'h': 150,\n",
      "                                                      'resize': 'crop',\n",
      "                                                      'w': 150}},\n",
      "                                  'type': 'photo',\n",
      "                                  'url': 'https://t.co/syRJJiCdwU'}]},\n",
      " 'favorite_count': 12,\n",
      " 'favorited': False,\n",
      " 'full_text': 'Political power in the United States tends to shift back and '\n",
      "              'forth between two parties, creating a political “pendulum.\" We '\n",
      "              'look at the timing of the pendulum and its speed and strength '\n",
      "              'over time: https://t.co/hxpyFJLXvc #PoliticalPendulum '\n",
      "              'https://t.co/syRJJiCdwU',\n",
      " 'geo': None,\n",
      " 'id': 1050452208104431616,\n",
      " 'id_str': '1050452208104431616',\n",
      " 'in_reply_to_screen_name': None,\n",
      " 'in_reply_to_status_id': None,\n",
      " 'in_reply_to_status_id_str': None,\n",
      " 'in_reply_to_user_id': None,\n",
      " 'in_reply_to_user_id_str': None,\n",
      " 'is_quote_status': False,\n",
      " 'lang': 'en',\n",
      " 'place': None,\n",
      " 'possibly_sensitive': False,\n",
      " 'retweet_count': 11,\n",
      " 'retweeted': False,\n",
      " 'source': '<a href=\"http://twitter.com\" rel=\"nofollow\">Twitter Web Client</a>',\n",
      " 'truncated': False,\n",
      " 'user': {'contributors_enabled': False,\n",
      "          'created_at': 'Thu Feb 28 14:37:26 +0000 2013',\n",
      "          'default_profile': False,\n",
      "          'default_profile_image': False,\n",
      "          'description': 'An online Master of Information and Data Science '\n",
      "                         '(MIDS) degree from the UC Berkeley School of '\n",
      "                         'Information. Learn more at: http://t.co/zf6gfBWovQ',\n",
      "          'entities': {'description': {'urls': [{'display_url': 'bit.ly/tBerkeleyData',\n",
      "                                                 'expanded_url': 'http://bit.ly/tBerkeleyData',\n",
      "                                                 'indices': [122, 144],\n",
      "                                                 'url': 'http://t.co/zf6gfBWovQ'}]},\n",
      "                       'url': {'urls': [{'display_url': 'datascience.berkeley.edu',\n",
      "                                         'expanded_url': 'http://datascience.berkeley.edu',\n",
      "                                         'indices': [0, 22],\n",
      "                                         'url': 'http://t.co/S79Ul3oCaa'}]}},\n",
      "          'favourites_count': 168,\n",
      "          'follow_request_sent': False,\n",
      "          'followers_count': 11759,\n",
      "          'following': False,\n",
      "          'friends_count': 412,\n",
      "          'geo_enabled': False,\n",
      "          'has_extended_profile': False,\n",
      "          'id': 1227698863,\n",
      "          'id_str': '1227698863',\n",
      "          'is_translation_enabled': False,\n",
      "          'is_translator': False,\n",
      "          'lang': 'en',\n",
      "          'listed_count': 485,\n",
      "          'location': 'Berkeley, CA',\n",
      "          'name': 'datascience@berkeley',\n",
      "          'notifications': False,\n",
      "          'profile_background_color': 'CCCCCC',\n",
      "          'profile_background_image_url': 'http://abs.twimg.com/images/themes/theme1/bg.png',\n",
      "          'profile_background_image_url_https': 'https://abs.twimg.com/images/themes/theme1/bg.png',\n",
      "          'profile_background_tile': False,\n",
      "          'profile_banner_url': 'https://pbs.twimg.com/profile_banners/1227698863/1502212054',\n",
      "          'profile_image_url': 'http://pbs.twimg.com/profile_images/894968224973897728/lI8iiF3J_normal.jpg',\n",
      "          'profile_image_url_https': 'https://pbs.twimg.com/profile_images/894968224973897728/lI8iiF3J_normal.jpg',\n",
      "          'profile_link_color': '5173B6',\n",
      "          'profile_sidebar_border_color': 'FFFFFF',\n",
      "          'profile_sidebar_fill_color': 'DDEEF6',\n",
      "          'profile_text_color': '333333',\n",
      "          'profile_use_background_image': True,\n",
      "          'protected': False,\n",
      "          'screen_name': 'BerkeleyData',\n",
      "          'statuses_count': 2404,\n",
      "          'time_zone': None,\n",
      "          'translator_type': 'none',\n",
      "          'url': 'http://t.co/S79Ul3oCaa',\n",
      "          'utc_offset': None,\n",
      "          'verified': False}}\n"
     ]
    }
   ],
   "source": [
    "# Looking at one tweet object, which has type Status: \n",
    "from pprint import pprint # ...to get a more easily-readable view.\n",
    "pprint(example_tweets[0])"
   ]
  },
  {
   "cell_type": "markdown",
   "metadata": {
    "collapsed": true,
    "deletable": false,
    "editable": false,
    "nbgrader": {
     "cell_type": "markdown",
     "checksum": "43ce65ddda5bb1543856611dd2c536f9",
     "grade": false,
     "grade_id": "q2a",
     "locked": true,
     "schema_version": 2,
     "solution": false
    }
   },
   "source": [
    "## Question 2a\n",
    "\n",
    "### What you need to do. \n",
    "\n",
    "Re-factor the above code fragment into reusable snippets below.  You should not need to make major modifications; this is mostly an exercise in understanding the above code block. "
   ]
  },
  {
   "cell_type": "code",
   "execution_count": 8,
   "metadata": {
    "deletable": false,
    "nbgrader": {
     "cell_type": "code",
     "checksum": "bd6de9d61c340450539455afd0f8fdf3",
     "grade": false,
     "grade_id": "load-keys",
     "locked": false,
     "schema_version": 2,
     "solution": true
    },
    "tags": [
     "student"
    ]
   },
   "outputs": [],
   "source": [
    "def load_keys(path):\n",
    "    \"\"\"Loads your Twitter authentication keys from a file on disk.\n",
    "    \n",
    "    Args:\n",
    "        path (str): The path to your key file.  The file should\n",
    "          be in JSON format and look like this (but filled in):\n",
    "            {\n",
    "                \"consumer_key\": \"<your Consumer Key here>\",\n",
    "                \"consumer_secret\":  \"<your Consumer Secret here>\",\n",
    "                \"access_token\": \"<your Access Token here>\",\n",
    "                \"access_token_secret\": \"<your Access Token Secret here>\"\n",
    "            }\n",
    "    \n",
    "    Returns:\n",
    "        dict: A dictionary mapping key names (like \"consumer_key\") to\n",
    "          key values.\"\"\"\n",
    "    with open(path, \"r\") as x:\n",
    "        temp = json.load(x)\n",
    "    return temp"
   ]
  },
  {
   "cell_type": "code",
   "execution_count": 9,
   "metadata": {
    "deletable": false,
    "nbgrader": {
     "cell_type": "code",
     "checksum": "76ff200bf064ab3f5c457bc4725d8cd8",
     "grade": false,
     "grade_id": "download-recent-tweets",
     "locked": false,
     "schema_version": 2,
     "solution": true
    },
    "tags": [
     "student"
    ]
   },
   "outputs": [],
   "source": [
    "def download_recent_tweets_by_user(user_account_name, keys):\n",
    "    \"\"\"Downloads tweets by one Twitter user.\n",
    "\n",
    "    Args:\n",
    "        user_account_name (str): The name of the Twitter account\n",
    "          whose tweets will be downloaded.\n",
    "        keys (dict): A Python dictionary with Twitter authentication\n",
    "          keys (strings), like this (but filled in):\n",
    "            {\n",
    "                \"consumer_key\": \"<your Consumer Key here>\",\n",
    "                \"consumer_secret\":  \"<your Consumer Secret here>\",\n",
    "                \"access_token\": \"<your Access Token here>\",\n",
    "                \"access_token_secret\": \"<your Access Token Secret here>\"\n",
    "            }\n",
    "\n",
    "    Returns:\n",
    "        list: A list of Dictonary objects, each representing one tweet.\"\"\"\n",
    "    auth = tweepy.OAuthHandler(keys[\"consumer_key\"], keys[\"consumer_secret\"])\n",
    "    auth.set_access_token(keys[\"access_token\"], keys[\"access_token_secret\"])\n",
    "    api = tweepy.API(auth)\n",
    "    tweets = [t._json for t in tweepy.Cursor(api.user_timeline, id=user_account_name, tweet_mode='extended').items()]\n",
    "    return tweets"
   ]
  },
  {
   "cell_type": "code",
   "execution_count": 10,
   "metadata": {
    "deletable": false,
    "nbgrader": {
     "cell_type": "code",
     "checksum": "75d788899e9212031d95685b7ebb4505",
     "grade": false,
     "grade_id": "save-tweets",
     "locked": false,
     "schema_version": 2,
     "solution": true
    },
    "tags": [
     "student"
    ]
   },
   "outputs": [],
   "source": [
    "def save_tweets(tweets, path):\n",
    "    \"\"\"Saves a list of tweets to a file in the local filesystem.\n",
    "    \n",
    "    This function makes no guarantee about the format of the saved\n",
    "    tweets, **except** that calling load_tweets(path) after\n",
    "    save_tweets(tweets, path) will produce the same list of tweets\n",
    "    and that only the file at the given path is used to store the\n",
    "    tweets.  (That means you can implement this function however\n",
    "    you want, as long as saving and loading works!)\n",
    "\n",
    "    Args:\n",
    "        tweets (list): A list of tweet objects (of type Dictionary) to\n",
    "          be saved.\n",
    "        path (str): The place where the tweets will be saved.\n",
    "\n",
    "    Returns:\n",
    "        None\"\"\"\n",
    "    with open(path, \"w\") as f:        \n",
    "        json.dump(tweets, f)"
   ]
  },
  {
   "cell_type": "code",
   "execution_count": 11,
   "metadata": {
    "deletable": false,
    "nbgrader": {
     "cell_type": "code",
     "checksum": "31f5a74addf3b0211c65b0220160568c",
     "grade": false,
     "grade_id": "load-tweets",
     "locked": false,
     "schema_version": 2,
     "solution": true
    },
    "tags": [
     "student"
    ]
   },
   "outputs": [],
   "source": [
    "def load_tweets(path):\n",
    "    \"\"\"Loads tweets that have previously been saved.\n",
    "    \n",
    "    Calling load_tweets(path) after save_tweets(tweets, path)\n",
    "    will produce the same list of tweets.\n",
    "    \n",
    "    Args:\n",
    "        path (str): The place where the tweets were be saved.\n",
    "\n",
    "    Returns:\n",
    "        list: A list of Dictionary objects, each representing one tweet.\"\"\"\n",
    "    with open(path, \"r\") as f:\n",
    "        e_tweets = json.load(f)\n",
    "    return e_tweets"
   ]
  },
  {
   "cell_type": "code",
   "execution_count": 12,
   "metadata": {
    "deletable": false,
    "nbgrader": {
     "cell_type": "code",
     "checksum": "2c2633d5128de6e4aadf225aa291118d",
     "grade": false,
     "grade_id": "get-tweets-with-cache",
     "locked": false,
     "schema_version": 2,
     "solution": true
    },
    "tags": [
     "student"
    ]
   },
   "outputs": [],
   "source": [
    "def get_tweets_with_cache(user_account_name, keys_path):\n",
    "    \"\"\"Get recent tweets from one user, loading from a disk cache if available.\n",
    "    \n",
    "    The first time you call this function, it will download tweets by\n",
    "    a user.  Subsequent calls will not re-download the tweets; instead\n",
    "    they'll load the tweets from a save file in your local filesystem.\n",
    "    All this is done using the functions you defined in the previous cell.\n",
    "    This has benefits and drawbacks that often appear when you cache data:\n",
    "    \n",
    "    +: Using this function will prevent extraneous usage of the Twitter API.\n",
    "    +: You will get your data much faster after the first time it's called.\n",
    "    -: If you really want to re-download the tweets (say, to get newer ones,\n",
    "       or because you screwed up something in the previous cell and your\n",
    "       tweets aren't what you wanted), you'll have to find the save file\n",
    "       (which will look like <something>_recent_tweets.pkl) and delete it.\n",
    "    \n",
    "    Args:\n",
    "        user_account_name (str): The Twitter handle of a user, without the @.\n",
    "        keys_path (str): The path to a JSON keys file in your filesystem.\n",
    "    \"\"\"\n",
    "    keys = load_keys(keys_path)\n",
    "    new_save_path = \"Trump.json\"\n",
    "    if not Path(new_save_path).is_file():\n",
    "        e_tweets = download_recent_tweets_by_user(user_account_name, keys)\n",
    "        save_tweets(e_tweets, new_save_path)\n",
    "        return e_tweets\n",
    "    else:\n",
    "        return load_tweets(new_save_path)"
   ]
  },
  {
   "cell_type": "markdown",
   "metadata": {
    "deletable": false,
    "editable": false,
    "nbgrader": {
     "cell_type": "markdown",
     "checksum": "a2ddaff40134b8cf8f582c1df5db3883",
     "grade": false,
     "grade_id": "about-to-get-real",
     "locked": true,
     "schema_version": 2,
     "solution": false
    }
   },
   "source": [
    "If everything was implemented correctly you should be able to obtain roughly the last 3000 tweets by the `realdonaldtrump`.  (This may take a few minutes)"
   ]
  },
  {
   "cell_type": "code",
   "execution_count": 13,
   "metadata": {
    "deletable": false,
    "editable": false,
    "nbgrader": {
     "cell_type": "code",
     "checksum": "8ac3bb2120526571535abbe412929bfd",
     "grade": false,
     "grade_id": "trump-tweets",
     "locked": true,
     "schema_version": 2,
     "solution": false
    }
   },
   "outputs": [
    {
     "name": "stdout",
     "output_type": "stream",
     "text": [
      "Number of tweets downloaded: 3202\n"
     ]
    }
   ],
   "source": [
    "# When you are done, run this cell to load @realdonaldtrump's tweets.\n",
    "# Note the function get_tweets_with_cache.  You may find it useful\n",
    "# later.\n",
    "trump_tweets = get_tweets_with_cache(\"realdonaldtrump\", key_file)\n",
    "print(\"Number of tweets downloaded:\", len(trump_tweets))"
   ]
  },
  {
   "cell_type": "code",
   "execution_count": 14,
   "metadata": {
    "deletable": false,
    "editable": false,
    "nbgrader": {
     "cell_type": "code",
     "checksum": "afaf66b3188a4752b0271beed957ef6c",
     "grade": true,
     "grade_id": "trump-tweets-test",
     "locked": true,
     "points": 1,
     "schema_version": 2,
     "solution": false
    }
   },
   "outputs": [],
   "source": [
    "assert 2000 <= len(trump_tweets) <= 4000"
   ]
  },
  {
   "cell_type": "markdown",
   "metadata": {
    "deletable": false,
    "editable": false,
    "nbgrader": {
     "cell_type": "markdown",
     "checksum": "e991a5d45fd0eeebe8b1c6371a4019f9",
     "grade": false,
     "grade_id": "q2b",
     "locked": true,
     "schema_version": 2,
     "solution": false
    }
   },
   "source": [
    "### Question 2b\n",
    "\n",
    "We are limited to how many tweets we can download.  In what month is the oldest tweet from Trump?"
   ]
  },
  {
   "cell_type": "code",
   "execution_count": 19,
   "metadata": {
    "deletable": false,
    "nbgrader": {
     "cell_type": "code",
     "checksum": "1b46b55114772326e527b1dd67a17a8e",
     "grade": false,
     "grade_id": "oldest-month-question",
     "locked": false,
     "schema_version": 2,
     "solution": true
    }
   },
   "outputs": [
    {
     "data": {
      "text/plain": [
       "10"
      ]
     },
     "execution_count": 19,
     "metadata": {},
     "output_type": "execute_result"
    }
   ],
   "source": [
    "last_object = trump_tweets[3201]\n",
    "oldest_month = 10\n",
    "oldest_month"
   ]
  },
  {
   "cell_type": "code",
   "execution_count": null,
   "metadata": {
    "deletable": false,
    "editable": false,
    "nbgrader": {
     "cell_type": "code",
     "checksum": "a1bc7ba95e8b2c50def1081519525604",
     "grade": true,
     "grade_id": "oldest-month-answer",
     "locked": true,
     "points": 1,
     "schema_version": 2,
     "solution": false
    }
   },
   "outputs": [],
   "source": []
  },
  {
   "cell_type": "markdown",
   "metadata": {
    "deletable": false,
    "editable": false,
    "nbgrader": {
     "cell_type": "markdown",
     "checksum": "06c75046cf9899a309ab35c11c403965",
     "grade": false,
     "grade_id": "q3",
     "locked": true,
     "schema_version": 2,
     "solution": false
    }
   },
   "source": [
    "\n",
    "## Question 3\n",
    "\n",
    "\n",
    "**IMPORTANT! PLEASE READ**\n",
    "\n",
    "Unfortunately, Twitter prevent us from going further back in time using the public APIs.  Fortunately, we have a snapshot of earlier tweets that we can combine with our new data.  \n",
    "\n",
    "We will again use the `fetch_and_cache` utility to download the dataset. "
   ]
  },
  {
   "cell_type": "code",
   "execution_count": 20,
   "metadata": {
    "deletable": false,
    "editable": false,
    "nbgrader": {
     "cell_type": "code",
     "checksum": "4ac0f2bbd264f78c5709e04bfaee390d",
     "grade": false,
     "grade_id": "download-data",
     "locked": true,
     "schema_version": 2,
     "solution": false
    }
   },
   "outputs": [
    {
     "name": "stdout",
     "output_type": "stream",
     "text": [
      "Using version already downloaded: Fri Oct 19 01:54:14 2018\n",
      "MD5 hash of file: b6e33874de91d1a40207cdf9f9b51a09\n",
      "Located at data/old_trump_tweets.json.zip\n"
     ]
    }
   ],
   "source": [
    "# Download the dataset\n",
    "from utils import fetch_and_cache\n",
    "data_url = 'http://www.ds100.org/fa18/assets/datasets/old_trump_tweets.json.zip'\n",
    "file_name = 'old_trump_tweets.json.zip'\n",
    "\n",
    "dest_path = fetch_and_cache(data_url=data_url, file=file_name)\n",
    "print(f'Located at {dest_path}')"
   ]
  },
  {
   "cell_type": "markdown",
   "metadata": {
    "deletable": false,
    "editable": false,
    "nbgrader": {
     "cell_type": "markdown",
     "checksum": "da803030a1c84a39afbb134dfb8b19fd",
     "grade": false,
     "grade_id": "loading-data-inst",
     "locked": true,
     "schema_version": 2,
     "solution": false
    }
   },
   "source": [
    "Finally, we we will load the tweets directly from the compressed file without decompressing it first."
   ]
  },
  {
   "cell_type": "code",
   "execution_count": 21,
   "metadata": {
    "deletable": false,
    "editable": false,
    "nbgrader": {
     "cell_type": "code",
     "checksum": "2f84519e987875b6b57d9cc5bae460cf",
     "grade": false,
     "grade_id": "loading-old-tweets",
     "locked": true,
     "schema_version": 2,
     "solution": false
    }
   },
   "outputs": [],
   "source": [
    "my_zip = zipfile.ZipFile(dest_path, 'r')\n",
    "with my_zip.open(\"old_trump_tweets.json\", \"r\") as f:\n",
    "    old_trump_tweets = json.load(f)"
   ]
  },
  {
   "cell_type": "markdown",
   "metadata": {
    "deletable": false,
    "editable": false,
    "nbgrader": {
     "cell_type": "markdown",
     "checksum": "8661fc27e5f1cdfce041efd3896ae838",
     "grade": false,
     "grade_id": "formatting-note",
     "locked": true,
     "schema_version": 2,
     "solution": false
    }
   },
   "source": [
    "This data is formatted identically to the recent tweets we just downloaded:"
   ]
  },
  {
   "cell_type": "code",
   "execution_count": 22,
   "metadata": {
    "deletable": false,
    "editable": false,
    "nbgrader": {
     "cell_type": "code",
     "checksum": "30d8ef8fa2c1b900a48779e6cf0320b6",
     "grade": false,
     "grade_id": "pprint-old-tweets",
     "locked": true,
     "schema_version": 2,
     "solution": false
    }
   },
   "outputs": [
    {
     "name": "stdout",
     "output_type": "stream",
     "text": [
      "{'contributors': None,\n",
      " 'coordinates': None,\n",
      " 'created_at': 'Wed Oct 12 14:00:48 +0000 2016',\n",
      " 'entities': {'hashtags': [{'indices': [23, 38], 'text': 'CrookedHillary'}],\n",
      "              'media': [{'display_url': 'pic.twitter.com/wjsl8ITVvk',\n",
      "                         'expanded_url': 'https://twitter.com/realDonaldTrump/status/786204978629185536/video/1',\n",
      "                         'id': 786204885318561792,\n",
      "                         'id_str': '786204885318561792',\n",
      "                         'indices': [39, 62],\n",
      "                         'media_url': 'http://pbs.twimg.com/ext_tw_video_thumb/786204885318561792/pu/img/XqMoixLm83FzkAbn.jpg',\n",
      "                         'media_url_https': 'https://pbs.twimg.com/ext_tw_video_thumb/786204885318561792/pu/img/XqMoixLm83FzkAbn.jpg',\n",
      "                         'sizes': {'large': {'h': 576,\n",
      "                                             'resize': 'fit',\n",
      "                                             'w': 1024},\n",
      "                                   'medium': {'h': 338,\n",
      "                                              'resize': 'fit',\n",
      "                                              'w': 600},\n",
      "                                   'small': {'h': 191,\n",
      "                                             'resize': 'fit',\n",
      "                                             'w': 340},\n",
      "                                   'thumb': {'h': 150,\n",
      "                                             'resize': 'crop',\n",
      "                                             'w': 150}},\n",
      "                         'type': 'photo',\n",
      "                         'url': 'https://t.co/wjsl8ITVvk'}],\n",
      "              'symbols': [],\n",
      "              'urls': [],\n",
      "              'user_mentions': []},\n",
      " 'extended_entities': {'media': [{'additional_media_info': {'monetizable': False},\n",
      "                                  'display_url': 'pic.twitter.com/wjsl8ITVvk',\n",
      "                                  'expanded_url': 'https://twitter.com/realDonaldTrump/status/786204978629185536/video/1',\n",
      "                                  'id': 786204885318561792,\n",
      "                                  'id_str': '786204885318561792',\n",
      "                                  'indices': [39, 62],\n",
      "                                  'media_url': 'http://pbs.twimg.com/ext_tw_video_thumb/786204885318561792/pu/img/XqMoixLm83FzkAbn.jpg',\n",
      "                                  'media_url_https': 'https://pbs.twimg.com/ext_tw_video_thumb/786204885318561792/pu/img/XqMoixLm83FzkAbn.jpg',\n",
      "                                  'sizes': {'large': {'h': 576,\n",
      "                                                      'resize': 'fit',\n",
      "                                                      'w': 1024},\n",
      "                                            'medium': {'h': 338,\n",
      "                                                       'resize': 'fit',\n",
      "                                                       'w': 600},\n",
      "                                            'small': {'h': 191,\n",
      "                                                      'resize': 'fit',\n",
      "                                                      'w': 340},\n",
      "                                            'thumb': {'h': 150,\n",
      "                                                      'resize': 'crop',\n",
      "                                                      'w': 150}},\n",
      "                                  'type': 'video',\n",
      "                                  'url': 'https://t.co/wjsl8ITVvk',\n",
      "                                  'video_info': {'aspect_ratio': [16, 9],\n",
      "                                                 'duration_millis': 30106,\n",
      "                                                 'variants': [{'bitrate': 832000,\n",
      "                                                               'content_type': 'video/mp4',\n",
      "                                                               'url': 'https://video.twimg.com/ext_tw_video/786204885318561792/pu/vid/640x360/6vt24D3ZQSvYuDqe.mp4'},\n",
      "                                                              {'bitrate': 2176000,\n",
      "                                                               'content_type': 'video/mp4',\n",
      "                                                               'url': 'https://video.twimg.com/ext_tw_video/786204885318561792/pu/vid/1280x720/rSbgQdvR9TPIlRWr.mp4'},\n",
      "                                                              {'bitrate': 320000,\n",
      "                                                               'content_type': 'video/mp4',\n",
      "                                                               'url': 'https://video.twimg.com/ext_tw_video/786204885318561792/pu/vid/320x180/JuNJDqr1KHqoP83N.mp4'},\n",
      "                                                              {'content_type': 'application/x-mpegURL',\n",
      "                                                               'url': 'https://video.twimg.com/ext_tw_video/786204885318561792/pu/pl/IugUNii3a7lmjApS.m3u8'}]}}]},\n",
      " 'favorite_count': 42242,\n",
      " 'favorited': False,\n",
      " 'geo': None,\n",
      " 'id': 786204978629185536,\n",
      " 'id_str': '786204978629185536',\n",
      " 'in_reply_to_screen_name': None,\n",
      " 'in_reply_to_status_id': None,\n",
      " 'in_reply_to_status_id_str': None,\n",
      " 'in_reply_to_user_id': None,\n",
      " 'in_reply_to_user_id_str': None,\n",
      " 'is_quote_status': False,\n",
      " 'lang': 'en',\n",
      " 'place': {'attributes': {},\n",
      "           'bounding_box': {'coordinates': [[[-87.634643, 24.396308],\n",
      "                                             [-79.974307, 24.396308],\n",
      "                                             [-79.974307, 31.001056],\n",
      "                                             [-87.634643, 31.001056]]],\n",
      "                            'type': 'Polygon'},\n",
      "           'contained_within': [],\n",
      "           'country': 'United States',\n",
      "           'country_code': 'US',\n",
      "           'full_name': 'Florida, USA',\n",
      "           'id': '4ec01c9dbc693497',\n",
      "           'name': 'Florida',\n",
      "           'place_type': 'admin',\n",
      "           'url': 'https://api.twitter.com/1.1/geo/id/4ec01c9dbc693497.json'},\n",
      " 'possibly_sensitive': False,\n",
      " 'retweet_count': 24915,\n",
      " 'retweeted': False,\n",
      " 'source': '<a href=\"http://twitter.com/download/iphone\" '\n",
      "           'rel=\"nofollow\">Twitter for iPhone</a>',\n",
      " 'text': 'PAY TO PLAY POLITICS. \\n#CrookedHillary https://t.co/wjsl8ITVvk',\n",
      " 'truncated': False,\n",
      " 'user': {'contributors_enabled': False,\n",
      "          'created_at': 'Wed Mar 18 13:46:38 +0000 2009',\n",
      "          'default_profile': False,\n",
      "          'default_profile_image': False,\n",
      "          'description': '45th President of the United States of America🇺🇸',\n",
      "          'entities': {'description': {'urls': []}},\n",
      "          'favourites_count': 12,\n",
      "          'follow_request_sent': False,\n",
      "          'followers_count': 35307313,\n",
      "          'following': False,\n",
      "          'friends_count': 45,\n",
      "          'geo_enabled': True,\n",
      "          'has_extended_profile': False,\n",
      "          'id': 25073877,\n",
      "          'id_str': '25073877',\n",
      "          'is_translation_enabled': True,\n",
      "          'is_translator': False,\n",
      "          'lang': 'en',\n",
      "          'listed_count': 74225,\n",
      "          'location': 'Washington, DC',\n",
      "          'name': 'Donald J. Trump',\n",
      "          'notifications': False,\n",
      "          'profile_background_color': '6D5C18',\n",
      "          'profile_background_image_url': 'http://pbs.twimg.com/profile_background_images/530021613/trump_scotland__43_of_70_cc.jpg',\n",
      "          'profile_background_image_url_https': 'https://pbs.twimg.com/profile_background_images/530021613/trump_scotland__43_of_70_cc.jpg',\n",
      "          'profile_background_tile': True,\n",
      "          'profile_banner_url': 'https://pbs.twimg.com/profile_banners/25073877/1501916634',\n",
      "          'profile_image_url': 'http://pbs.twimg.com/profile_images/874276197357596672/kUuht00m_normal.jpg',\n",
      "          'profile_image_url_https': 'https://pbs.twimg.com/profile_images/874276197357596672/kUuht00m_normal.jpg',\n",
      "          'profile_link_color': '1B95E0',\n",
      "          'profile_sidebar_border_color': 'BDDCAD',\n",
      "          'profile_sidebar_fill_color': 'C5CEC0',\n",
      "          'profile_text_color': '333333',\n",
      "          'profile_use_background_image': True,\n",
      "          'protected': False,\n",
      "          'screen_name': 'realDonaldTrump',\n",
      "          'statuses_count': 35480,\n",
      "          'time_zone': 'Eastern Time (US & Canada)',\n",
      "          'translator_type': 'regular',\n",
      "          'url': None,\n",
      "          'utc_offset': -14400,\n",
      "          'verified': True}}\n"
     ]
    }
   ],
   "source": [
    "pprint(old_trump_tweets[0])"
   ]
  },
  {
   "cell_type": "markdown",
   "metadata": {
    "deletable": false,
    "editable": false,
    "nbgrader": {
     "cell_type": "markdown",
     "checksum": "15f652a6c9d0626c82b34be4253b2333",
     "grade": false,
     "grade_id": "listing-keys-inst",
     "locked": true,
     "schema_version": 2,
     "solution": false
    }
   },
   "source": [
    "As a dictionary we can also list the keys:"
   ]
  },
  {
   "cell_type": "code",
   "execution_count": 23,
   "metadata": {
    "deletable": false,
    "editable": false,
    "nbgrader": {
     "cell_type": "code",
     "checksum": "c88eaf1ba38e6c52151ad6a2922216c0",
     "grade": false,
     "grade_id": "listing-keys",
     "locked": true,
     "schema_version": 2,
     "solution": false
    }
   },
   "outputs": [
    {
     "data": {
      "text/plain": [
       "dict_keys(['created_at', 'id', 'id_str', 'text', 'truncated', 'entities', 'extended_entities', 'source', 'in_reply_to_status_id', 'in_reply_to_status_id_str', 'in_reply_to_user_id', 'in_reply_to_user_id_str', 'in_reply_to_screen_name', 'user', 'geo', 'coordinates', 'place', 'contributors', 'is_quote_status', 'retweet_count', 'favorite_count', 'favorited', 'retweeted', 'possibly_sensitive', 'lang'])"
      ]
     },
     "execution_count": 23,
     "metadata": {},
     "output_type": "execute_result"
    }
   ],
   "source": [
    "old_trump_tweets[0].keys()"
   ]
  },
  {
   "cell_type": "markdown",
   "metadata": {},
   "source": [
    "Since we're giving you a zipfile of old tweets, you may wonder why we didn't just give you a zipfile of ALL tweets and save you the trouble of creating a Twitter developer account. The reason is that we wanted you to see what it's like to collect data from the real world on your own. It can be a pain!"
   ]
  },
  {
   "cell_type": "markdown",
   "metadata": {
    "deletable": false,
    "editable": false,
    "nbgrader": {
     "cell_type": "markdown",
     "checksum": "b40bfbf5e74ba5af630326ab7a77c98c",
     "grade": false,
     "grade_id": "q3a",
     "locked": true,
     "schema_version": 2,
     "solution": false
    }
   },
   "source": [
    "### Question 3a\n",
    "\n",
    "Merge the `old_trump_tweets` and the `trump_tweets` we downloaded from twitter into one giant list of tweets. \n",
    "\n",
    "**Important:** There may be some overlap so be sure to eliminate duplicate tweets.  \n",
    "**Hint:** the `id` of a tweet is always unique."
   ]
  },
  {
   "cell_type": "code",
   "execution_count": 25,
   "metadata": {
    "deletable": false,
    "nbgrader": {
     "cell_type": "code",
     "checksum": "cfff2cf8e110d51cb3dbb7f5086b9be4",
     "grade": false,
     "grade_id": "q3a-answer",
     "locked": false,
     "schema_version": 2,
     "solution": true
    }
   },
   "outputs": [],
   "source": [
    "all_tweets = [z for z in trump_tweets]\n",
    "lst = [y['id'] for y in all_tweets]\n",
    "for x in old_trump_tweets:\n",
    "    if x['id'] in lst:\n",
    "        pass\n",
    "    else:\n",
    "        all_tweets.append(x)"
   ]
  },
  {
   "cell_type": "code",
   "execution_count": 26,
   "metadata": {},
   "outputs": [
    {
     "name": "stdout",
     "output_type": "stream",
     "text": [
      "9124\n",
      "3202\n",
      "6738\n"
     ]
    }
   ],
   "source": [
    "print(len(all_tweets))\n",
    "print(len(trump_tweets))\n",
    "print(len(old_trump_tweets))"
   ]
  },
  {
   "cell_type": "code",
   "execution_count": 27,
   "metadata": {
    "deletable": false,
    "editable": false,
    "nbgrader": {
     "cell_type": "code",
     "checksum": "7a21da10aa86da615b340c8edb2973c3",
     "grade": true,
     "grade_id": "q3a-test",
     "locked": true,
     "points": 2,
     "schema_version": 2,
     "solution": false
    },
    "scrolled": true
   },
   "outputs": [],
   "source": [
    "assert len(all_tweets) > len(trump_tweets)\n",
    "assert len(all_tweets) > len(old_trump_tweets)"
   ]
  },
  {
   "cell_type": "markdown",
   "metadata": {
    "deletable": false,
    "editable": false,
    "nbgrader": {
     "cell_type": "markdown",
     "checksum": "532cecf04260fcadca43ce63bf296d5d",
     "grade": false,
     "grade_id": "q3b",
     "locked": true,
     "schema_version": 2,
     "solution": false
    }
   },
   "source": [
    "### Question 3b\n",
    "\n",
    "Construct a DataFrame called `trump` containing all the tweets stored in `all_tweets`. The index of the dataframe should be the ID of each tweet (looks something like `907698529606541312`). It should have these columns:\n",
    "\n",
    "- `time`: The time the tweet was created encoded as a datetime object. (Use `pd.to_datetime` to encode the timestamp.)\n",
    "- `source`: The source device of the tweet.\n",
    "- `text`: The text of the tweet.\n",
    "- `retweet_count`: The retweet count of the tweet. \n",
    "\n",
    "Finally, **the resulting dataframe should be sorted by the index.**\n",
    "\n",
    "**Warning:** *Some tweets will store the text in the `text` field and other will use the `full_text` field.*"
   ]
  },
  {
   "cell_type": "code",
   "execution_count": 28,
   "metadata": {},
   "outputs": [],
   "source": [
    "time = [y['created_at'] for y in all_tweets]\n",
    "source = [y['source'] for y in all_tweets]\n",
    "text = [y.get('text') if y.get('text') != None else y.get('full_text') for y in all_tweets]\n",
    "retweet_count = [y['retweet_count'] for y in all_tweets]\n",
    "i_d = [y['id'] for y in all_tweets]"
   ]
  },
  {
   "cell_type": "code",
   "execution_count": 29,
   "metadata": {
    "deletable": false,
    "nbgrader": {
     "cell_type": "code",
     "checksum": "dbbe93f4346b0c4ce93681c2c7d06078",
     "grade": false,
     "grade_id": "q3b-answer",
     "locked": false,
     "schema_version": 2,
     "solution": true
    },
    "tags": [
     "student"
    ]
   },
   "outputs": [],
   "source": [
    "trump = pd.DataFrame(data = all_tweets, index = i_d, columns = ['time', 'source', 'text', 'retweet_count'])\n",
    "trump['time'] = pd.to_datetime(time)\n",
    "trump['source'] = source\n",
    "trump['text'] = text\n",
    "trump['retweet_count'] = retweet_count"
   ]
  },
  {
   "cell_type": "code",
   "execution_count": 30,
   "metadata": {
    "deletable": false,
    "editable": false,
    "nbgrader": {
     "cell_type": "code",
     "checksum": "2dd08a7053daa04e9b2763d40dc635da",
     "grade": true,
     "grade_id": "q3b-tests",
     "locked": true,
     "points": 2,
     "schema_version": 2,
     "solution": false
    },
    "tags": [
     "test",
     "q03"
    ]
   },
   "outputs": [],
   "source": [
    "assert isinstance(trump, pd.DataFrame)\n",
    "assert trump.shape[0] < 11000\n",
    "assert trump.shape[1] >= 4\n",
    "assert 831846101179314177 in trump.index\n",
    "assert 753063644578144260 in trump.index\n",
    "assert all(col in trump.columns for col in ['time', 'source', 'text', 'retweet_count'])\n",
    "# If you fail these tests, you probably tried to use __dict__ or _json to read in the tweets\n",
    "assert np.sometrue([('Twitter for iPhone' in s) for s in trump['source'].unique()])\n",
    "assert trump['time'].dtype == np.dtype('<M8[ns]')\n",
    "assert trump['text'].dtype == np.dtype('O')\n",
    "assert trump['retweet_count'].dtype == np.dtype('int64')"
   ]
  },
  {
   "cell_type": "code",
   "execution_count": 31,
   "metadata": {},
   "outputs": [
    {
     "data": {
      "text/html": [
       "<div>\n",
       "<style scoped>\n",
       "    .dataframe tbody tr th:only-of-type {\n",
       "        vertical-align: middle;\n",
       "    }\n",
       "\n",
       "    .dataframe tbody tr th {\n",
       "        vertical-align: top;\n",
       "    }\n",
       "\n",
       "    .dataframe thead th {\n",
       "        text-align: right;\n",
       "    }\n",
       "</style>\n",
       "<table border=\"1\" class=\"dataframe\">\n",
       "  <thead>\n",
       "    <tr style=\"text-align: right;\">\n",
       "      <th></th>\n",
       "      <th>time</th>\n",
       "      <th>source</th>\n",
       "      <th>text</th>\n",
       "      <th>retweet_count</th>\n",
       "    </tr>\n",
       "  </thead>\n",
       "  <tbody>\n",
       "    <tr>\n",
       "      <th>1053076069564071936</th>\n",
       "      <td>2018-10-19 00:11:14</td>\n",
       "      <td>&lt;a href=\"http://twitter.com/download/iphone\" rel=\"nofollow\"&gt;Twitter for iPhone&lt;/a&gt;</td>\n",
       "      <td>The only thing keeping Tester alive is he has millions and millions of dollars from outside liberals and leftists, who couldn’t care less about our Country!</td>\n",
       "      <td>6240</td>\n",
       "    </tr>\n",
       "    <tr>\n",
       "      <th>1053074465150578688</th>\n",
       "      <td>2018-10-19 00:04:52</td>\n",
       "      <td>&lt;a href=\"http://twitter.com/download/iphone\" rel=\"nofollow\"&gt;Twitter for iPhone&lt;/a&gt;</td>\n",
       "      <td>Will be landing soon. Looking forward to seeing our next Senator from Montana, Matt Rosendale. He will represent our Country well, far better than Jon Tester who will vote with Cryin’ Chuck Schumer and Nancy Pelosi - never with us!</td>\n",
       "      <td>5987</td>\n",
       "    </tr>\n",
       "    <tr>\n",
       "      <th>1053070661302669312</th>\n",
       "      <td>2018-10-18 23:49:45</td>\n",
       "      <td>&lt;a href=\"http://twitter.com/download/iphone\" rel=\"nofollow\"&gt;Twitter for iPhone&lt;/a&gt;</td>\n",
       "      <td>Prime Minister @AbeShinzo of Japan has been working with me to help balance out the one-sided Trade with Japan. These are some of the investments they are making in our Country - just the beginning! https://t.co/ib2yB3Akkt</td>\n",
       "      <td>5388</td>\n",
       "    </tr>\n",
       "    <tr>\n",
       "      <th>1053056054295113728</th>\n",
       "      <td>2018-10-18 22:51:42</td>\n",
       "      <td>&lt;a href=\"http://twitter.com/download/iphone\" rel=\"nofollow\"&gt;Twitter for iPhone&lt;/a&gt;</td>\n",
       "      <td>Thank you Mexico, we look forward to working with you! https://t.co/wf7sE0DHFT</td>\n",
       "      <td>11804</td>\n",
       "    </tr>\n",
       "    <tr>\n",
       "      <th>1053033702253424640</th>\n",
       "      <td>2018-10-18 21:22:53</td>\n",
       "      <td>&lt;a href=\"http://twitter.com/download/iphone\" rel=\"nofollow\"&gt;Twitter for iPhone&lt;/a&gt;</td>\n",
       "      <td>Look forward to being there. Something’s happening! #MAGA https://t.co/Cev7giQexE</td>\n",
       "      <td>9299</td>\n",
       "    </tr>\n",
       "    <tr>\n",
       "      <th>1053013864244219904</th>\n",
       "      <td>2018-10-18 20:04:03</td>\n",
       "      <td>&lt;a href=\"http://twitter.com/download/iphone\" rel=\"nofollow\"&gt;Twitter for iPhone&lt;/a&gt;</td>\n",
       "      <td>Can you believe this, and what Democrats are allowing to be done to our Country? https://t.co/4aDpASkjIU</td>\n",
       "      <td>16439</td>\n",
       "    </tr>\n",
       "    <tr>\n",
       "      <th>1053008701026693122</th>\n",
       "      <td>2018-10-18 19:43:32</td>\n",
       "      <td>&lt;a href=\"http://twitter.com/download/iphone\" rel=\"nofollow\"&gt;Twitter for iPhone&lt;/a&gt;</td>\n",
       "      <td>All Republicans support people with pre-existing conditions, and if they don’t, they will after I speak to them. I am in total support. Also, Democrats will destroy your Medicare, and I will keep it healthy and well!</td>\n",
       "      <td>17744</td>\n",
       "    </tr>\n",
       "    <tr>\n",
       "      <th>1052964059056885760</th>\n",
       "      <td>2018-10-18 16:46:09</td>\n",
       "      <td>&lt;a href=\"http://twitter.com/download/iphone\" rel=\"nofollow\"&gt;Twitter for iPhone&lt;/a&gt;</td>\n",
       "      <td>See you tonight Missoula, Montana! #MAGARally🇺🇸https://t.co/2HZ66y4BS7</td>\n",
       "      <td>8412</td>\n",
       "    </tr>\n",
       "    <tr>\n",
       "      <th>1052950726907969536</th>\n",
       "      <td>2018-10-18 15:53:10</td>\n",
       "      <td>&lt;a href=\"http://twitter.com/download/iphone\" rel=\"nofollow\"&gt;Twitter for iPhone&lt;/a&gt;</td>\n",
       "      <td>.@StateDept @SecPompeo outside of the West Wing after our meeting this morning in the Oval Office... https://t.co/4GrmMdOhS1</td>\n",
       "      <td>6931</td>\n",
       "    </tr>\n",
       "    <tr>\n",
       "      <th>1052947510271111170</th>\n",
       "      <td>2018-10-18 15:40:23</td>\n",
       "      <td>&lt;a href=\"http://twitter.com/download/iphone\" rel=\"nofollow\"&gt;Twitter for iPhone&lt;/a&gt;</td>\n",
       "      <td>...the Crown Prince. He is waiting for the results of the investigations being done by the Saudis and Turkey, and just gave a news conference to that effect.</td>\n",
       "      <td>6234</td>\n",
       "    </tr>\n",
       "    <tr>\n",
       "      <th>1052947507238658049</th>\n",
       "      <td>2018-10-18 15:40:23</td>\n",
       "      <td>&lt;a href=\"http://twitter.com/download/iphone\" rel=\"nofollow\"&gt;Twitter for iPhone&lt;/a&gt;</td>\n",
       "      <td>Secretary of State Mike Pompeo returned last night from Saudi Arabia and Turkey. I met with him this morning wherein the Saudi situation was discussed in great detail, including his meeting with...</td>\n",
       "      <td>7441</td>\n",
       "    </tr>\n",
       "    <tr>\n",
       "      <th>1052914382986973184</th>\n",
       "      <td>2018-10-18 13:28:45</td>\n",
       "      <td>&lt;a href=\"http://twitter.com/download/iphone\" rel=\"nofollow\"&gt;Twitter for iPhone&lt;/a&gt;</td>\n",
       "      <td>Congressman @DaveBratVA7th is one of the hardest working, and smartest, people in Washington. He is strong on the Border, Crime, the Military, our Vets and the 2nd Amendment. He is a powerful vote for MAGA and loves the Great State of Virginia. Dave has my Total Endorsement!</td>\n",
       "      <td>11909</td>\n",
       "    </tr>\n",
       "    <tr>\n",
       "      <th>1052888451199262725</th>\n",
       "      <td>2018-10-18 11:45:43</td>\n",
       "      <td>&lt;a href=\"http://twitter.com/download/iphone\" rel=\"nofollow\"&gt;Twitter for iPhone&lt;/a&gt;</td>\n",
       "      <td>....The assault on our country at our Southern Border, including the Criminal elements and DRUGS pouring in, is far more important to me, as President, than Trade or the USMCA. Hopefully Mexico will stop this onslaught at their Northern Border. All Democrats fault for weak laws!</td>\n",
       "      <td>21044</td>\n",
       "    </tr>\n",
       "    <tr>\n",
       "      <th>1052885781675687936</th>\n",
       "      <td>2018-10-18 11:35:06</td>\n",
       "      <td>&lt;a href=\"http://twitter.com/download/iphone\" rel=\"nofollow\"&gt;Twitter for iPhone&lt;/a&gt;</td>\n",
       "      <td>....In addition to stopping all payments to these countries, which seem to have almost no control over their population, I must, in the strongest of terms, ask Mexico to stop this onslaught - and if unable to do so I will call up the U.S. Military and CLOSE OUR SOUTHERN BORDE...</td>\n",
       "      <td>34032</td>\n",
       "    </tr>\n",
       "    <tr>\n",
       "      <th>1052883467430694912</th>\n",
       "      <td>2018-10-18 11:25:54</td>\n",
       "      <td>&lt;a href=\"http://twitter.com/download/iphone\" rel=\"nofollow\"&gt;Twitter for iPhone&lt;/a&gt;</td>\n",
       "      <td>I am watching the Democrat Party led (because they want Open Borders and existing weak laws) assault on our country by Guatemala, Honduras and El Salvador, whose leaders are doing little to stop this large flow of people, INCLUDING MANY CRIMINALS, from entering Mexico to U.S....</td>\n",
       "      <td>20054</td>\n",
       "    </tr>\n",
       "    <tr>\n",
       "      <th>1052741954918866944</th>\n",
       "      <td>2018-10-18 02:03:35</td>\n",
       "      <td>&lt;a href=\"http://twitter.com/download/iphone\" rel=\"nofollow\"&gt;Twitter for iPhone&lt;/a&gt;</td>\n",
       "      <td>Ever since his vicious and totally false statements about Admiral Ron Jackson, the highly respected White House Doctor for Obama, Bush &amp;amp; me, Senator John Tester looks to be in big trouble in the Great State of Montana! He behaved worse than the Democrat Mob did with Justi...</td>\n",
       "      <td>22097</td>\n",
       "    </tr>\n",
       "    <tr>\n",
       "      <th>1052681628240281600</th>\n",
       "      <td>2018-10-17 22:03:52</td>\n",
       "      <td>&lt;a href=\"http://twitter.com/download/iphone\" rel=\"nofollow\"&gt;Twitter for iPhone&lt;/a&gt;</td>\n",
       "      <td>This afternoon, it was my great honor to present @USMC Sergeant Major John Canley the Medal of Honor in the East Room of the @WhiteHouse! https://t.co/EI1DD4AkC9 https://t.co/6JJm1SRcQ9</td>\n",
       "      <td>10976</td>\n",
       "    </tr>\n",
       "    <tr>\n",
       "      <th>1052653446053154816</th>\n",
       "      <td>2018-10-17 20:11:53</td>\n",
       "      <td>&lt;a href=\"http://twitter.com/download/iphone\" rel=\"nofollow\"&gt;Twitter for iPhone&lt;/a&gt;</td>\n",
       "      <td>RT @USMC: LIVE from the White House: Sgt. Maj. John Canley becomes the 300th Marine to receive the Medal of Honor. https://t.co/sD93rrqaoZ</td>\n",
       "      <td>10527</td>\n",
       "    </tr>\n",
       "    <tr>\n",
       "      <th>1052644447853453312</th>\n",
       "      <td>2018-10-17 19:36:08</td>\n",
       "      <td>&lt;a href=\"http://twitter.com/download/iphone\" rel=\"nofollow\"&gt;Twitter for iPhone&lt;/a&gt;</td>\n",
       "      <td>Congressman Neal Dunn (@DunnCampaign) of Florida has done an outstanding job at everything having to do with #MAGA. Now working hard on hurricane relief and rebuild. Strong on Crime, strong on Borders, loves our Military and our Vets. Neal has my highest Endorsement!</td>\n",
       "      <td>11700</td>\n",
       "    </tr>\n",
       "    <tr>\n",
       "      <th>1052641581650640903</th>\n",
       "      <td>2018-10-17 19:24:44</td>\n",
       "      <td>&lt;a href=\"http://twitter.com/download/iphone\" rel=\"nofollow\"&gt;Twitter for iPhone&lt;/a&gt;</td>\n",
       "      <td>College educated women want safety, security and healthcare protections – very much along with financial and economic health for themselves and our Country. I supply all of this far better than any Democrat (for decades, actually). That’s why they will be voting for me!</td>\n",
       "      <td>22000</td>\n",
       "    </tr>\n",
       "    <tr>\n",
       "      <th>1052618395722559488</th>\n",
       "      <td>2018-10-17 17:52:36</td>\n",
       "      <td>&lt;a href=\"https://studio.twitter.com\" rel=\"nofollow\"&gt;Media Studio&lt;/a&gt;</td>\n",
       "      <td>https://t.co/mNkDYgu5sr</td>\n",
       "      <td>9045</td>\n",
       "    </tr>\n",
       "    <tr>\n",
       "      <th>1052615582560923648</th>\n",
       "      <td>2018-10-17 17:41:26</td>\n",
       "      <td>&lt;a href=\"https://studio.twitter.com\" rel=\"nofollow\"&gt;Media Studio&lt;/a&gt;</td>\n",
       "      <td>https://t.co/MadlgNheSe</td>\n",
       "      <td>8058</td>\n",
       "    </tr>\n",
       "    <tr>\n",
       "      <th>1052614789828993024</th>\n",
       "      <td>2018-10-17 17:38:17</td>\n",
       "      <td>&lt;a href=\"https://studio.twitter.com\" rel=\"nofollow\"&gt;Media Studio&lt;/a&gt;</td>\n",
       "      <td>https://t.co/CMxxW2fEDq</td>\n",
       "      <td>10373</td>\n",
       "    </tr>\n",
       "    <tr>\n",
       "      <th>1052612579099521024</th>\n",
       "      <td>2018-10-17 17:29:30</td>\n",
       "      <td>&lt;a href=\"https://studio.twitter.com\" rel=\"nofollow\"&gt;Media Studio&lt;/a&gt;</td>\n",
       "      <td>https://t.co/afqHydsMB5</td>\n",
       "      <td>7976</td>\n",
       "    </tr>\n",
       "    <tr>\n",
       "      <th>1052609907344715777</th>\n",
       "      <td>2018-10-17 17:18:53</td>\n",
       "      <td>&lt;a href=\"http://twitter.com/download/iphone\" rel=\"nofollow\"&gt;Twitter for iPhone&lt;/a&gt;</td>\n",
       "      <td>“President Donald J. Trump is Following Through on His Promise to Cut Burdensome Red Tape and Unleash the American Economy”\\nRead more: https://t.co/SrBaQzpq4E https://t.co/zF8fEsw3in</td>\n",
       "      <td>8367</td>\n",
       "    </tr>\n",
       "    <tr>\n",
       "      <th>1052608125839265792</th>\n",
       "      <td>2018-10-17 17:11:48</td>\n",
       "      <td>&lt;a href=\"http://twitter.com/download/iphone\" rel=\"nofollow\"&gt;Twitter for iPhone&lt;/a&gt;</td>\n",
       "      <td>RT @GOP: You can cast your ballot before Election Day in:\\n➡️KS\\n➡️NC\\n➡️TN\\nGet out and vote ➡️ https://t.co/YIO9A13Uio https://t.co/bxkCMApisn</td>\n",
       "      <td>6086</td>\n",
       "    </tr>\n",
       "    <tr>\n",
       "      <th>1052608114346926081</th>\n",
       "      <td>2018-10-17 17:11:45</td>\n",
       "      <td>&lt;a href=\"http://twitter.com/download/iphone\" rel=\"nofollow\"&gt;Twitter for iPhone&lt;/a&gt;</td>\n",
       "      <td>RT @GOP: TODAY is the LAST day to register to vote in Massachusetts and Wisconsin!\\nRegister today ➡️ https://t.co/CZsNCAAomd https://t.co/3…</td>\n",
       "      <td>4395</td>\n",
       "    </tr>\n",
       "    <tr>\n",
       "      <th>1052556944068755456</th>\n",
       "      <td>2018-10-17 13:48:25</td>\n",
       "      <td>&lt;a href=\"http://twitter.com/download/iphone\" rel=\"nofollow\"&gt;Twitter for iPhone&lt;/a&gt;</td>\n",
       "      <td>Republicans must make the horrendous, weak and outdated immigration laws, and the Border, a part of the Midterms!</td>\n",
       "      <td>16870</td>\n",
       "    </tr>\n",
       "    <tr>\n",
       "      <th>1052556222459727872</th>\n",
       "      <td>2018-10-17 13:45:33</td>\n",
       "      <td>&lt;a href=\"http://twitter.com/download/iphone\" rel=\"nofollow\"&gt;Twitter for iPhone&lt;/a&gt;</td>\n",
       "      <td>Hard to believe that with thousands of people from South of the Border, walking unimpeded toward our country in the form of large Caravans, that the Democrats won’t approve legislation that will allow laws for the protection of our country. Great Midterm issue for Republicans!</td>\n",
       "      <td>24621</td>\n",
       "    </tr>\n",
       "    <tr>\n",
       "      <th>1052539788190986240</th>\n",
       "      <td>2018-10-17 12:40:15</td>\n",
       "      <td>&lt;a href=\"http://twitter.com/download/iphone\" rel=\"nofollow\"&gt;Twitter for iPhone&lt;/a&gt;</td>\n",
       "      <td>“Network News gave Zero coverage to the Big Day the Stock Market had yesterday.” @foxandfriends</td>\n",
       "      <td>13934</td>\n",
       "    </tr>\n",
       "    <tr>\n",
       "      <th>...</th>\n",
       "      <td>...</td>\n",
       "      <td>...</td>\n",
       "      <td>...</td>\n",
       "      <td>...</td>\n",
       "    </tr>\n",
       "    <tr>\n",
       "      <th>895966080690257920</th>\n",
       "      <td>2017-08-11 11:12:14</td>\n",
       "      <td>&lt;a href=\"http://twitter.com/download/iphone\" rel=\"nofollow\"&gt;Twitter for iPhone&lt;/a&gt;</td>\n",
       "      <td>RT @foxandfriends: Senators learn the hard way about the fallout from turning on Trump https://t.co/wq8Im1cHpy</td>\n",
       "      <td>8466</td>\n",
       "    </tr>\n",
       "    <tr>\n",
       "      <th>895965025931808768</th>\n",
       "      <td>2017-08-11 11:08:03</td>\n",
       "      <td>&lt;a href=\"http://twitter.com/download/iphone\" rel=\"nofollow\"&gt;Twitter for iPhone&lt;/a&gt;</td>\n",
       "      <td>RT @foxandfriends: FOX NEWS ALERT: 2 US drone strikes in Somalia target Al Qaeda and Al-Shabaab https://t.co/MqrY7zbMy2</td>\n",
       "      <td>7308</td>\n",
       "    </tr>\n",
       "    <tr>\n",
       "      <th>895794792747216896</th>\n",
       "      <td>2017-08-10 23:51:36</td>\n",
       "      <td>&lt;a href=\"http://twitter.com/download/iphone\" rel=\"nofollow\"&gt;Twitter for iPhone&lt;/a&gt;</td>\n",
       "      <td>\"Trump approval rebounds to 45%, surges among Hispanics, union homes, men\" https://t.co/vvJMDv9Gjl</td>\n",
       "      <td>19581</td>\n",
       "    </tr>\n",
       "    <tr>\n",
       "      <th>895741164103639042</th>\n",
       "      <td>2017-08-10 20:18:30</td>\n",
       "      <td>&lt;a href=\"http://twitter.com/download/iphone\" rel=\"nofollow\"&gt;Twitter for iPhone&lt;/a&gt;</td>\n",
       "      <td>.@IvankaTrump will lead the U.S. delegation to India this fall, supporting women’s entrepreneurship globally.\\n#GES2017 @narendramodi</td>\n",
       "      <td>17926</td>\n",
       "    </tr>\n",
       "    <tr>\n",
       "      <th>895686351529672704</th>\n",
       "      <td>2017-08-10 16:40:41</td>\n",
       "      <td>&lt;a href=\"http://twitter.com/download/iphone\" rel=\"nofollow\"&gt;Twitter for iPhone&lt;/a&gt;</td>\n",
       "      <td>Mitch, get back to work and put Repeal &amp;amp; Replace, Tax Reform &amp;amp; Cuts and a great Infrastructure Bill on my desk for signing. You can do it!</td>\n",
       "      <td>30543</td>\n",
       "    </tr>\n",
       "    <tr>\n",
       "      <th>895604995537678336</th>\n",
       "      <td>2017-08-10 11:17:25</td>\n",
       "      <td>&lt;a href=\"http://twitter.com/download/iphone\" rel=\"nofollow\"&gt;Twitter for iPhone&lt;/a&gt;</td>\n",
       "      <td>RT @foxandfriends: FOX NEWS ALERT: North Korea responds to U.S. with Guam attack plan as Secretary Mattis warns Kim Jung Un “he is grossly…</td>\n",
       "      <td>11000</td>\n",
       "    </tr>\n",
       "    <tr>\n",
       "      <th>895603959565570048</th>\n",
       "      <td>2017-08-10 11:13:18</td>\n",
       "      <td>&lt;a href=\"http://twitter.com/download/iphone\" rel=\"nofollow\"&gt;Twitter for iPhone&lt;/a&gt;</td>\n",
       "      <td>RT @ProgressPolls: Who is a better President of the United States? #ObamaDay</td>\n",
       "      <td>16733</td>\n",
       "    </tr>\n",
       "    <tr>\n",
       "      <th>895599179522650112</th>\n",
       "      <td>2017-08-10 10:54:18</td>\n",
       "      <td>&lt;a href=\"http://twitter.com/download/iphone\" rel=\"nofollow\"&gt;Twitter for iPhone&lt;/a&gt;</td>\n",
       "      <td>Can you believe that Mitch McConnell, who has screamed Repeal &amp;amp; Replace for 7 years, couldn't get it done. Must Repeal &amp;amp; Replace ObamaCare!</td>\n",
       "      <td>24163</td>\n",
       "    </tr>\n",
       "    <tr>\n",
       "      <th>895454893133234176</th>\n",
       "      <td>2017-08-10 01:20:57</td>\n",
       "      <td>&lt;a href=\"http://twitter.com/download/iphone\" rel=\"nofollow\"&gt;Twitter for iPhone&lt;/a&gt;</td>\n",
       "      <td>RT @markets: U.S. job openings surge to record https://t.co/3CPH78Sfvw via @ShoChandra https://t.co/JFhQ7HFN69</td>\n",
       "      <td>6164</td>\n",
       "    </tr>\n",
       "    <tr>\n",
       "      <th>895454300607991809</th>\n",
       "      <td>2017-08-10 01:18:36</td>\n",
       "      <td>&lt;a href=\"http://twitter.com/download/iphone\" rel=\"nofollow\"&gt;Twitter for iPhone&lt;/a&gt;</td>\n",
       "      <td>RT @TheFive: \"@POTUS being unpredictable is a big asset, North Korea knew exactly what President Obama was going to do.\"- @jessebwatters</td>\n",
       "      <td>11831</td>\n",
       "    </tr>\n",
       "    <tr>\n",
       "      <th>895454206244655104</th>\n",
       "      <td>2017-08-10 01:18:14</td>\n",
       "      <td>&lt;a href=\"http://twitter.com/download/iphone\" rel=\"nofollow\"&gt;Twitter for iPhone&lt;/a&gt;</td>\n",
       "      <td>RT @AmbJohnBolton: Our country &amp;amp; civilians are vulnerable today because @BarackObama did not believe in national missile defense. Let’s nev…</td>\n",
       "      <td>23678</td>\n",
       "    </tr>\n",
       "    <tr>\n",
       "      <th>895398465290723329</th>\n",
       "      <td>2017-08-09 21:36:44</td>\n",
       "      <td>&lt;a href=\"https://studio.twitter.com\" rel=\"nofollow\"&gt;Media Studio&lt;/a&gt;</td>\n",
       "      <td>#GodBlessTheUSA🇺🇸 https://t.co/Fkq2gJQOKk</td>\n",
       "      <td>23283</td>\n",
       "    </tr>\n",
       "    <tr>\n",
       "      <th>895347654431035393</th>\n",
       "      <td>2017-08-09 18:14:50</td>\n",
       "      <td>&lt;a href=\"http://twitter.com/download/iphone\" rel=\"nofollow\"&gt;Twitter for iPhone&lt;/a&gt;</td>\n",
       "      <td>Senator Mitch McConnell said I had \"excessive expectations,\" but I don't think so. After 7 years of hearing Repeal &amp;amp; Replace, why not done?</td>\n",
       "      <td>30869</td>\n",
       "    </tr>\n",
       "    <tr>\n",
       "      <th>895254168570605568</th>\n",
       "      <td>2017-08-09 12:03:21</td>\n",
       "      <td>&lt;a href=\"http://twitter.com/download/iphone\" rel=\"nofollow\"&gt;Twitter for iPhone&lt;/a&gt;</td>\n",
       "      <td>...Hopefully we will never have to use this power, but there will never be a time that we are not the most powerful nation in the world!</td>\n",
       "      <td>29454</td>\n",
       "    </tr>\n",
       "    <tr>\n",
       "      <th>895252459152711680</th>\n",
       "      <td>2017-08-09 11:56:33</td>\n",
       "      <td>&lt;a href=\"http://twitter.com/download/iphone\" rel=\"nofollow\"&gt;Twitter for iPhone&lt;/a&gt;</td>\n",
       "      <td>My first order as President was to renovate and modernize our nuclear arsenal. It is now far stronger and more powerful than ever before....</td>\n",
       "      <td>24901</td>\n",
       "    </tr>\n",
       "    <tr>\n",
       "      <th>895244964904542208</th>\n",
       "      <td>2017-08-09 11:26:47</td>\n",
       "      <td>&lt;a href=\"http://twitter.com/download/iphone\" rel=\"nofollow\"&gt;Twitter for iPhone&lt;/a&gt;</td>\n",
       "      <td>RT @foxandfriends: President Trump vows America will respond to North Korean threats with \"fire &amp;amp; fury\" in a warning to the rogue nation ht…</td>\n",
       "      <td>10227</td>\n",
       "    </tr>\n",
       "    <tr>\n",
       "      <th>895244450053726209</th>\n",
       "      <td>2017-08-09 11:24:44</td>\n",
       "      <td>&lt;a href=\"http://twitter.com/download/iphone\" rel=\"nofollow\"&gt;Twitter for iPhone&lt;/a&gt;</td>\n",
       "      <td>RT @foxandfriends: France vehicle attack leaves at least six soldiers injured\\n\\nhttps://t.co/bm7gevcQi2</td>\n",
       "      <td>4590</td>\n",
       "    </tr>\n",
       "    <tr>\n",
       "      <th>895244121241255936</th>\n",
       "      <td>2017-08-09 11:23:25</td>\n",
       "      <td>&lt;a href=\"http://twitter.com/download/iphone\" rel=\"nofollow\"&gt;Twitter for iPhone&lt;/a&gt;</td>\n",
       "      <td>RT @foxandfriends: Trump vows U.S. 'power' will meet North Korean threat https://t.co/od7Ohr51XD</td>\n",
       "      <td>5188</td>\n",
       "    </tr>\n",
       "    <tr>\n",
       "      <th>895244004803194880</th>\n",
       "      <td>2017-08-09 11:22:58</td>\n",
       "      <td>&lt;a href=\"http://twitter.com/download/iphone\" rel=\"nofollow\"&gt;Twitter for iPhone&lt;/a&gt;</td>\n",
       "      <td>RT @foxandfriends: Millions of gallons of Mexican waste threaten Border Patrol agents https://t.co/yGAq4IgHOs</td>\n",
       "      <td>6567</td>\n",
       "    </tr>\n",
       "    <tr>\n",
       "      <th>895243804013416449</th>\n",
       "      <td>2017-08-09 11:22:10</td>\n",
       "      <td>&lt;a href=\"http://twitter.com/download/iphone\" rel=\"nofollow\"&gt;Twitter for iPhone&lt;/a&gt;</td>\n",
       "      <td>RT @foxandfriends: U.S. Air Force jets take off from Guam for training, ensuring they can 'fight tonight' https://t.co/E4EGIyNSHP</td>\n",
       "      <td>6625</td>\n",
       "    </tr>\n",
       "    <tr>\n",
       "      <th>895237369032519681</th>\n",
       "      <td>2017-08-09 10:56:36</td>\n",
       "      <td>&lt;a href=\"http://twitter.com/download/iphone\" rel=\"nofollow\"&gt;Twitter for iPhone&lt;/a&gt;</td>\n",
       "      <td>RT @TheFive: \"Media bias is not just about what they report, it's also about what they don't report.\"-@jessebwatters #thefive</td>\n",
       "      <td>9612</td>\n",
       "    </tr>\n",
       "    <tr>\n",
       "      <th>895091395379245056</th>\n",
       "      <td>2017-08-09 01:16:33</td>\n",
       "      <td>&lt;a href=\"http://twitter.com/download/iphone\" rel=\"nofollow\"&gt;Twitter for iPhone&lt;/a&gt;</td>\n",
       "      <td>Senator Luther Strange has done a great job representing the people of the Great State of Alabama. He has my complete and total endorsement!</td>\n",
       "      <td>12736</td>\n",
       "    </tr>\n",
       "    <tr>\n",
       "      <th>894984483291750401</th>\n",
       "      <td>2017-08-08 18:11:43</td>\n",
       "      <td>&lt;a href=\"http://twitter.com/download/iphone\" rel=\"nofollow\"&gt;Twitter for iPhone&lt;/a&gt;</td>\n",
       "      <td>RT @FoxNews: Jobs added during @POTUS' time in office. https://t.co/zD0FkFvHVx</td>\n",
       "      <td>13225</td>\n",
       "    </tr>\n",
       "    <tr>\n",
       "      <th>894984126582972416</th>\n",
       "      <td>2017-08-08 18:10:18</td>\n",
       "      <td>&lt;a href=\"http://twitter.com/download/iphone\" rel=\"nofollow\"&gt;Twitter for iPhone&lt;/a&gt;</td>\n",
       "      <td>After 200 days, rarely has any Administration achieved what we have achieved..not even close! Don't believe the Fake News Suppression Polls!</td>\n",
       "      <td>25033</td>\n",
       "    </tr>\n",
       "    <tr>\n",
       "      <th>894981661926068228</th>\n",
       "      <td>2017-08-08 18:00:30</td>\n",
       "      <td>&lt;a href=\"http://twitter.com/download/iphone\" rel=\"nofollow\"&gt;Twitter for iPhone&lt;/a&gt;</td>\n",
       "      <td>E-mails show that the AmazonWashingtonPost and the FailingNewYorkTimes were reluctant to cover the Clinton/Lynch secret meeting in plane.</td>\n",
       "      <td>23452</td>\n",
       "    </tr>\n",
       "    <tr>\n",
       "      <th>894880193839497216</th>\n",
       "      <td>2017-08-08 11:17:18</td>\n",
       "      <td>&lt;a href=\"http://twitter.com/download/iphone\" rel=\"nofollow\"&gt;Twitter for iPhone&lt;/a&gt;</td>\n",
       "      <td>After many years of failure,countries are coming together to  finally address the dangers posed by North Korea. We must be tough &amp;amp; decisive!</td>\n",
       "      <td>23673</td>\n",
       "    </tr>\n",
       "    <tr>\n",
       "      <th>894878812063846400</th>\n",
       "      <td>2017-08-08 11:11:49</td>\n",
       "      <td>&lt;a href=\"http://twitter.com/download/iphone\" rel=\"nofollow\"&gt;Twitter for iPhone&lt;/a&gt;</td>\n",
       "      <td>I will be holding a major briefing on the Opioid crisis, a major problem for our country, today at 3:00 P.M. in Bedminster, N.J.</td>\n",
       "      <td>14329</td>\n",
       "    </tr>\n",
       "    <tr>\n",
       "      <th>894875690423726080</th>\n",
       "      <td>2017-08-08 10:59:25</td>\n",
       "      <td>&lt;a href=\"http://twitter.com/download/iphone\" rel=\"nofollow\"&gt;Twitter for iPhone&lt;/a&gt;</td>\n",
       "      <td>RT @foxandfriends: OPIOID CRISIS: Worse than we thought, with a new study showing overdose deaths were under reported https://t.co/27kLJKRX…</td>\n",
       "      <td>6716</td>\n",
       "    </tr>\n",
       "    <tr>\n",
       "      <th>894875602045607936</th>\n",
       "      <td>2017-08-08 10:59:04</td>\n",
       "      <td>&lt;a href=\"http://twitter.com/download/iphone\" rel=\"nofollow\"&gt;Twitter for iPhone&lt;/a&gt;</td>\n",
       "      <td>RT @foxandfriends: Anthem announces it will withdraw from ObamaCare Exchange in Nevada https://t.co/d0CxeHQKwz</td>\n",
       "      <td>8680</td>\n",
       "    </tr>\n",
       "    <tr>\n",
       "      <th>894871302250668032</th>\n",
       "      <td>2017-08-08 10:41:59</td>\n",
       "      <td>&lt;a href=\"http://twitter.com/download/iphone\" rel=\"nofollow\"&gt;Twitter for iPhone&lt;/a&gt;</td>\n",
       "      <td>RT @foxandfriends: U.S. spy satellites detect North Korea moving anti-ship cruise missiles to patrol boat https://t.co/BPFXsLffgy</td>\n",
       "      <td>6997</td>\n",
       "    </tr>\n",
       "  </tbody>\n",
       "</table>\n",
       "<p>9124 rows × 4 columns</p>\n",
       "</div>"
      ],
      "text/plain": [
       "                                   time  \\\n",
       "1053076069564071936 2018-10-19 00:11:14   \n",
       "1053074465150578688 2018-10-19 00:04:52   \n",
       "1053070661302669312 2018-10-18 23:49:45   \n",
       "1053056054295113728 2018-10-18 22:51:42   \n",
       "1053033702253424640 2018-10-18 21:22:53   \n",
       "1053013864244219904 2018-10-18 20:04:03   \n",
       "1053008701026693122 2018-10-18 19:43:32   \n",
       "1052964059056885760 2018-10-18 16:46:09   \n",
       "1052950726907969536 2018-10-18 15:53:10   \n",
       "1052947510271111170 2018-10-18 15:40:23   \n",
       "1052947507238658049 2018-10-18 15:40:23   \n",
       "1052914382986973184 2018-10-18 13:28:45   \n",
       "1052888451199262725 2018-10-18 11:45:43   \n",
       "1052885781675687936 2018-10-18 11:35:06   \n",
       "1052883467430694912 2018-10-18 11:25:54   \n",
       "1052741954918866944 2018-10-18 02:03:35   \n",
       "1052681628240281600 2018-10-17 22:03:52   \n",
       "1052653446053154816 2018-10-17 20:11:53   \n",
       "1052644447853453312 2018-10-17 19:36:08   \n",
       "1052641581650640903 2018-10-17 19:24:44   \n",
       "1052618395722559488 2018-10-17 17:52:36   \n",
       "1052615582560923648 2018-10-17 17:41:26   \n",
       "1052614789828993024 2018-10-17 17:38:17   \n",
       "1052612579099521024 2018-10-17 17:29:30   \n",
       "1052609907344715777 2018-10-17 17:18:53   \n",
       "1052608125839265792 2018-10-17 17:11:48   \n",
       "1052608114346926081 2018-10-17 17:11:45   \n",
       "1052556944068755456 2018-10-17 13:48:25   \n",
       "1052556222459727872 2018-10-17 13:45:33   \n",
       "1052539788190986240 2018-10-17 12:40:15   \n",
       "...                                 ...   \n",
       "895966080690257920  2017-08-11 11:12:14   \n",
       "895965025931808768  2017-08-11 11:08:03   \n",
       "895794792747216896  2017-08-10 23:51:36   \n",
       "895741164103639042  2017-08-10 20:18:30   \n",
       "895686351529672704  2017-08-10 16:40:41   \n",
       "895604995537678336  2017-08-10 11:17:25   \n",
       "895603959565570048  2017-08-10 11:13:18   \n",
       "895599179522650112  2017-08-10 10:54:18   \n",
       "895454893133234176  2017-08-10 01:20:57   \n",
       "895454300607991809  2017-08-10 01:18:36   \n",
       "895454206244655104  2017-08-10 01:18:14   \n",
       "895398465290723329  2017-08-09 21:36:44   \n",
       "895347654431035393  2017-08-09 18:14:50   \n",
       "895254168570605568  2017-08-09 12:03:21   \n",
       "895252459152711680  2017-08-09 11:56:33   \n",
       "895244964904542208  2017-08-09 11:26:47   \n",
       "895244450053726209  2017-08-09 11:24:44   \n",
       "895244121241255936  2017-08-09 11:23:25   \n",
       "895244004803194880  2017-08-09 11:22:58   \n",
       "895243804013416449  2017-08-09 11:22:10   \n",
       "895237369032519681  2017-08-09 10:56:36   \n",
       "895091395379245056  2017-08-09 01:16:33   \n",
       "894984483291750401  2017-08-08 18:11:43   \n",
       "894984126582972416  2017-08-08 18:10:18   \n",
       "894981661926068228  2017-08-08 18:00:30   \n",
       "894880193839497216  2017-08-08 11:17:18   \n",
       "894878812063846400  2017-08-08 11:11:49   \n",
       "894875690423726080  2017-08-08 10:59:25   \n",
       "894875602045607936  2017-08-08 10:59:04   \n",
       "894871302250668032  2017-08-08 10:41:59   \n",
       "\n",
       "                                                                                                 source  \\\n",
       "1053076069564071936  <a href=\"http://twitter.com/download/iphone\" rel=\"nofollow\">Twitter for iPhone</a>   \n",
       "1053074465150578688  <a href=\"http://twitter.com/download/iphone\" rel=\"nofollow\">Twitter for iPhone</a>   \n",
       "1053070661302669312  <a href=\"http://twitter.com/download/iphone\" rel=\"nofollow\">Twitter for iPhone</a>   \n",
       "1053056054295113728  <a href=\"http://twitter.com/download/iphone\" rel=\"nofollow\">Twitter for iPhone</a>   \n",
       "1053033702253424640  <a href=\"http://twitter.com/download/iphone\" rel=\"nofollow\">Twitter for iPhone</a>   \n",
       "1053013864244219904  <a href=\"http://twitter.com/download/iphone\" rel=\"nofollow\">Twitter for iPhone</a>   \n",
       "1053008701026693122  <a href=\"http://twitter.com/download/iphone\" rel=\"nofollow\">Twitter for iPhone</a>   \n",
       "1052964059056885760  <a href=\"http://twitter.com/download/iphone\" rel=\"nofollow\">Twitter for iPhone</a>   \n",
       "1052950726907969536  <a href=\"http://twitter.com/download/iphone\" rel=\"nofollow\">Twitter for iPhone</a>   \n",
       "1052947510271111170  <a href=\"http://twitter.com/download/iphone\" rel=\"nofollow\">Twitter for iPhone</a>   \n",
       "1052947507238658049  <a href=\"http://twitter.com/download/iphone\" rel=\"nofollow\">Twitter for iPhone</a>   \n",
       "1052914382986973184  <a href=\"http://twitter.com/download/iphone\" rel=\"nofollow\">Twitter for iPhone</a>   \n",
       "1052888451199262725  <a href=\"http://twitter.com/download/iphone\" rel=\"nofollow\">Twitter for iPhone</a>   \n",
       "1052885781675687936  <a href=\"http://twitter.com/download/iphone\" rel=\"nofollow\">Twitter for iPhone</a>   \n",
       "1052883467430694912  <a href=\"http://twitter.com/download/iphone\" rel=\"nofollow\">Twitter for iPhone</a>   \n",
       "1052741954918866944  <a href=\"http://twitter.com/download/iphone\" rel=\"nofollow\">Twitter for iPhone</a>   \n",
       "1052681628240281600  <a href=\"http://twitter.com/download/iphone\" rel=\"nofollow\">Twitter for iPhone</a>   \n",
       "1052653446053154816  <a href=\"http://twitter.com/download/iphone\" rel=\"nofollow\">Twitter for iPhone</a>   \n",
       "1052644447853453312  <a href=\"http://twitter.com/download/iphone\" rel=\"nofollow\">Twitter for iPhone</a>   \n",
       "1052641581650640903  <a href=\"http://twitter.com/download/iphone\" rel=\"nofollow\">Twitter for iPhone</a>   \n",
       "1052618395722559488                <a href=\"https://studio.twitter.com\" rel=\"nofollow\">Media Studio</a>   \n",
       "1052615582560923648                <a href=\"https://studio.twitter.com\" rel=\"nofollow\">Media Studio</a>   \n",
       "1052614789828993024                <a href=\"https://studio.twitter.com\" rel=\"nofollow\">Media Studio</a>   \n",
       "1052612579099521024                <a href=\"https://studio.twitter.com\" rel=\"nofollow\">Media Studio</a>   \n",
       "1052609907344715777  <a href=\"http://twitter.com/download/iphone\" rel=\"nofollow\">Twitter for iPhone</a>   \n",
       "1052608125839265792  <a href=\"http://twitter.com/download/iphone\" rel=\"nofollow\">Twitter for iPhone</a>   \n",
       "1052608114346926081  <a href=\"http://twitter.com/download/iphone\" rel=\"nofollow\">Twitter for iPhone</a>   \n",
       "1052556944068755456  <a href=\"http://twitter.com/download/iphone\" rel=\"nofollow\">Twitter for iPhone</a>   \n",
       "1052556222459727872  <a href=\"http://twitter.com/download/iphone\" rel=\"nofollow\">Twitter for iPhone</a>   \n",
       "1052539788190986240  <a href=\"http://twitter.com/download/iphone\" rel=\"nofollow\">Twitter for iPhone</a>   \n",
       "...                                                                                                 ...   \n",
       "895966080690257920   <a href=\"http://twitter.com/download/iphone\" rel=\"nofollow\">Twitter for iPhone</a>   \n",
       "895965025931808768   <a href=\"http://twitter.com/download/iphone\" rel=\"nofollow\">Twitter for iPhone</a>   \n",
       "895794792747216896   <a href=\"http://twitter.com/download/iphone\" rel=\"nofollow\">Twitter for iPhone</a>   \n",
       "895741164103639042   <a href=\"http://twitter.com/download/iphone\" rel=\"nofollow\">Twitter for iPhone</a>   \n",
       "895686351529672704   <a href=\"http://twitter.com/download/iphone\" rel=\"nofollow\">Twitter for iPhone</a>   \n",
       "895604995537678336   <a href=\"http://twitter.com/download/iphone\" rel=\"nofollow\">Twitter for iPhone</a>   \n",
       "895603959565570048   <a href=\"http://twitter.com/download/iphone\" rel=\"nofollow\">Twitter for iPhone</a>   \n",
       "895599179522650112   <a href=\"http://twitter.com/download/iphone\" rel=\"nofollow\">Twitter for iPhone</a>   \n",
       "895454893133234176   <a href=\"http://twitter.com/download/iphone\" rel=\"nofollow\">Twitter for iPhone</a>   \n",
       "895454300607991809   <a href=\"http://twitter.com/download/iphone\" rel=\"nofollow\">Twitter for iPhone</a>   \n",
       "895454206244655104   <a href=\"http://twitter.com/download/iphone\" rel=\"nofollow\">Twitter for iPhone</a>   \n",
       "895398465290723329                 <a href=\"https://studio.twitter.com\" rel=\"nofollow\">Media Studio</a>   \n",
       "895347654431035393   <a href=\"http://twitter.com/download/iphone\" rel=\"nofollow\">Twitter for iPhone</a>   \n",
       "895254168570605568   <a href=\"http://twitter.com/download/iphone\" rel=\"nofollow\">Twitter for iPhone</a>   \n",
       "895252459152711680   <a href=\"http://twitter.com/download/iphone\" rel=\"nofollow\">Twitter for iPhone</a>   \n",
       "895244964904542208   <a href=\"http://twitter.com/download/iphone\" rel=\"nofollow\">Twitter for iPhone</a>   \n",
       "895244450053726209   <a href=\"http://twitter.com/download/iphone\" rel=\"nofollow\">Twitter for iPhone</a>   \n",
       "895244121241255936   <a href=\"http://twitter.com/download/iphone\" rel=\"nofollow\">Twitter for iPhone</a>   \n",
       "895244004803194880   <a href=\"http://twitter.com/download/iphone\" rel=\"nofollow\">Twitter for iPhone</a>   \n",
       "895243804013416449   <a href=\"http://twitter.com/download/iphone\" rel=\"nofollow\">Twitter for iPhone</a>   \n",
       "895237369032519681   <a href=\"http://twitter.com/download/iphone\" rel=\"nofollow\">Twitter for iPhone</a>   \n",
       "895091395379245056   <a href=\"http://twitter.com/download/iphone\" rel=\"nofollow\">Twitter for iPhone</a>   \n",
       "894984483291750401   <a href=\"http://twitter.com/download/iphone\" rel=\"nofollow\">Twitter for iPhone</a>   \n",
       "894984126582972416   <a href=\"http://twitter.com/download/iphone\" rel=\"nofollow\">Twitter for iPhone</a>   \n",
       "894981661926068228   <a href=\"http://twitter.com/download/iphone\" rel=\"nofollow\">Twitter for iPhone</a>   \n",
       "894880193839497216   <a href=\"http://twitter.com/download/iphone\" rel=\"nofollow\">Twitter for iPhone</a>   \n",
       "894878812063846400   <a href=\"http://twitter.com/download/iphone\" rel=\"nofollow\">Twitter for iPhone</a>   \n",
       "894875690423726080   <a href=\"http://twitter.com/download/iphone\" rel=\"nofollow\">Twitter for iPhone</a>   \n",
       "894875602045607936   <a href=\"http://twitter.com/download/iphone\" rel=\"nofollow\">Twitter for iPhone</a>   \n",
       "894871302250668032   <a href=\"http://twitter.com/download/iphone\" rel=\"nofollow\">Twitter for iPhone</a>   \n",
       "\n",
       "                                                                                                                                                                                                                                                                                                        text  \\\n",
       "1053076069564071936                                                                                                                             The only thing keeping Tester alive is he has millions and millions of dollars from outside liberals and leftists, who couldn’t care less about our Country!   \n",
       "1053074465150578688                                                  Will be landing soon. Looking forward to seeing our next Senator from Montana, Matt Rosendale. He will represent our Country well, far better than Jon Tester who will vote with Cryin’ Chuck Schumer and Nancy Pelosi - never with us!   \n",
       "1053070661302669312                                                           Prime Minister @AbeShinzo of Japan has been working with me to help balance out the one-sided Trade with Japan. These are some of the investments they are making in our Country - just the beginning! https://t.co/ib2yB3Akkt   \n",
       "1053056054295113728                                                                                                                                                                                                           Thank you Mexico, we look forward to working with you! https://t.co/wf7sE0DHFT   \n",
       "1053033702253424640                                                                                                                                                                                                        Look forward to being there. Something’s happening! #MAGA https://t.co/Cev7giQexE   \n",
       "1053013864244219904                                                                                                                                                                                 Can you believe this, and what Democrats are allowing to be done to our Country? https://t.co/4aDpASkjIU   \n",
       "1053008701026693122                                                                 All Republicans support people with pre-existing conditions, and if they don’t, they will after I speak to them. I am in total support. Also, Democrats will destroy your Medicare, and I will keep it healthy and well!   \n",
       "1052964059056885760                                                                                                                                                                                                                   See you tonight Missoula, Montana! #MAGARally🇺🇸https://t.co/2HZ66y4BS7   \n",
       "1052950726907969536                                                                                                                                                             .@StateDept @SecPompeo outside of the West Wing after our meeting this morning in the Oval Office... https://t.co/4GrmMdOhS1   \n",
       "1052947510271111170                                                                                                                            ...the Crown Prince. He is waiting for the results of the investigations being done by the Saudis and Turkey, and just gave a news conference to that effect.   \n",
       "1052947507238658049                                                                                    Secretary of State Mike Pompeo returned last night from Saudi Arabia and Turkey. I met with him this morning wherein the Saudi situation was discussed in great detail, including his meeting with...   \n",
       "1052914382986973184      Congressman @DaveBratVA7th is one of the hardest working, and smartest, people in Washington. He is strong on the Border, Crime, the Military, our Vets and the 2nd Amendment. He is a powerful vote for MAGA and loves the Great State of Virginia. Dave has my Total Endorsement!   \n",
       "1052888451199262725  ....The assault on our country at our Southern Border, including the Criminal elements and DRUGS pouring in, is far more important to me, as President, than Trade or the USMCA. Hopefully Mexico will stop this onslaught at their Northern Border. All Democrats fault for weak laws!   \n",
       "1052885781675687936  ....In addition to stopping all payments to these countries, which seem to have almost no control over their population, I must, in the strongest of terms, ask Mexico to stop this onslaught - and if unable to do so I will call up the U.S. Military and CLOSE OUR SOUTHERN BORDE...   \n",
       "1052883467430694912  I am watching the Democrat Party led (because they want Open Borders and existing weak laws) assault on our country by Guatemala, Honduras and El Salvador, whose leaders are doing little to stop this large flow of people, INCLUDING MANY CRIMINALS, from entering Mexico to U.S....   \n",
       "1052741954918866944  Ever since his vicious and totally false statements about Admiral Ron Jackson, the highly respected White House Doctor for Obama, Bush &amp; me, Senator John Tester looks to be in big trouble in the Great State of Montana! He behaved worse than the Democrat Mob did with Justi...   \n",
       "1052681628240281600                                                                                                This afternoon, it was my great honor to present @USMC Sergeant Major John Canley the Medal of Honor in the East Room of the @WhiteHouse! https://t.co/EI1DD4AkC9 https://t.co/6JJm1SRcQ9   \n",
       "1052653446053154816                                                                                                                                               RT @USMC: LIVE from the White House: Sgt. Maj. John Canley becomes the 300th Marine to receive the Medal of Honor. https://t.co/sD93rrqaoZ   \n",
       "1052644447853453312              Congressman Neal Dunn (@DunnCampaign) of Florida has done an outstanding job at everything having to do with #MAGA. Now working hard on hurricane relief and rebuild. Strong on Crime, strong on Borders, loves our Military and our Vets. Neal has my highest Endorsement!   \n",
       "1052641581650640903           College educated women want safety, security and healthcare protections – very much along with financial and economic health for themselves and our Country. I supply all of this far better than any Democrat (for decades, actually). That’s why they will be voting for me!   \n",
       "1052618395722559488                                                                                                                                                                                                                                                                  https://t.co/mNkDYgu5sr   \n",
       "1052615582560923648                                                                                                                                                                                                                                                                  https://t.co/MadlgNheSe   \n",
       "1052614789828993024                                                                                                                                                                                                                                                                  https://t.co/CMxxW2fEDq   \n",
       "1052612579099521024                                                                                                                                                                                                                                                                  https://t.co/afqHydsMB5   \n",
       "1052609907344715777                                                                                                  “President Donald J. Trump is Following Through on His Promise to Cut Burdensome Red Tape and Unleash the American Economy”\\nRead more: https://t.co/SrBaQzpq4E https://t.co/zF8fEsw3in   \n",
       "1052608125839265792                                                                                                                                         RT @GOP: You can cast your ballot before Election Day in:\\n➡️KS\\n➡️NC\\n➡️TN\\nGet out and vote ➡️ https://t.co/YIO9A13Uio https://t.co/bxkCMApisn   \n",
       "1052608114346926081                                                                                                                                            RT @GOP: TODAY is the LAST day to register to vote in Massachusetts and Wisconsin!\\nRegister today ➡️ https://t.co/CZsNCAAomd https://t.co/3…   \n",
       "1052556944068755456                                                                                                                                                                        Republicans must make the horrendous, weak and outdated immigration laws, and the Border, a part of the Midterms!   \n",
       "1052556222459727872    Hard to believe that with thousands of people from South of the Border, walking unimpeded toward our country in the form of large Caravans, that the Democrats won’t approve legislation that will allow laws for the protection of our country. Great Midterm issue for Republicans!   \n",
       "1052539788190986240                                                                                                                                                                                          “Network News gave Zero coverage to the Big Day the Stock Market had yesterday.” @foxandfriends   \n",
       "...                                                                                                                                                                                                                                                                                                      ...   \n",
       "895966080690257920                                                                                                                                                                            RT @foxandfriends: Senators learn the hard way about the fallout from turning on Trump https://t.co/wq8Im1cHpy   \n",
       "895965025931808768                                                                                                                                                                   RT @foxandfriends: FOX NEWS ALERT: 2 US drone strikes in Somalia target Al Qaeda and Al-Shabaab https://t.co/MqrY7zbMy2   \n",
       "895794792747216896                                                                                                                                                                                        \"Trump approval rebounds to 45%, surges among Hispanics, union homes, men\" https://t.co/vvJMDv9Gjl   \n",
       "895741164103639042                                                                                                                                                     .@IvankaTrump will lead the U.S. delegation to India this fall, supporting women’s entrepreneurship globally.\\n#GES2017 @narendramodi   \n",
       "895686351529672704                                                                                                                                        Mitch, get back to work and put Repeal &amp; Replace, Tax Reform &amp; Cuts and a great Infrastructure Bill on my desk for signing. You can do it!   \n",
       "895604995537678336                                                                                                                                               RT @foxandfriends: FOX NEWS ALERT: North Korea responds to U.S. with Guam attack plan as Secretary Mattis warns Kim Jung Un “he is grossly…   \n",
       "895603959565570048                                                                                                                                                                                                              RT @ProgressPolls: Who is a better President of the United States? #ObamaDay   \n",
       "895599179522650112                                                                                                                                       Can you believe that Mitch McConnell, who has screamed Repeal &amp; Replace for 7 years, couldn't get it done. Must Repeal &amp; Replace ObamaCare!   \n",
       "895454893133234176                                                                                                                                                                            RT @markets: U.S. job openings surge to record https://t.co/3CPH78Sfvw via @ShoChandra https://t.co/JFhQ7HFN69   \n",
       "895454300607991809                                                                                                                                                  RT @TheFive: \"@POTUS being unpredictable is a big asset, North Korea knew exactly what President Obama was going to do.\"- @jessebwatters   \n",
       "895454206244655104                                                                                                                                          RT @AmbJohnBolton: Our country &amp; civilians are vulnerable today because @BarackObama did not believe in national missile defense. Let’s nev…   \n",
       "895398465290723329                                                                                                                                                                                                                                                 #GodBlessTheUSA🇺🇸 https://t.co/Fkq2gJQOKk   \n",
       "895347654431035393                                                                                                                                           Senator Mitch McConnell said I had \"excessive expectations,\" but I don't think so. After 7 years of hearing Repeal &amp; Replace, why not done?   \n",
       "895254168570605568                                                                                                                                                  ...Hopefully we will never have to use this power, but there will never be a time that we are not the most powerful nation in the world!   \n",
       "895252459152711680                                                                                                                                              My first order as President was to renovate and modernize our nuclear arsenal. It is now far stronger and more powerful than ever before....   \n",
       "895244964904542208                                                                                                                                          RT @foxandfriends: President Trump vows America will respond to North Korean threats with \"fire &amp; fury\" in a warning to the rogue nation ht…   \n",
       "895244450053726209                                                                                                                                                                                  RT @foxandfriends: France vehicle attack leaves at least six soldiers injured\\n\\nhttps://t.co/bm7gevcQi2   \n",
       "895244121241255936                                                                                                                                                                                          RT @foxandfriends: Trump vows U.S. 'power' will meet North Korean threat https://t.co/od7Ohr51XD   \n",
       "895244004803194880                                                                                                                                                                             RT @foxandfriends: Millions of gallons of Mexican waste threaten Border Patrol agents https://t.co/yGAq4IgHOs   \n",
       "895243804013416449                                                                                                                                                         RT @foxandfriends: U.S. Air Force jets take off from Guam for training, ensuring they can 'fight tonight' https://t.co/E4EGIyNSHP   \n",
       "895237369032519681                                                                                                                                                             RT @TheFive: \"Media bias is not just about what they report, it's also about what they don't report.\"-@jessebwatters #thefive   \n",
       "895091395379245056                                                                                                                                              Senator Luther Strange has done a great job representing the people of the Great State of Alabama. He has my complete and total endorsement!   \n",
       "894984483291750401                                                                                                                                                                                                            RT @FoxNews: Jobs added during @POTUS' time in office. https://t.co/zD0FkFvHVx   \n",
       "894984126582972416                                                                                                                                              After 200 days, rarely has any Administration achieved what we have achieved..not even close! Don't believe the Fake News Suppression Polls!   \n",
       "894981661926068228                                                                                                                                                 E-mails show that the AmazonWashingtonPost and the FailingNewYorkTimes were reluctant to cover the Clinton/Lynch secret meeting in plane.   \n",
       "894880193839497216                                                                                                                                          After many years of failure,countries are coming together to  finally address the dangers posed by North Korea. We must be tough &amp; decisive!   \n",
       "894878812063846400                                                                                                                                                          I will be holding a major briefing on the Opioid crisis, a major problem for our country, today at 3:00 P.M. in Bedminster, N.J.   \n",
       "894875690423726080                                                                                                                                              RT @foxandfriends: OPIOID CRISIS: Worse than we thought, with a new study showing overdose deaths were under reported https://t.co/27kLJKRX…   \n",
       "894875602045607936                                                                                                                                                                            RT @foxandfriends: Anthem announces it will withdraw from ObamaCare Exchange in Nevada https://t.co/d0CxeHQKwz   \n",
       "894871302250668032                                                                                                                                                         RT @foxandfriends: U.S. spy satellites detect North Korea moving anti-ship cruise missiles to patrol boat https://t.co/BPFXsLffgy   \n",
       "\n",
       "                     retweet_count  \n",
       "1053076069564071936           6240  \n",
       "1053074465150578688           5987  \n",
       "1053070661302669312           5388  \n",
       "1053056054295113728          11804  \n",
       "1053033702253424640           9299  \n",
       "1053013864244219904          16439  \n",
       "1053008701026693122          17744  \n",
       "1052964059056885760           8412  \n",
       "1052950726907969536           6931  \n",
       "1052947510271111170           6234  \n",
       "1052947507238658049           7441  \n",
       "1052914382986973184          11909  \n",
       "1052888451199262725          21044  \n",
       "1052885781675687936          34032  \n",
       "1052883467430694912          20054  \n",
       "1052741954918866944          22097  \n",
       "1052681628240281600          10976  \n",
       "1052653446053154816          10527  \n",
       "1052644447853453312          11700  \n",
       "1052641581650640903          22000  \n",
       "1052618395722559488           9045  \n",
       "1052615582560923648           8058  \n",
       "1052614789828993024          10373  \n",
       "1052612579099521024           7976  \n",
       "1052609907344715777           8367  \n",
       "1052608125839265792           6086  \n",
       "1052608114346926081           4395  \n",
       "1052556944068755456          16870  \n",
       "1052556222459727872          24621  \n",
       "1052539788190986240          13934  \n",
       "...                            ...  \n",
       "895966080690257920            8466  \n",
       "895965025931808768            7308  \n",
       "895794792747216896           19581  \n",
       "895741164103639042           17926  \n",
       "895686351529672704           30543  \n",
       "895604995537678336           11000  \n",
       "895603959565570048           16733  \n",
       "895599179522650112           24163  \n",
       "895454893133234176            6164  \n",
       "895454300607991809           11831  \n",
       "895454206244655104           23678  \n",
       "895398465290723329           23283  \n",
       "895347654431035393           30869  \n",
       "895254168570605568           29454  \n",
       "895252459152711680           24901  \n",
       "895244964904542208           10227  \n",
       "895244450053726209            4590  \n",
       "895244121241255936            5188  \n",
       "895244004803194880            6567  \n",
       "895243804013416449            6625  \n",
       "895237369032519681            9612  \n",
       "895091395379245056           12736  \n",
       "894984483291750401           13225  \n",
       "894984126582972416           25033  \n",
       "894981661926068228           23452  \n",
       "894880193839497216           23673  \n",
       "894878812063846400           14329  \n",
       "894875690423726080            6716  \n",
       "894875602045607936            8680  \n",
       "894871302250668032            6997  \n",
       "\n",
       "[9124 rows x 4 columns]"
      ]
     },
     "execution_count": 31,
     "metadata": {},
     "output_type": "execute_result"
    }
   ],
   "source": [
    "trump"
   ]
  },
  {
   "cell_type": "markdown",
   "metadata": {
    "deletable": false,
    "editable": false,
    "nbgrader": {
     "cell_type": "markdown",
     "checksum": "30d38d0c0f5988b2b1da8eadd678d083",
     "grade": false,
     "grade_id": "question4",
     "locked": true,
     "schema_version": 2,
     "solution": false
    }
   },
   "source": [
    "## Question 4: Tweet Source Analysis\n",
    "\n",
    "In the following questions, we are going to find out the charateristics of Trump tweets and the devices used for the tweets.\n",
    "\n",
    "First let's examine the source field:"
   ]
  },
  {
   "cell_type": "code",
   "execution_count": 32,
   "metadata": {
    "deletable": false,
    "editable": false,
    "nbgrader": {
     "cell_type": "code",
     "checksum": "6afb6dfe20e5154416906478ba3d9384",
     "grade": false,
     "grade_id": "unique-sources",
     "locked": true,
     "schema_version": 2,
     "solution": false
    }
   },
   "outputs": [
    {
     "data": {
      "text/plain": [
       "array([ '<a href=\"http://twitter.com/download/iphone\" rel=\"nofollow\">Twitter for iPhone</a>',\n",
       "       '<a href=\"https://studio.twitter.com\" rel=\"nofollow\">Media Studio</a>',\n",
       "       '<a href=\"http://twitter.com/#!/download/ipad\" rel=\"nofollow\">Twitter for iPad</a>',\n",
       "       '<a href=\"http://twitter.com\" rel=\"nofollow\">Twitter Web Client</a>',\n",
       "       '<a href=\"http://twitter.com/download/android\" rel=\"nofollow\">Twitter for Android</a>',\n",
       "       '<a href=\"http://instagram.com\" rel=\"nofollow\">Instagram</a>',\n",
       "       '<a href=\"https://mobile.twitter.com\" rel=\"nofollow\">Mobile Web (M5)</a>',\n",
       "       '<a href=\"https://ads.twitter.com\" rel=\"nofollow\">Twitter Ads</a>',\n",
       "       '<a href=\"https://periscope.tv\" rel=\"nofollow\">Periscope</a>'], dtype=object)"
      ]
     },
     "execution_count": 32,
     "metadata": {},
     "output_type": "execute_result"
    }
   ],
   "source": [
    "trump['source'].unique()"
   ]
  },
  {
   "cell_type": "markdown",
   "metadata": {
    "deletable": false,
    "editable": false,
    "nbgrader": {
     "cell_type": "markdown",
     "checksum": "c6456dce1f6278ee550862faf8829f32",
     "grade": false,
     "grade_id": "q4a",
     "locked": true,
     "schema_version": 2,
     "solution": false
    }
   },
   "source": [
    "## Question 4a\n",
    "\n",
    "Remove the HTML tags from the source field. \n",
    "\n",
    "**Hint:** Use `trump['source'].str.replace` and your favorite regular expression."
   ]
  },
  {
   "cell_type": "code",
   "execution_count": 33,
   "metadata": {
    "deletable": false,
    "nbgrader": {
     "cell_type": "code",
     "checksum": "a05e9dfd89d13b6b4d93b7b32b0c18d0",
     "grade": false,
     "grade_id": "q4a-answer",
     "locked": false,
     "schema_version": 2,
     "solution": true
    }
   },
   "outputs": [],
   "source": [
    "trump['source'] = trump['source'].str.replace(pat = r\"<a.*\\\"\\>\", repl = \"\")\n",
    "trump['source'] = trump['source'].str.replace(pat = r\"</a>\", repl = \"\")"
   ]
  },
  {
   "cell_type": "code",
   "execution_count": 34,
   "metadata": {
    "deletable": false,
    "editable": false,
    "nbgrader": {
     "cell_type": "code",
     "checksum": "ba180bc3697692747a71297f6b4dc64a",
     "grade": true,
     "grade_id": "q4a-test",
     "locked": true,
     "points": 1,
     "schema_version": 2,
     "solution": false
    }
   },
   "outputs": [],
   "source": [
    "from datetime import datetime\n",
    "ELEC_DATE = datetime(2016, 11, 8)\n",
    "INAUG_DATE = datetime(2017, 1, 20)\n",
    "assert set(trump[(trump['time'] > ELEC_DATE) & (trump['time'] < INAUG_DATE) ]['source'].unique()) == set(['Twitter Ads',\n",
    " 'Twitter Web Client',\n",
    " 'Twitter for Android',\n",
    " 'Twitter for iPhone'])"
   ]
  },
  {
   "cell_type": "markdown",
   "metadata": {
    "deletable": false,
    "editable": false,
    "nbgrader": {
     "cell_type": "markdown",
     "checksum": "fbd18f3db9b76174657bbfadec0dede6",
     "grade": false,
     "grade_id": "note-about-device-usage",
     "locked": true,
     "schema_version": 2,
     "solution": false
    }
   },
   "source": [
    "We can see in the following plot that there are two device types that are more commonly used"
   ]
  },
  {
   "cell_type": "code",
   "execution_count": 35,
   "metadata": {
    "deletable": false,
    "editable": false,
    "nbgrader": {
     "cell_type": "code",
     "checksum": "80767c65e51906a26ac3aa9c6e0d48e5",
     "grade": false,
     "grade_id": "device-usage-plot",
     "locked": true,
     "schema_version": 2,
     "solution": false
    }
   },
   "outputs": [
    {
     "data": {
      "text/plain": [
       "Text(0,0.5,'Number of Tweets')"
      ]
     },
     "execution_count": 35,
     "metadata": {},
     "output_type": "execute_result"
    },
    {
     "data": {
      "image/png": "[encoded data removed]",
      "text/plain": [
       "<matplotlib.figure.Figure at 0x7fbf6b6ccc50>"
      ]
     },
     "metadata": {},
     "output_type": "display_data"
    }
   ],
   "source": [
    "trump['source'].value_counts().plot(kind=\"bar\")\n",
    "plt.ylabel(\"Number of Tweets\")"
   ]
  },
  {
   "cell_type": "markdown",
   "metadata": {
    "deletable": false,
    "editable": false,
    "nbgrader": {
     "cell_type": "markdown",
     "checksum": "4fc8de3b5e3282ab8fa3c8f31fa6794c",
     "grade": false,
     "grade_id": "q4b",
     "locked": true,
     "schema_version": 2,
     "solution": false
    }
   },
   "source": [
    "## Question 4b\n",
    "\n",
    "\n",
    "Is there a difference between his Tweet behavior across these devices? We will attempt to answer this question in our subsequent analysis.\n",
    "\n",
    "First, we'll take a look at whether Trump's tweets from an Android come at different times than his tweets from an iPhone. Note that Twitter gives us his tweets in the [UTC timezone](https://www.wikiwand.com/en/List_of_UTC_time_offsets) (notice the `+0000` in the first few tweets)"
   ]
  },
  {
   "cell_type": "code",
   "execution_count": 36,
   "metadata": {
    "deletable": false,
    "editable": false,
    "nbgrader": {
     "cell_type": "code",
     "checksum": "8a6257dbd02d1af40cdfd288d7c37250",
     "grade": false,
     "grade_id": "tweet-created-at",
     "locked": true,
     "schema_version": 2,
     "solution": false
    }
   },
   "outputs": [
    {
     "name": "stdout",
     "output_type": "stream",
     "text": [
      "Fri Oct 19 00:11:14 +0000 2018\n",
      "Fri Oct 19 00:04:52 +0000 2018\n",
      "Thu Oct 18 23:49:45 +0000 2018\n"
     ]
    }
   ],
   "source": [
    "for t in trump_tweets[0:3]:\n",
    "    print(t['created_at'])"
   ]
  },
  {
   "cell_type": "markdown",
   "metadata": {
    "deletable": false,
    "editable": false,
    "nbgrader": {
     "cell_type": "markdown",
     "checksum": "5a4f73d1c7135ddc404472884d7ba6fa",
     "grade": false,
     "grade_id": "convert-to-est-justification",
     "locked": true,
     "schema_version": 2,
     "solution": false
    }
   },
   "source": [
    "We'll convert the tweet times to US Eastern Time, the timezone of New York and Washington D.C., since those are the places we would expect the most tweet activity from Trump."
   ]
  },
  {
   "cell_type": "code",
   "execution_count": 37,
   "metadata": {
    "deletable": false,
    "editable": false,
    "nbgrader": {
     "cell_type": "code",
     "checksum": "6adc54fdcb7560cb4586d97800b8bfab",
     "grade": false,
     "grade_id": "convert-to-est",
     "locked": true,
     "schema_version": 2,
     "solution": false
    }
   },
   "outputs": [
    {
     "data": {
      "text/html": [
       "<div>\n",
       "<style scoped>\n",
       "    .dataframe tbody tr th:only-of-type {\n",
       "        vertical-align: middle;\n",
       "    }\n",
       "\n",
       "    .dataframe tbody tr th {\n",
       "        vertical-align: top;\n",
       "    }\n",
       "\n",
       "    .dataframe thead th {\n",
       "        text-align: right;\n",
       "    }\n",
       "</style>\n",
       "<table border=\"1\" class=\"dataframe\">\n",
       "  <thead>\n",
       "    <tr style=\"text-align: right;\">\n",
       "      <th></th>\n",
       "      <th>time</th>\n",
       "      <th>source</th>\n",
       "      <th>text</th>\n",
       "      <th>retweet_count</th>\n",
       "      <th>est_time</th>\n",
       "    </tr>\n",
       "  </thead>\n",
       "  <tbody>\n",
       "    <tr>\n",
       "      <th>1053076069564071936</th>\n",
       "      <td>2018-10-19 00:11:14</td>\n",
       "      <td>Twitter for iPhone</td>\n",
       "      <td>The only thing keeping Tester alive is he has millions and millions of dollars from outside liberals and leftists, who couldn’t care less about our Country!</td>\n",
       "      <td>6240</td>\n",
       "      <td>2018-10-18 19:11:14-05:00</td>\n",
       "    </tr>\n",
       "    <tr>\n",
       "      <th>1053074465150578688</th>\n",
       "      <td>2018-10-19 00:04:52</td>\n",
       "      <td>Twitter for iPhone</td>\n",
       "      <td>Will be landing soon. Looking forward to seeing our next Senator from Montana, Matt Rosendale. He will represent our Country well, far better than Jon Tester who will vote with Cryin’ Chuck Schumer and Nancy Pelosi - never with us!</td>\n",
       "      <td>5987</td>\n",
       "      <td>2018-10-18 19:04:52-05:00</td>\n",
       "    </tr>\n",
       "    <tr>\n",
       "      <th>1053070661302669312</th>\n",
       "      <td>2018-10-18 23:49:45</td>\n",
       "      <td>Twitter for iPhone</td>\n",
       "      <td>Prime Minister @AbeShinzo of Japan has been working with me to help balance out the one-sided Trade with Japan. These are some of the investments they are making in our Country - just the beginning! https://t.co/ib2yB3Akkt</td>\n",
       "      <td>5388</td>\n",
       "      <td>2018-10-18 18:49:45-05:00</td>\n",
       "    </tr>\n",
       "    <tr>\n",
       "      <th>1053056054295113728</th>\n",
       "      <td>2018-10-18 22:51:42</td>\n",
       "      <td>Twitter for iPhone</td>\n",
       "      <td>Thank you Mexico, we look forward to working with you! https://t.co/wf7sE0DHFT</td>\n",
       "      <td>11804</td>\n",
       "      <td>2018-10-18 17:51:42-05:00</td>\n",
       "    </tr>\n",
       "    <tr>\n",
       "      <th>1053033702253424640</th>\n",
       "      <td>2018-10-18 21:22:53</td>\n",
       "      <td>Twitter for iPhone</td>\n",
       "      <td>Look forward to being there. Something’s happening! #MAGA https://t.co/Cev7giQexE</td>\n",
       "      <td>9299</td>\n",
       "      <td>2018-10-18 16:22:53-05:00</td>\n",
       "    </tr>\n",
       "  </tbody>\n",
       "</table>\n",
       "</div>"
      ],
      "text/plain": [
       "                                   time              source  \\\n",
       "1053076069564071936 2018-10-19 00:11:14  Twitter for iPhone   \n",
       "1053074465150578688 2018-10-19 00:04:52  Twitter for iPhone   \n",
       "1053070661302669312 2018-10-18 23:49:45  Twitter for iPhone   \n",
       "1053056054295113728 2018-10-18 22:51:42  Twitter for iPhone   \n",
       "1053033702253424640 2018-10-18 21:22:53  Twitter for iPhone   \n",
       "\n",
       "                                                                                                                                                                                                                                                        text  \\\n",
       "1053076069564071936                                                                             The only thing keeping Tester alive is he has millions and millions of dollars from outside liberals and leftists, who couldn’t care less about our Country!   \n",
       "1053074465150578688  Will be landing soon. Looking forward to seeing our next Senator from Montana, Matt Rosendale. He will represent our Country well, far better than Jon Tester who will vote with Cryin’ Chuck Schumer and Nancy Pelosi - never with us!   \n",
       "1053070661302669312           Prime Minister @AbeShinzo of Japan has been working with me to help balance out the one-sided Trade with Japan. These are some of the investments they are making in our Country - just the beginning! https://t.co/ib2yB3Akkt   \n",
       "1053056054295113728                                                                                                                                                           Thank you Mexico, we look forward to working with you! https://t.co/wf7sE0DHFT   \n",
       "1053033702253424640                                                                                                                                                        Look forward to being there. Something’s happening! #MAGA https://t.co/Cev7giQexE   \n",
       "\n",
       "                     retweet_count                  est_time  \n",
       "1053076069564071936           6240 2018-10-18 19:11:14-05:00  \n",
       "1053074465150578688           5987 2018-10-18 19:04:52-05:00  \n",
       "1053070661302669312           5388 2018-10-18 18:49:45-05:00  \n",
       "1053056054295113728          11804 2018-10-18 17:51:42-05:00  \n",
       "1053033702253424640           9299 2018-10-18 16:22:53-05:00  "
      ]
     },
     "execution_count": 37,
     "metadata": {},
     "output_type": "execute_result"
    }
   ],
   "source": [
    "trump['est_time'] = (\n",
    "    trump['time'].dt.tz_localize(\"UTC\") # Set initial timezone to UTC\n",
    "                 .dt.tz_convert(\"EST\") # Convert to Eastern Time\n",
    ")\n",
    "trump.head()"
   ]
  },
  {
   "cell_type": "markdown",
   "metadata": {
    "deletable": false,
    "editable": false,
    "nbgrader": {
     "cell_type": "markdown",
     "checksum": "62a7fe09ae5f6e81c5112a2052452467",
     "grade": false,
     "grade_id": "need-to-do",
     "locked": true,
     "schema_version": 2,
     "solution": false
    }
   },
   "source": [
    "**What you need to do:**\n",
    "\n",
    "Add a column called `hour` to the `trump` table which contains the hour of the day as floating point number computed by:\n",
    "\n",
    "$$\n",
    "\\text{hour} + \\frac{\\text{minute}}{60} + \\frac{\\text{second}}{60^2}\n",
    "$$\n"
   ]
  },
  {
   "cell_type": "code",
   "execution_count": 38,
   "metadata": {
    "deletable": false,
    "nbgrader": {
     "cell_type": "code",
     "checksum": "06c6a53e7388e12148e57710efe30726",
     "grade": false,
     "grade_id": "q4b-answer",
     "locked": false,
     "schema_version": 2,
     "solution": true
    },
    "tags": [
     "student"
    ]
   },
   "outputs": [],
   "source": [
    "trump['hour'] = trump['est_time']\n",
    "trump['hour'] = [(y.hour + (y.minute)/60 + (y.second)/3600) for y in trump['hour']]\n",
    "#trump['hour']"
   ]
  },
  {
   "cell_type": "code",
   "execution_count": 39,
   "metadata": {
    "deletable": false,
    "editable": false,
    "nbgrader": {
     "cell_type": "code",
     "checksum": "b0fcc19ae4e12541fa73e3e62f334e01",
     "grade": true,
     "grade_id": "q4b-tests",
     "locked": true,
     "points": 1,
     "schema_version": 2,
     "solution": false
    },
    "tags": [
     "test",
     "q04a"
    ]
   },
   "outputs": [],
   "source": [
    "assert np.isclose(trump.loc[690171032150237184]['hour'], 8.93639)"
   ]
  },
  {
   "cell_type": "markdown",
   "metadata": {
    "deletable": false,
    "editable": false,
    "nbgrader": {
     "cell_type": "markdown",
     "checksum": "00c6bf4a7b09b661a2e430d2fd080a55",
     "grade": false,
     "grade_id": "q4c",
     "locked": true,
     "schema_version": 2,
     "solution": false
    }
   },
   "source": [
    "## Question 4c\n",
    "\n",
    "Use this data along with the seaborn `distplot` function to examine the distribution over hours of the day in eastern time that trump tweets on each device for the 2 most commonly used devices.  Your plot should look similar to the following. \n",
    "\n",
    "<img src=\"images/device_hour2.png\" width=\"600px\" />"
   ]
  },
  {
   "cell_type": "markdown",
   "metadata": {},
   "source": [
    "Spec Note: This plot is for 4d, not 4c."
   ]
  },
  {
   "cell_type": "code",
   "execution_count": 40,
   "metadata": {
    "deletable": false,
    "nbgrader": {
     "cell_type": "code",
     "checksum": "8098891f5ad326482ed42b89fb116b10",
     "grade": true,
     "grade_id": "q4c-answer",
     "locked": false,
     "points": 2,
     "schema_version": 2,
     "solution": true
    }
   },
   "outputs": [
    {
     "data": {
      "text/plain": [
       "Text(0.5,0.98,\"President Trump's Tweet Activity by Time of Day and Device\")"
      ]
     },
     "execution_count": 40,
     "metadata": {},
     "output_type": "execute_result"
    },
    {
     "data": {
      "image/png": "[encoded data removed]",
      "text/plain": [
       "<matplotlib.figure.Figure at 0x7fbf6b66b780>"
      ]
     },
     "metadata": {},
     "output_type": "display_data"
    }
   ],
   "source": [
    "androidonly = trump.loc[trump['source'] == 'Twitter for Android', :]\n",
    "iPhoneonly = trump.loc[trump['source'] == 'Twitter for iPhone', :]\n",
    "droidtweetdist = sns.distplot(a = androidonly['hour'], hist = False, label = 'Android')\n",
    "appletweetdist = sns.distplot(a = iPhoneonly['hour'], hist = False, label = 'iPhone')\n",
    "plt.xlabel('hour')\n",
    "plt.ylabel('fraction')\n",
    "plt.legend(labels = ['Android', 'iPhone'])\n",
    "plt.suptitle(\"President Trump's Tweet Activity by Time of Day and Device\")"
   ]
  },
  {
   "cell_type": "markdown",
   "metadata": {
    "deletable": false,
    "editable": false,
    "nbgrader": {
     "cell_type": "markdown",
     "checksum": "7671d02d0497957893438869ee0b2e73",
     "grade": false,
     "grade_id": "q4d",
     "locked": true,
     "schema_version": 2,
     "solution": false
    }
   },
   "source": [
    "\n",
    "## Question 4d\n",
    "\n",
    "According to [this Verge article](https://www.theverge.com/2017/3/29/15103504/donald-trump-iphone-using-switched-android), Donald Trump switched from an Android to an iPhone sometime in March 2017.\n",
    "\n",
    "Create a figure identical to your figure from 4c, except that you should show the results only from 2016.\n",
    "\n",
    "During the campaign, it was theorized that Donald Trump's tweets from Android were written by him personally, and the tweets from iPhone were from his staff. Does your figure give support to this theory?"
   ]
  },
  {
   "cell_type": "code",
   "execution_count": 41,
   "metadata": {},
   "outputs": [],
   "source": [
    "trump['year'] = [y.year for y in trump['est_time']]"
   ]
  },
  {
   "cell_type": "code",
   "execution_count": 42,
   "metadata": {
    "deletable": false,
    "nbgrader": {
     "cell_type": "code",
     "checksum": "2a4bfea63d20cf7bdd4eeaedd3cd3d2d",
     "grade": true,
     "grade_id": "cell-ba90f75e6f9b73d6",
     "locked": false,
     "points": 1,
     "schema_version": 2,
     "solution": true
    }
   },
   "outputs": [
    {
     "data": {
      "text/plain": [
       "Text(0.5,0.98,\"Tweets from President Trump's Twitter Account in 2016 by Time of Day and Device\")"
      ]
     },
     "execution_count": 42,
     "metadata": {},
     "output_type": "execute_result"
    },
    {
     "data": {
      "image/png": "[encoded data removed]",
      "text/plain": [
       "<matplotlib.figure.Figure at 0x7fbf6a382630>"
      ]
     },
     "metadata": {},
     "output_type": "display_data"
    }
   ],
   "source": [
    "electionyearonly = trump.loc[trump['year'] == 2016, :]\n",
    "androidelectionyearonly = electionyearonly.loc[electionyearonly['source'] == 'Twitter for Android', :]\n",
    "appleelectionyearonly = electionyearonly.loc[electionyearonly['source'] == 'Twitter for iPhone', :]\n",
    "droidelectiondist = sns.distplot(a = androidelectionyearonly['hour'], hist = False, label = 'Android')\n",
    "appleelectiondist = sns.distplot(a = appleelectionyearonly['hour'], hist = False, label = 'iPhone')\n",
    "plt.xlabel('hour')\n",
    "plt.ylabel('fraction')\n",
    "plt.legend(labels = ['Android', 'iPhone'])\n",
    "plt.suptitle(\"Tweets from President Trump's Twitter Account in 2016 by Time of Day and Device\")"
   ]
  },
  {
   "cell_type": "markdown",
   "metadata": {
    "deletable": false,
    "nbgrader": {
     "cell_type": "markdown",
     "checksum": "dd2a71cbda4d42eaf1a86490a723f4ea",
     "grade": true,
     "grade_id": "q4d-answer",
     "locked": false,
     "points": 1,
     "schema_version": 2,
     "solution": true
    },
    "tags": [
     "student",
     "written"
    ]
   },
   "source": [
    "My figure supports this theory. If President Trump used an Android device as his personal phone, then the theory that Android tweets on his account were written by him personally makes sense. Since he owned an off the shelf Samsung device at the time, he likely tweeted personally when he was not at work. This explains why Android tweet activity is higher outside of normal work hours than during normal work hours. \n",
    "As this graph shows, the highest frequency of tweets sent from an Android was around 8-9AM, around the time when the President may have woken up or began his workday. He may have begun his workday by sending out a Tweet (likely provocative in nature) to make it into the morning news cycle. By contrast, iPhone tweets on the President's account in 2016 peak around 4-5PM, as the workday is ending. It may be the case that the President's social media team would send out a tweet (provocative in nature) in order to make it into the evening news cycle. By doing this, the President and his social media team would control both sides of a day's news cycle, ensuring maximum media exposure for the President. "
   ]
  },
  {
   "cell_type": "markdown",
   "metadata": {
    "deletable": false,
    "editable": false,
    "nbgrader": {
     "cell_type": "markdown",
     "checksum": "a59afe12404b1f0811e16801674c53cf",
     "grade": false,
     "grade_id": "q5",
     "locked": true,
     "schema_version": 2,
     "solution": false
    }
   },
   "source": [
    "## Question 5\n",
    "\n",
    "Let's now look at which device he has used over the entire time period of this dataset.\n",
    "\n",
    "To examine the distribution of dates we will convert the date to a fractional year that can be plotted as a distribution.\n",
    "\n",
    "(Code borrowed from https://stackoverflow.com/questions/6451655/python-how-to-convert-datetime-dates-to-decimal-years)"
   ]
  },
  {
   "cell_type": "code",
   "execution_count": 43,
   "metadata": {
    "deletable": false,
    "editable": false,
    "nbgrader": {
     "cell_type": "code",
     "checksum": "473e641d026c095c438d79d7aa94b2f2",
     "grade": false,
     "grade_id": "fractional-year",
     "locked": true,
     "schema_version": 2,
     "solution": false
    }
   },
   "outputs": [],
   "source": [
    "import datetime\n",
    "def year_fraction(date):\n",
    "    start = datetime.date(date.year, 1, 1).toordinal()\n",
    "    year_length = datetime.date(date.year+1, 1, 1).toordinal() - start\n",
    "    return date.year + float(date.toordinal() - start) / year_length\n",
    "\n",
    "\n",
    "trump['year'] = trump['time'].apply(year_fraction)"
   ]
  },
  {
   "cell_type": "markdown",
   "metadata": {
    "deletable": false,
    "editable": false,
    "nbgrader": {
     "cell_type": "markdown",
     "checksum": "64eb067a351f92005ef87b72f2298f8a",
     "grade": false,
     "grade_id": "q5a",
     "locked": true,
     "schema_version": 2,
     "solution": false
    }
   },
   "source": [
    "### Question 5a\n",
    "\n",
    "Use the `sns.distplot` to overlay the distributions of the 2 most frequently used web technologies over the years.  Your final plot should look like:\n",
    "\n",
    "<img src=\"images/source_years.png\" width=\"600px\" />\n"
   ]
  },
  {
   "cell_type": "code",
   "execution_count": 44,
   "metadata": {
    "deletable": false,
    "nbgrader": {
     "cell_type": "code",
     "checksum": "1e4c5f933e6074bd85bb221f71bf9e9b",
     "grade": true,
     "grade_id": "q5a-answer",
     "locked": false,
     "points": 2,
     "schema_version": 2,
     "solution": true
    }
   },
   "outputs": [
    {
     "data": {
      "text/plain": [
       "Text(0.5,1,\"Distribution of Trump's Web Technologies over Time\")"
      ]
     },
     "execution_count": 44,
     "metadata": {},
     "output_type": "execute_result"
    },
    {
     "data": {
      "image/png": "[encoded data removed]",
      "text/plain": [
       "<matplotlib.figure.Figure at 0x7fbf6a38fe80>"
      ]
     },
     "metadata": {},
     "output_type": "display_data"
    }
   ],
   "source": [
    "androidallyears = trump.loc[trump['source'] == 'Twitter for Android', :]\n",
    "appleallyears = trump.loc[trump['source'] == 'Twitter for iPhone', :]\n",
    "sns.distplot(a = androidallyears['year'], label = 'Android')\n",
    "sns.distplot(a = appleallyears['year'], label = 'iPhone')\n",
    "plt.xlabel('year')\n",
    "plt.legend(labels = ['Android', 'iPhone'])\n",
    "plt.title(\"Distribution of Trump's Web Technologies over Time\")"
   ]
  },
  {
   "cell_type": "markdown",
   "metadata": {
    "deletable": false,
    "editable": false,
    "nbgrader": {
     "cell_type": "markdown",
     "checksum": "9160f63c38f2638e31ad51b3260bef67",
     "grade": false,
     "grade_id": "q6-header",
     "locked": true,
     "schema_version": 2,
     "solution": false
    }
   },
   "source": [
    "## Question 6: Sentiment Analysis\n",
    "\n",
    "It turns out that we can use the words in Trump's tweets to calculate a measure of the sentiment of the tweet. For example, the sentence \"I love America!\" has positive sentiment, whereas the sentence \"I hate taxes!\" has a negative sentiment. In addition, some words have stronger positive / negative sentiment than others: \"I love America.\" is more positive than \"I like America.\"\n",
    "\n",
    "We will use the [VADER (Valence Aware Dictionary and sEntiment Reasoner)](https://github.com/cjhutto/vaderSentiment) lexicon to analyze the sentiment of Trump's tweets. VADER is a lexicon and rule-based sentiment analysis tool that is specifically attuned to sentiments expressed in social media which is great for our usage.\n",
    "\n",
    "The VADER lexicon gives the sentiment of individual words. Run the following cell to show the first few rows of the lexicon:"
   ]
  },
  {
   "cell_type": "code",
   "execution_count": 45,
   "metadata": {
    "deletable": false,
    "editable": false,
    "nbgrader": {
     "cell_type": "code",
     "checksum": "4bdf61c45c5bf6f12052419af685d59e",
     "grade": false,
     "grade_id": "head-vader",
     "locked": true,
     "schema_version": 2,
     "solution": false
    }
   },
   "outputs": [
    {
     "name": "stdout",
     "output_type": "stream",
     "text": [
      "$:\t-1.5\t0.80623\t[-1, -1, -1, -1, -3, -1, -3, -1, -2, -1]\n",
      "%)\t-0.4\t1.0198\t[-1, 0, -1, 0, 0, -2, -1, 2, -1, 0]\n",
      "%-)\t-1.5\t1.43178\t[-2, 0, -2, -2, -1, 2, -2, -3, -2, -3]\n",
      "&-:\t-0.4\t1.42829\t[-3, -1, 0, 0, -1, -1, -1, 2, -1, 2]\n",
      "&:\t-0.7\t0.64031\t[0, -1, -1, -1, 1, -1, -1, -1, -1, -1]\n",
      "( '}{' )\t1.6\t0.66332\t[1, 2, 2, 1, 1, 2, 2, 1, 3, 1]\n",
      "(%\t-0.9\t0.9434\t[0, 0, 1, -1, -1, -1, -2, -2, -1, -2]\n",
      "('-:\t2.2\t1.16619\t[4, 1, 4, 3, 1, 2, 3, 1, 2, 1]\n",
      "(':\t2.3\t0.9\t[1, 3, 3, 2, 2, 4, 2, 3, 1, 2]\n",
      "((-:\t2.1\t0.53852\t[2, 2, 2, 1, 2, 3, 2, 2, 3, 2]\n",
      "\n"
     ]
    }
   ],
   "source": [
    "print(''.join(open(\"vader_lexicon.txt\").readlines()[:10]))"
   ]
  },
  {
   "cell_type": "markdown",
   "metadata": {
    "deletable": false,
    "editable": false,
    "nbgrader": {
     "cell_type": "markdown",
     "checksum": "631d386141906603b7febb8ce0901638",
     "grade": false,
     "grade_id": "q6a-header",
     "locked": true,
     "schema_version": 2,
     "solution": false
    }
   },
   "source": [
    "## Question 6a\n",
    "\n",
    "As you can see, the lexicon contains emojis too! The first column of the lexicon is the *token*, or the word itself. The second column is the *polarity* of the word, or how positive / negative it is.\n",
    "\n",
    "(How did they decide the polarities of these words? What are the other two columns in the lexicon? See the link above.)\n",
    "\n",
    " Read in the lexicon into a DataFrame called `sent`. The index of the DF should be the tokens in the lexicon. `sent` should have one column: `polarity`: The polarity of each token."
   ]
  },
  {
   "cell_type": "code",
   "execution_count": 48,
   "metadata": {
    "deletable": false,
    "nbgrader": {
     "cell_type": "code",
     "checksum": "962759aad285ccfb16f06dc8dd86035c",
     "grade": false,
     "grade_id": "q6a1",
     "locked": false,
     "schema_version": 2,
     "solution": true
    },
    "tags": [
     "student"
    ]
   },
   "outputs": [],
   "source": [
    "sent = pd.read_csv(filepath_or_buffer = \"vader_lexicon.txt\", index_col = 0, sep = '\\t', names = ['token', 'polarity', 'drop1', 'drop2'], usecols = ['token', 'polarity'])"
   ]
  },
  {
   "cell_type": "code",
   "execution_count": 49,
   "metadata": {},
   "outputs": [
    {
     "data": {
      "text/html": [
       "<div>\n",
       "<style scoped>\n",
       "    .dataframe tbody tr th:only-of-type {\n",
       "        vertical-align: middle;\n",
       "    }\n",
       "\n",
       "    .dataframe tbody tr th {\n",
       "        vertical-align: top;\n",
       "    }\n",
       "\n",
       "    .dataframe thead th {\n",
       "        text-align: right;\n",
       "    }\n",
       "</style>\n",
       "<table border=\"1\" class=\"dataframe\">\n",
       "  <thead>\n",
       "    <tr style=\"text-align: right;\">\n",
       "      <th></th>\n",
       "      <th>polarity</th>\n",
       "    </tr>\n",
       "    <tr>\n",
       "      <th>token</th>\n",
       "      <th></th>\n",
       "    </tr>\n",
       "  </thead>\n",
       "  <tbody>\n",
       "    <tr>\n",
       "      <th>$:</th>\n",
       "      <td>-1.5</td>\n",
       "    </tr>\n",
       "    <tr>\n",
       "      <th>%)</th>\n",
       "      <td>-0.4</td>\n",
       "    </tr>\n",
       "    <tr>\n",
       "      <th>%-)</th>\n",
       "      <td>-1.5</td>\n",
       "    </tr>\n",
       "    <tr>\n",
       "      <th>&amp;-:</th>\n",
       "      <td>-0.4</td>\n",
       "    </tr>\n",
       "    <tr>\n",
       "      <th>&amp;:</th>\n",
       "      <td>-0.7</td>\n",
       "    </tr>\n",
       "    <tr>\n",
       "      <th>( '}{' )</th>\n",
       "      <td>1.6</td>\n",
       "    </tr>\n",
       "    <tr>\n",
       "      <th>(%</th>\n",
       "      <td>-0.9</td>\n",
       "    </tr>\n",
       "    <tr>\n",
       "      <th>('-:</th>\n",
       "      <td>2.2</td>\n",
       "    </tr>\n",
       "    <tr>\n",
       "      <th>(':</th>\n",
       "      <td>2.3</td>\n",
       "    </tr>\n",
       "    <tr>\n",
       "      <th>((-:</th>\n",
       "      <td>2.1</td>\n",
       "    </tr>\n",
       "    <tr>\n",
       "      <th>(*</th>\n",
       "      <td>1.1</td>\n",
       "    </tr>\n",
       "    <tr>\n",
       "      <th>(-%</th>\n",
       "      <td>-0.7</td>\n",
       "    </tr>\n",
       "    <tr>\n",
       "      <th>(-*</th>\n",
       "      <td>1.3</td>\n",
       "    </tr>\n",
       "    <tr>\n",
       "      <th>(-:</th>\n",
       "      <td>1.6</td>\n",
       "    </tr>\n",
       "    <tr>\n",
       "      <th>(-:0</th>\n",
       "      <td>2.8</td>\n",
       "    </tr>\n",
       "    <tr>\n",
       "      <th>(-:&lt;</th>\n",
       "      <td>-0.4</td>\n",
       "    </tr>\n",
       "    <tr>\n",
       "      <th>(-:o</th>\n",
       "      <td>1.5</td>\n",
       "    </tr>\n",
       "    <tr>\n",
       "      <th>(-:O</th>\n",
       "      <td>1.5</td>\n",
       "    </tr>\n",
       "    <tr>\n",
       "      <th>(-:{</th>\n",
       "      <td>-0.1</td>\n",
       "    </tr>\n",
       "    <tr>\n",
       "      <th>(-:|&gt;*</th>\n",
       "      <td>1.9</td>\n",
       "    </tr>\n",
       "    <tr>\n",
       "      <th>(-;</th>\n",
       "      <td>1.3</td>\n",
       "    </tr>\n",
       "    <tr>\n",
       "      <th>(-;|</th>\n",
       "      <td>2.1</td>\n",
       "    </tr>\n",
       "    <tr>\n",
       "      <th>(8</th>\n",
       "      <td>2.6</td>\n",
       "    </tr>\n",
       "    <tr>\n",
       "      <th>(:</th>\n",
       "      <td>2.2</td>\n",
       "    </tr>\n",
       "    <tr>\n",
       "      <th>(:0</th>\n",
       "      <td>2.4</td>\n",
       "    </tr>\n",
       "    <tr>\n",
       "      <th>(:&lt;</th>\n",
       "      <td>-0.2</td>\n",
       "    </tr>\n",
       "    <tr>\n",
       "      <th>(:o</th>\n",
       "      <td>2.5</td>\n",
       "    </tr>\n",
       "    <tr>\n",
       "      <th>(:O</th>\n",
       "      <td>2.5</td>\n",
       "    </tr>\n",
       "    <tr>\n",
       "      <th>(;</th>\n",
       "      <td>1.1</td>\n",
       "    </tr>\n",
       "    <tr>\n",
       "      <th>(;&lt;</th>\n",
       "      <td>0.3</td>\n",
       "    </tr>\n",
       "    <tr>\n",
       "      <th>...</th>\n",
       "      <td>...</td>\n",
       "    </tr>\n",
       "    <tr>\n",
       "      <th>xd</th>\n",
       "      <td>2.8</td>\n",
       "    </tr>\n",
       "    <tr>\n",
       "      <th>xp</th>\n",
       "      <td>1.6</td>\n",
       "    </tr>\n",
       "    <tr>\n",
       "      <th>yay</th>\n",
       "      <td>2.4</td>\n",
       "    </tr>\n",
       "    <tr>\n",
       "      <th>yeah</th>\n",
       "      <td>1.2</td>\n",
       "    </tr>\n",
       "    <tr>\n",
       "      <th>yearning</th>\n",
       "      <td>0.5</td>\n",
       "    </tr>\n",
       "    <tr>\n",
       "      <th>yeees</th>\n",
       "      <td>1.7</td>\n",
       "    </tr>\n",
       "    <tr>\n",
       "      <th>yep</th>\n",
       "      <td>1.2</td>\n",
       "    </tr>\n",
       "    <tr>\n",
       "      <th>yes</th>\n",
       "      <td>1.7</td>\n",
       "    </tr>\n",
       "    <tr>\n",
       "      <th>youthful</th>\n",
       "      <td>1.3</td>\n",
       "    </tr>\n",
       "    <tr>\n",
       "      <th>yucky</th>\n",
       "      <td>-1.8</td>\n",
       "    </tr>\n",
       "    <tr>\n",
       "      <th>yummy</th>\n",
       "      <td>2.4</td>\n",
       "    </tr>\n",
       "    <tr>\n",
       "      <th>zealot</th>\n",
       "      <td>-1.9</td>\n",
       "    </tr>\n",
       "    <tr>\n",
       "      <th>zealots</th>\n",
       "      <td>-0.8</td>\n",
       "    </tr>\n",
       "    <tr>\n",
       "      <th>zealous</th>\n",
       "      <td>0.5</td>\n",
       "    </tr>\n",
       "    <tr>\n",
       "      <th>{:</th>\n",
       "      <td>1.8</td>\n",
       "    </tr>\n",
       "    <tr>\n",
       "      <th>|-0</th>\n",
       "      <td>-1.2</td>\n",
       "    </tr>\n",
       "    <tr>\n",
       "      <th>|-:</th>\n",
       "      <td>-0.8</td>\n",
       "    </tr>\n",
       "    <tr>\n",
       "      <th>|-:&gt;</th>\n",
       "      <td>-1.6</td>\n",
       "    </tr>\n",
       "    <tr>\n",
       "      <th>|-o</th>\n",
       "      <td>-1.2</td>\n",
       "    </tr>\n",
       "    <tr>\n",
       "      <th>|:</th>\n",
       "      <td>-0.5</td>\n",
       "    </tr>\n",
       "    <tr>\n",
       "      <th>|;-)</th>\n",
       "      <td>2.2</td>\n",
       "    </tr>\n",
       "    <tr>\n",
       "      <th>|=</th>\n",
       "      <td>-0.4</td>\n",
       "    </tr>\n",
       "    <tr>\n",
       "      <th>|^:</th>\n",
       "      <td>-1.1</td>\n",
       "    </tr>\n",
       "    <tr>\n",
       "      <th>|o:</th>\n",
       "      <td>-0.9</td>\n",
       "    </tr>\n",
       "    <tr>\n",
       "      <th>||-:</th>\n",
       "      <td>-2.3</td>\n",
       "    </tr>\n",
       "    <tr>\n",
       "      <th>}:</th>\n",
       "      <td>-2.1</td>\n",
       "    </tr>\n",
       "    <tr>\n",
       "      <th>}:(</th>\n",
       "      <td>-2.0</td>\n",
       "    </tr>\n",
       "    <tr>\n",
       "      <th>}:)</th>\n",
       "      <td>0.4</td>\n",
       "    </tr>\n",
       "    <tr>\n",
       "      <th>}:-(</th>\n",
       "      <td>-2.1</td>\n",
       "    </tr>\n",
       "    <tr>\n",
       "      <th>}:-)</th>\n",
       "      <td>0.3</td>\n",
       "    </tr>\n",
       "  </tbody>\n",
       "</table>\n",
       "<p>7517 rows × 1 columns</p>\n",
       "</div>"
      ],
      "text/plain": [
       "          polarity\n",
       "token             \n",
       "$:            -1.5\n",
       "%)            -0.4\n",
       "%-)           -1.5\n",
       "&-:           -0.4\n",
       "&:            -0.7\n",
       "( '}{' )       1.6\n",
       "(%            -0.9\n",
       "('-:           2.2\n",
       "(':            2.3\n",
       "((-:           2.1\n",
       "(*             1.1\n",
       "(-%           -0.7\n",
       "(-*            1.3\n",
       "(-:            1.6\n",
       "(-:0           2.8\n",
       "(-:<          -0.4\n",
       "(-:o           1.5\n",
       "(-:O           1.5\n",
       "(-:{          -0.1\n",
       "(-:|>*         1.9\n",
       "(-;            1.3\n",
       "(-;|           2.1\n",
       "(8             2.6\n",
       "(:             2.2\n",
       "(:0            2.4\n",
       "(:<           -0.2\n",
       "(:o            2.5\n",
       "(:O            2.5\n",
       "(;             1.1\n",
       "(;<            0.3\n",
       "...            ...\n",
       "xd             2.8\n",
       "xp             1.6\n",
       "yay            2.4\n",
       "yeah           1.2\n",
       "yearning       0.5\n",
       "yeees          1.7\n",
       "yep            1.2\n",
       "yes            1.7\n",
       "youthful       1.3\n",
       "yucky         -1.8\n",
       "yummy          2.4\n",
       "zealot        -1.9\n",
       "zealots       -0.8\n",
       "zealous        0.5\n",
       "{:             1.8\n",
       "|-0           -1.2\n",
       "|-:           -0.8\n",
       "|-:>          -1.6\n",
       "|-o           -1.2\n",
       "|:            -0.5\n",
       "|;-)           2.2\n",
       "|=            -0.4\n",
       "|^:           -1.1\n",
       "|o:           -0.9\n",
       "||-:          -2.3\n",
       "}:            -2.1\n",
       "}:(           -2.0\n",
       "}:)            0.4\n",
       "}:-(          -2.1\n",
       "}:-)           0.3\n",
       "\n",
       "[7517 rows x 1 columns]"
      ]
     },
     "execution_count": 49,
     "metadata": {},
     "output_type": "execute_result"
    }
   ],
   "source": [
    "sent"
   ]
  },
  {
   "cell_type": "code",
   "execution_count": 50,
   "metadata": {
    "deletable": false,
    "editable": false,
    "nbgrader": {
     "cell_type": "code",
     "checksum": "417f93b4eb89b4206d6b77725b72e56a",
     "grade": true,
     "grade_id": "q6a-test1",
     "locked": true,
     "points": 1,
     "schema_version": 2,
     "solution": false
    },
    "tags": [
     "test",
     "q05a"
    ]
   },
   "outputs": [],
   "source": [
    "assert isinstance(sent, pd.DataFrame)\n",
    "assert sent.shape == (7517, 1)\n",
    "assert list(sent.index[5000:5005]) == ['paranoids', 'pardon', 'pardoned', 'pardoning', 'pardons']\n",
    "assert np.allclose(sent['polarity'].head(), [-1.5, -0.4, -1.5, -0.4, -0.7])"
   ]
  },
  {
   "cell_type": "markdown",
   "metadata": {
    "deletable": false,
    "editable": false,
    "nbgrader": {
     "cell_type": "markdown",
     "checksum": "53a09bb6ee188a572ee0c8501087ac9c",
     "grade": false,
     "grade_id": "q6b-header",
     "locked": true,
     "schema_version": 2,
     "solution": false
    }
   },
   "source": [
    "## Question 6b\n",
    "\n",
    "Now, let's use this lexicon to calculate the overall sentiment for each of Trump's tweets. Here's the basic idea:\n",
    "\n",
    "1. For each tweet, find the sentiment of each word.\n",
    "2. Calculate the sentiment of each tweet by taking the sum of the sentiments of its words.\n",
    "\n",
    "First, let's lowercase the text in the tweets since the lexicon is also lowercase. Set the `text` column of the `trump` DF to be the lowercased text of each tweet."
   ]
  },
  {
   "cell_type": "code",
   "execution_count": 51,
   "metadata": {
    "deletable": false,
    "nbgrader": {
     "cell_type": "code",
     "checksum": "a8bb2469a666ad8f1388abb6ad808881",
     "grade": false,
     "grade_id": "q6b-answer",
     "locked": false,
     "schema_version": 2,
     "solution": true
    },
    "tags": [
     "student"
    ]
   },
   "outputs": [],
   "source": [
    "trump['text'] = trump['text'].str.lower()"
   ]
  },
  {
   "cell_type": "code",
   "execution_count": 52,
   "metadata": {
    "deletable": false,
    "editable": false,
    "nbgrader": {
     "cell_type": "code",
     "checksum": "13de085e42b82bf985f60f6489ed6946",
     "grade": true,
     "grade_id": "q6b-test",
     "locked": true,
     "points": 1,
     "schema_version": 2,
     "solution": false
    },
    "tags": [
     "test",
     "q05b"
    ]
   },
   "outputs": [],
   "source": [
    "assert trump['text'].loc[884740553040175104] == 'working hard to get the olympics for the united states (l.a.). stay tuned!'"
   ]
  },
  {
   "cell_type": "markdown",
   "metadata": {
    "deletable": false,
    "editable": false,
    "nbgrader": {
     "cell_type": "markdown",
     "checksum": "b985c716dee1121b3764f29e1648fe14",
     "grade": false,
     "grade_id": "q6c-header",
     "locked": true,
     "schema_version": 2,
     "solution": false
    }
   },
   "source": [
    "## Question 6c\n",
    "\n",
    "Now, let's get rid of punctuation since it'll cause us to fail to match words. Create a new column called `no_punc` in the `trump` DF to be the lowercased text of each tweet with all punctuation replaced by a single space. We consider punctuation characters to be any character that isn't a Unicode word character or a whitespace character. You may want to consult the Python documentation on regexes for this problem.\n",
    "\n",
    "(Why don't we simply remove punctuation instead of replacing with a space? See if you can figure this out by looking at the tweet data.)"
   ]
  },
  {
   "cell_type": "code",
   "execution_count": 53,
   "metadata": {
    "deletable": false,
    "nbgrader": {
     "cell_type": "code",
     "checksum": "2901325706be092abb437c239e7d3d83",
     "grade": false,
     "grade_id": "q6c",
     "locked": false,
     "schema_version": 2,
     "solution": true
    },
    "tags": [
     "student"
    ]
   },
   "outputs": [],
   "source": [
    "# Save your regex in punct_re\n",
    "punct_re = r'[^\\w\\s]'\n",
    "trump['no_punc'] = [re.sub(punct_re, ' ', string = y) for y in trump['text']]"
   ]
  },
  {
   "cell_type": "code",
   "execution_count": 54,
   "metadata": {
    "deletable": false,
    "editable": false,
    "nbgrader": {
     "cell_type": "code",
     "checksum": "acba51f5c1ed85ceafe923184be4be33",
     "grade": true,
     "grade_id": "q6c-test",
     "locked": true,
     "points": 1,
     "schema_version": 2,
     "solution": false
    },
    "tags": [
     "test",
     "q05c"
    ]
   },
   "outputs": [],
   "source": [
    "assert isinstance(punct_re, str)\n",
    "assert re.search(punct_re, 'this') is None\n",
    "assert re.search(punct_re, 'this is ok') is None\n",
    "assert re.search(punct_re, 'this is\\nok') is None\n",
    "assert re.search(punct_re, 'this is not ok.') is not None\n",
    "assert re.search(punct_re, 'this#is#ok') is not None\n",
    "assert re.search(punct_re, 'this^is ok') is not None\n",
    "assert trump['no_punc'].loc[800329364986626048] == 'i watched parts of  nbcsnl saturday night live last night  it is a totally one sided  biased show   nothing funny at all  equal time for us '\n",
    "assert trump['no_punc'].loc[894620077634592769] == 'on  purpleheartday i thank all the brave men and women who have sacrificed in battle for this great nation   usa   https   t co qmfdlslp6p'\n",
    "# If you fail these tests, you accidentally changed the text column\n",
    "assert trump['text'].loc[884740553040175104] == 'working hard to get the olympics for the united states (l.a.). stay tuned!'"
   ]
  },
  {
   "cell_type": "markdown",
   "metadata": {
    "deletable": false,
    "editable": false,
    "nbgrader": {
     "cell_type": "markdown",
     "checksum": "f5839488bd1747eb5a57c1f22124fd25",
     "grade": false,
     "grade_id": "q6d-header",
     "locked": true,
     "schema_version": 2,
     "solution": false
    }
   },
   "source": [
    "## Question 6d:\n",
    "\n",
    "\n",
    "Now, let's convert the tweets into what's called a [*tidy format*](https://cran.r-project.org/web/packages/tidyr/vignettes/tidy-data.html) to make the sentiments easier to calculate. Use the `no_punc` column of `trump` to create a table called `tidy_format`. The index of the table should be the IDs of the tweets, repeated once for every word in the tweet. It has two columns:\n",
    "\n",
    "1. `num`: The location of the word in the tweet. For example, if the tweet was \"i love america\", then the location of the word \"i\" is 0, \"love\" is 1, and \"america\" is 2.\n",
    "2. `word`: The individual words of each tweet.\n",
    "\n",
    "The first few rows of our `tidy_format` table look like:\n",
    "\n",
    "<table border=\"1\" class=\"dataframe\">\n",
    "  <thead>\n",
    "    <tr style=\"text-align: right;\">\n",
    "      <th></th>\n",
    "      <th>num</th>\n",
    "      <th>word</th>\n",
    "    </tr>\n",
    "  </thead>\n",
    "  <tbody>\n",
    "    <tr>\n",
    "      <th>894661651760377856</th>\n",
    "      <td>0</td>\n",
    "      <td>i</td>\n",
    "    </tr>\n",
    "    <tr>\n",
    "      <th>894661651760377856</th>\n",
    "      <td>1</td>\n",
    "      <td>think</td>\n",
    "    </tr>\n",
    "    <tr>\n",
    "      <th>894661651760377856</th>\n",
    "      <td>2</td>\n",
    "      <td>senator</td>\n",
    "    </tr>\n",
    "    <tr>\n",
    "      <th>894661651760377856</th>\n",
    "      <td>3</td>\n",
    "      <td>blumenthal</td>\n",
    "    </tr>\n",
    "    <tr>\n",
    "      <th>894661651760377856</th>\n",
    "      <td>4</td>\n",
    "      <td>should</td>\n",
    "    </tr>\n",
    "  </tbody>\n",
    "</table>\n",
    "\n",
    "**Note that you'll get different results depending on when you pulled in the tweets.** However, you can double check that your tweet with ID `894661651760377856` has the same rows as ours. Our tests don't check whether your table looks exactly like ours.\n",
    "\n",
    "As usual, try to avoid using any for loops. Our solution uses a chain of 5 methods on the 'trump' DF, albeit using some rather advanced Pandas hacking.\n",
    "\n",
    "* **Hint 1:** Try looking at the `expand` argument to pandas' `str.split`.\n",
    "\n",
    "* **Hint 2:** Try looking at the `stack()` method.\n",
    "\n",
    "* **Hint 3:** Try looking at the `level` parameter of the `reset_index` method.\n"
   ]
  },
  {
   "cell_type": "code",
   "execution_count": 55,
   "metadata": {
    "deletable": false,
    "nbgrader": {
     "cell_type": "code",
     "checksum": "71f93a81cbd4dd1b2ff47a6d65ef758e",
     "grade": false,
     "grade_id": "q6d-answer",
     "locked": false,
     "schema_version": 2,
     "solution": true
    },
    "tags": [
     "student"
    ]
   },
   "outputs": [],
   "source": [
    "tidy_format = trump['no_punc'].str.split(expand = True).stack()\n",
    "tidy_format = tidy_format.reset_index(level = -1)\n",
    "tidy_format = tidy_format.rename(columns = {\"level_1\": \"num\", 0: \"word\"})"
   ]
  },
  {
   "cell_type": "code",
   "execution_count": 56,
   "metadata": {
    "deletable": false,
    "editable": false,
    "nbgrader": {
     "cell_type": "code",
     "checksum": "78b35d7cc8348ceb6ffbd17591dfd4f1",
     "grade": true,
     "grade_id": "q6d-tests",
     "locked": true,
     "points": 1,
     "schema_version": 2,
     "solution": false
    },
    "tags": [
     "test",
     "q05d"
    ]
   },
   "outputs": [],
   "source": [
    "assert tidy_format.loc[894661651760377856].shape == (27, 2)\n",
    "assert ' '.join(list(tidy_format.loc[894661651760377856]['word'])) == 'i think senator blumenthal should take a nice long vacation in vietnam where he lied about his service so he can at least say he was there'"
   ]
  },
  {
   "cell_type": "code",
   "execution_count": 57,
   "metadata": {},
   "outputs": [
    {
     "data": {
      "text/html": [
       "<div>\n",
       "<style scoped>\n",
       "    .dataframe tbody tr th:only-of-type {\n",
       "        vertical-align: middle;\n",
       "    }\n",
       "\n",
       "    .dataframe tbody tr th {\n",
       "        vertical-align: top;\n",
       "    }\n",
       "\n",
       "    .dataframe thead th {\n",
       "        text-align: right;\n",
       "    }\n",
       "</style>\n",
       "<table border=\"1\" class=\"dataframe\">\n",
       "  <thead>\n",
       "    <tr style=\"text-align: right;\">\n",
       "      <th></th>\n",
       "      <th>num</th>\n",
       "      <th>word</th>\n",
       "    </tr>\n",
       "  </thead>\n",
       "  <tbody>\n",
       "    <tr>\n",
       "      <th>1053076069564071936</th>\n",
       "      <td>0</td>\n",
       "      <td>the</td>\n",
       "    </tr>\n",
       "    <tr>\n",
       "      <th>1053076069564071936</th>\n",
       "      <td>1</td>\n",
       "      <td>only</td>\n",
       "    </tr>\n",
       "    <tr>\n",
       "      <th>1053076069564071936</th>\n",
       "      <td>2</td>\n",
       "      <td>thing</td>\n",
       "    </tr>\n",
       "    <tr>\n",
       "      <th>1053076069564071936</th>\n",
       "      <td>3</td>\n",
       "      <td>keeping</td>\n",
       "    </tr>\n",
       "    <tr>\n",
       "      <th>1053076069564071936</th>\n",
       "      <td>4</td>\n",
       "      <td>tester</td>\n",
       "    </tr>\n",
       "    <tr>\n",
       "      <th>1053076069564071936</th>\n",
       "      <td>5</td>\n",
       "      <td>alive</td>\n",
       "    </tr>\n",
       "    <tr>\n",
       "      <th>1053076069564071936</th>\n",
       "      <td>6</td>\n",
       "      <td>is</td>\n",
       "    </tr>\n",
       "    <tr>\n",
       "      <th>1053076069564071936</th>\n",
       "      <td>7</td>\n",
       "      <td>he</td>\n",
       "    </tr>\n",
       "    <tr>\n",
       "      <th>1053076069564071936</th>\n",
       "      <td>8</td>\n",
       "      <td>has</td>\n",
       "    </tr>\n",
       "    <tr>\n",
       "      <th>1053076069564071936</th>\n",
       "      <td>9</td>\n",
       "      <td>millions</td>\n",
       "    </tr>\n",
       "    <tr>\n",
       "      <th>1053076069564071936</th>\n",
       "      <td>10</td>\n",
       "      <td>and</td>\n",
       "    </tr>\n",
       "    <tr>\n",
       "      <th>1053076069564071936</th>\n",
       "      <td>11</td>\n",
       "      <td>millions</td>\n",
       "    </tr>\n",
       "    <tr>\n",
       "      <th>1053076069564071936</th>\n",
       "      <td>12</td>\n",
       "      <td>of</td>\n",
       "    </tr>\n",
       "    <tr>\n",
       "      <th>1053076069564071936</th>\n",
       "      <td>13</td>\n",
       "      <td>dollars</td>\n",
       "    </tr>\n",
       "    <tr>\n",
       "      <th>1053076069564071936</th>\n",
       "      <td>14</td>\n",
       "      <td>from</td>\n",
       "    </tr>\n",
       "    <tr>\n",
       "      <th>1053076069564071936</th>\n",
       "      <td>15</td>\n",
       "      <td>outside</td>\n",
       "    </tr>\n",
       "    <tr>\n",
       "      <th>1053076069564071936</th>\n",
       "      <td>16</td>\n",
       "      <td>liberals</td>\n",
       "    </tr>\n",
       "    <tr>\n",
       "      <th>1053076069564071936</th>\n",
       "      <td>17</td>\n",
       "      <td>and</td>\n",
       "    </tr>\n",
       "    <tr>\n",
       "      <th>1053076069564071936</th>\n",
       "      <td>18</td>\n",
       "      <td>leftists</td>\n",
       "    </tr>\n",
       "    <tr>\n",
       "      <th>1053076069564071936</th>\n",
       "      <td>19</td>\n",
       "      <td>who</td>\n",
       "    </tr>\n",
       "    <tr>\n",
       "      <th>1053076069564071936</th>\n",
       "      <td>20</td>\n",
       "      <td>couldn</td>\n",
       "    </tr>\n",
       "    <tr>\n",
       "      <th>1053076069564071936</th>\n",
       "      <td>21</td>\n",
       "      <td>t</td>\n",
       "    </tr>\n",
       "    <tr>\n",
       "      <th>1053076069564071936</th>\n",
       "      <td>22</td>\n",
       "      <td>care</td>\n",
       "    </tr>\n",
       "    <tr>\n",
       "      <th>1053076069564071936</th>\n",
       "      <td>23</td>\n",
       "      <td>less</td>\n",
       "    </tr>\n",
       "    <tr>\n",
       "      <th>1053076069564071936</th>\n",
       "      <td>24</td>\n",
       "      <td>about</td>\n",
       "    </tr>\n",
       "    <tr>\n",
       "      <th>1053076069564071936</th>\n",
       "      <td>25</td>\n",
       "      <td>our</td>\n",
       "    </tr>\n",
       "    <tr>\n",
       "      <th>1053076069564071936</th>\n",
       "      <td>26</td>\n",
       "      <td>country</td>\n",
       "    </tr>\n",
       "    <tr>\n",
       "      <th>1053074465150578688</th>\n",
       "      <td>0</td>\n",
       "      <td>will</td>\n",
       "    </tr>\n",
       "    <tr>\n",
       "      <th>1053074465150578688</th>\n",
       "      <td>1</td>\n",
       "      <td>be</td>\n",
       "    </tr>\n",
       "    <tr>\n",
       "      <th>1053074465150578688</th>\n",
       "      <td>2</td>\n",
       "      <td>landing</td>\n",
       "    </tr>\n",
       "    <tr>\n",
       "      <th>...</th>\n",
       "      <td>...</td>\n",
       "      <td>...</td>\n",
       "    </tr>\n",
       "    <tr>\n",
       "      <th>894875602045607936</th>\n",
       "      <td>7</td>\n",
       "      <td>from</td>\n",
       "    </tr>\n",
       "    <tr>\n",
       "      <th>894875602045607936</th>\n",
       "      <td>8</td>\n",
       "      <td>obamacare</td>\n",
       "    </tr>\n",
       "    <tr>\n",
       "      <th>894875602045607936</th>\n",
       "      <td>9</td>\n",
       "      <td>exchange</td>\n",
       "    </tr>\n",
       "    <tr>\n",
       "      <th>894875602045607936</th>\n",
       "      <td>10</td>\n",
       "      <td>in</td>\n",
       "    </tr>\n",
       "    <tr>\n",
       "      <th>894875602045607936</th>\n",
       "      <td>11</td>\n",
       "      <td>nevada</td>\n",
       "    </tr>\n",
       "    <tr>\n",
       "      <th>894875602045607936</th>\n",
       "      <td>12</td>\n",
       "      <td>https</td>\n",
       "    </tr>\n",
       "    <tr>\n",
       "      <th>894875602045607936</th>\n",
       "      <td>13</td>\n",
       "      <td>t</td>\n",
       "    </tr>\n",
       "    <tr>\n",
       "      <th>894875602045607936</th>\n",
       "      <td>14</td>\n",
       "      <td>co</td>\n",
       "    </tr>\n",
       "    <tr>\n",
       "      <th>894875602045607936</th>\n",
       "      <td>15</td>\n",
       "      <td>d0cxehqkwz</td>\n",
       "    </tr>\n",
       "    <tr>\n",
       "      <th>894871302250668032</th>\n",
       "      <td>0</td>\n",
       "      <td>rt</td>\n",
       "    </tr>\n",
       "    <tr>\n",
       "      <th>894871302250668032</th>\n",
       "      <td>1</td>\n",
       "      <td>foxandfriends</td>\n",
       "    </tr>\n",
       "    <tr>\n",
       "      <th>894871302250668032</th>\n",
       "      <td>2</td>\n",
       "      <td>u</td>\n",
       "    </tr>\n",
       "    <tr>\n",
       "      <th>894871302250668032</th>\n",
       "      <td>3</td>\n",
       "      <td>s</td>\n",
       "    </tr>\n",
       "    <tr>\n",
       "      <th>894871302250668032</th>\n",
       "      <td>4</td>\n",
       "      <td>spy</td>\n",
       "    </tr>\n",
       "    <tr>\n",
       "      <th>894871302250668032</th>\n",
       "      <td>5</td>\n",
       "      <td>satellites</td>\n",
       "    </tr>\n",
       "    <tr>\n",
       "      <th>894871302250668032</th>\n",
       "      <td>6</td>\n",
       "      <td>detect</td>\n",
       "    </tr>\n",
       "    <tr>\n",
       "      <th>894871302250668032</th>\n",
       "      <td>7</td>\n",
       "      <td>north</td>\n",
       "    </tr>\n",
       "    <tr>\n",
       "      <th>894871302250668032</th>\n",
       "      <td>8</td>\n",
       "      <td>korea</td>\n",
       "    </tr>\n",
       "    <tr>\n",
       "      <th>894871302250668032</th>\n",
       "      <td>9</td>\n",
       "      <td>moving</td>\n",
       "    </tr>\n",
       "    <tr>\n",
       "      <th>894871302250668032</th>\n",
       "      <td>10</td>\n",
       "      <td>anti</td>\n",
       "    </tr>\n",
       "    <tr>\n",
       "      <th>894871302250668032</th>\n",
       "      <td>11</td>\n",
       "      <td>ship</td>\n",
       "    </tr>\n",
       "    <tr>\n",
       "      <th>894871302250668032</th>\n",
       "      <td>12</td>\n",
       "      <td>cruise</td>\n",
       "    </tr>\n",
       "    <tr>\n",
       "      <th>894871302250668032</th>\n",
       "      <td>13</td>\n",
       "      <td>missiles</td>\n",
       "    </tr>\n",
       "    <tr>\n",
       "      <th>894871302250668032</th>\n",
       "      <td>14</td>\n",
       "      <td>to</td>\n",
       "    </tr>\n",
       "    <tr>\n",
       "      <th>894871302250668032</th>\n",
       "      <td>15</td>\n",
       "      <td>patrol</td>\n",
       "    </tr>\n",
       "    <tr>\n",
       "      <th>894871302250668032</th>\n",
       "      <td>16</td>\n",
       "      <td>boat</td>\n",
       "    </tr>\n",
       "    <tr>\n",
       "      <th>894871302250668032</th>\n",
       "      <td>17</td>\n",
       "      <td>https</td>\n",
       "    </tr>\n",
       "    <tr>\n",
       "      <th>894871302250668032</th>\n",
       "      <td>18</td>\n",
       "      <td>t</td>\n",
       "    </tr>\n",
       "    <tr>\n",
       "      <th>894871302250668032</th>\n",
       "      <td>19</td>\n",
       "      <td>co</td>\n",
       "    </tr>\n",
       "    <tr>\n",
       "      <th>894871302250668032</th>\n",
       "      <td>20</td>\n",
       "      <td>bpfxslffgy</td>\n",
       "    </tr>\n",
       "  </tbody>\n",
       "</table>\n",
       "<p>218233 rows × 2 columns</p>\n",
       "</div>"
      ],
      "text/plain": [
       "                     num           word\n",
       "1053076069564071936    0            the\n",
       "1053076069564071936    1           only\n",
       "1053076069564071936    2          thing\n",
       "1053076069564071936    3        keeping\n",
       "1053076069564071936    4         tester\n",
       "1053076069564071936    5          alive\n",
       "1053076069564071936    6             is\n",
       "1053076069564071936    7             he\n",
       "1053076069564071936    8            has\n",
       "1053076069564071936    9       millions\n",
       "1053076069564071936   10            and\n",
       "1053076069564071936   11       millions\n",
       "1053076069564071936   12             of\n",
       "1053076069564071936   13        dollars\n",
       "1053076069564071936   14           from\n",
       "1053076069564071936   15        outside\n",
       "1053076069564071936   16       liberals\n",
       "1053076069564071936   17            and\n",
       "1053076069564071936   18       leftists\n",
       "1053076069564071936   19            who\n",
       "1053076069564071936   20         couldn\n",
       "1053076069564071936   21              t\n",
       "1053076069564071936   22           care\n",
       "1053076069564071936   23           less\n",
       "1053076069564071936   24          about\n",
       "1053076069564071936   25            our\n",
       "1053076069564071936   26        country\n",
       "1053074465150578688    0           will\n",
       "1053074465150578688    1             be\n",
       "1053074465150578688    2        landing\n",
       "...                  ...            ...\n",
       "894875602045607936     7           from\n",
       "894875602045607936     8      obamacare\n",
       "894875602045607936     9       exchange\n",
       "894875602045607936    10             in\n",
       "894875602045607936    11         nevada\n",
       "894875602045607936    12          https\n",
       "894875602045607936    13              t\n",
       "894875602045607936    14             co\n",
       "894875602045607936    15     d0cxehqkwz\n",
       "894871302250668032     0             rt\n",
       "894871302250668032     1  foxandfriends\n",
       "894871302250668032     2              u\n",
       "894871302250668032     3              s\n",
       "894871302250668032     4            spy\n",
       "894871302250668032     5     satellites\n",
       "894871302250668032     6         detect\n",
       "894871302250668032     7          north\n",
       "894871302250668032     8          korea\n",
       "894871302250668032     9         moving\n",
       "894871302250668032    10           anti\n",
       "894871302250668032    11           ship\n",
       "894871302250668032    12         cruise\n",
       "894871302250668032    13       missiles\n",
       "894871302250668032    14             to\n",
       "894871302250668032    15         patrol\n",
       "894871302250668032    16           boat\n",
       "894871302250668032    17          https\n",
       "894871302250668032    18              t\n",
       "894871302250668032    19             co\n",
       "894871302250668032    20     bpfxslffgy\n",
       "\n",
       "[218233 rows x 2 columns]"
      ]
     },
     "execution_count": 57,
     "metadata": {},
     "output_type": "execute_result"
    }
   ],
   "source": [
    "tidy_format"
   ]
  },
  {
   "cell_type": "markdown",
   "metadata": {
    "deletable": false,
    "editable": false,
    "nbgrader": {
     "cell_type": "markdown",
     "checksum": "b170181366bfdd62b6d5df9e487479b3",
     "grade": false,
     "grade_id": "q6e-header",
     "locked": true,
     "schema_version": 2,
     "solution": false
    }
   },
   "source": [
    "## Question 6e:\n",
    "\n",
    "Now that we have this table in the tidy format, it becomes much easier to find the sentiment of each tweet: we can join the table with the lexicon table. \n",
    "\n",
    "Add a `polarity` column to the `trump` table.  The `polarity` column should contain the sum of the sentiment polarity of each word in the text of the tweet.\n",
    "\n",
    "**Hint** you will need to merge the `tidy_format` and `sent` tables and group the final answer.\n"
   ]
  },
  {
   "cell_type": "code",
   "execution_count": 58,
   "metadata": {
    "deletable": false,
    "nbgrader": {
     "cell_type": "code",
     "checksum": "5ad778cbb8a86c9255acac2d8799fa96",
     "grade": false,
     "grade_id": "q6e",
     "locked": false,
     "schema_version": 2,
     "solution": true
    },
    "tags": [
     "student"
    ]
   },
   "outputs": [],
   "source": [
    "trump['polarity'] = tidy_format.merge(right = sent, how = 'left', left_on = 'word', right_index = True).fillna(value = 0).reset_index().set_index(['index', 'num']).groupby('index').agg({'polarity': 'sum'}).loc[:, 'polarity']"
   ]
  },
  {
   "cell_type": "code",
   "execution_count": 59,
   "metadata": {
    "deletable": false,
    "editable": false,
    "nbgrader": {
     "cell_type": "code",
     "checksum": "ff43fac8ac5a95a2eef4bbb52405ad16",
     "grade": true,
     "grade_id": "q6e-tests",
     "locked": true,
     "points": 2,
     "schema_version": 2,
     "solution": false
    },
    "tags": [
     "test",
     "q05e"
    ]
   },
   "outputs": [],
   "source": [
    "assert np.allclose(trump.loc[744701872456536064, 'polarity'], 8.4)\n",
    "assert np.allclose(trump.loc[745304731346702336, 'polarity'], 2.5)\n",
    "assert np.allclose(trump.loc[744519497764184064, 'polarity'], 1.7)\n",
    "assert np.allclose(trump.loc[894661651760377856, 'polarity'], 0.2)\n",
    "assert np.allclose(trump.loc[894620077634592769, 'polarity'], 5.4)\n",
    "# If you fail this test, you dropped tweets with 0 polarity\n",
    "assert np.allclose(trump.loc[744355251365511169, 'polarity'], 0.0)"
   ]
  },
  {
   "cell_type": "markdown",
   "metadata": {
    "deletable": false,
    "editable": false,
    "nbgrader": {
     "cell_type": "markdown",
     "checksum": "1d52c721610f2c6a5e4862a1866e5abc",
     "grade": false,
     "grade_id": "a-note-on-vader",
     "locked": true,
     "schema_version": 2,
     "solution": false
    }
   },
   "source": [
    "Now we have a measure of the sentiment of each of his tweets! Note that this calculation is rather basic; you can read over the VADER readme to understand a more robust sentiment analysis.\n",
    "\n",
    "Now, run the cells below to see the most positive and most negative tweets from Trump in your dataset:"
   ]
  },
  {
   "cell_type": "code",
   "execution_count": 60,
   "metadata": {
    "deletable": false,
    "editable": false,
    "nbgrader": {
     "cell_type": "code",
     "checksum": "3ea0c421557a05c5a03c51515a5fdc78",
     "grade": false,
     "grade_id": "negative-tweets",
     "locked": true,
     "schema_version": 2,
     "solution": false
    }
   },
   "outputs": [
    {
     "name": "stdout",
     "output_type": "stream",
     "text": [
      "Most negative tweets:\n",
      "\n",
      "   it is outrageous that poisonous synthetic heroin fentanyl comes pouring into the u.s. postal system from china. we can, and must, end this now! the senate should pass the stop act – and firmly stop this poison from killing our children and destroying our country. no more delay!\n",
      "\n",
      "   the rigged russian witch hunt goes on and on as the “originators and founders” of this scam continue to be fired and demoted for their corrupt and illegal activity. all credibility is gone from this terrible hoax, and much more will be lost as it proceeds. no collusion!\n",
      "\n",
      "   james comey is a proven leaker &amp; liar. virtually everyone in washington thought he should be fired for the terrible job he did-until he was, in fact, fired. he leaked classified information, for which he should be prosecuted. he lied to congress under oath. he is a weak and.....\n",
      "\n",
      "   this is an illegally brought rigged witch hunt run by people who are totally corrupt and/or conflicted. it was started and paid for by crooked hillary and the democrats. phony dossier, fisa disgrace and so many lying and dishonest people already fired. 17 angry dems? stay tuned!\n",
      "\n",
      "   where’s the collusion? they made up a phony crime called collusion, and when there was no collusion they say there was obstruction (of a phony crime that never existed). if you fight back or say anything bad about the rigged witch hunt, they scream obstruction!\n"
     ]
    }
   ],
   "source": [
    "print('Most negative tweets:')\n",
    "for t in trump.sort_values('polarity').head()['text']:\n",
    "    print('\\n  ', t)"
   ]
  },
  {
   "cell_type": "code",
   "execution_count": 61,
   "metadata": {
    "deletable": false,
    "editable": false,
    "nbgrader": {
     "cell_type": "code",
     "checksum": "e0d27a82de94a1ce5cf64a2c72ffb7aa",
     "grade": false,
     "grade_id": "postive-tweets",
     "locked": true,
     "schema_version": 2,
     "solution": false
    }
   },
   "outputs": [
    {
     "name": "stdout",
     "output_type": "stream",
     "text": [
      "Most positive tweets:\n",
      "\n",
      "   congratulations to patrick reed on his great and courageous masters win! when patrick had his amazing win at doral 5 years ago, people saw his great talent, and a bright future ahead. now he is the masters champion!\n",
      "\n",
      "   my supporters are the smartest, strongest, most hard working and most loyal that we have seen in our countries history. it is a beautiful thing to watch as we win elections and gather support from all over the country. as we get stronger, so does our country. best numbers ever!\n",
      "\n",
      "   thank you to all of my great supporters, really big progress being made. other countries wanting to fix crazy trade deals. economy is roaring. supreme court pick getting great reviews. new poll says trump, at over 90%, is the most popular republican in history of the party. wow!\n",
      "\n",
      "   thank you, @wvgovernor jim justice, for that warm introduction. tonight, it was my great honor to attend the “greenbrier classic – salute to service dinner” in west virginia! god bless our veterans. god bless america - and happy independence day to all! https://t.co/v35qvcn8m6\n",
      "\n",
      "   the republican party had a great night. tremendous voter energy and excitement, and all candidates are those who have a great chance of winning in november. the economy is sooo strong, and with nancy pelosi wanting to end the big tax cuts and raise taxes, why wouldn’t we win?\n"
     ]
    }
   ],
   "source": [
    "print('Most positive tweets:')\n",
    "for t in trump.sort_values('polarity', ascending=False).head()['text']:\n",
    "    print('\\n  ', t)"
   ]
  },
  {
   "cell_type": "markdown",
   "metadata": {
    "deletable": false,
    "editable": false,
    "nbgrader": {
     "cell_type": "markdown",
     "checksum": "0f2ca7db78e7689cdd731e11c9dcffb9",
     "grade": false,
     "grade_id": "q6g",
     "locked": true,
     "schema_version": 2,
     "solution": false
    }
   },
   "source": [
    "## Question 6g\n",
    "\n",
    "Plot the distribution of tweet sentiments broken down by whether the text of the tweet contains `nyt` or `fox`.  Then in the box below comment on what we observe?"
   ]
  },
  {
   "cell_type": "code",
   "execution_count": 62,
   "metadata": {
    "deletable": false,
    "nbgrader": {
     "cell_type": "code",
     "checksum": "4eb3b83e9188000a1a52427c06ea3c62",
     "grade": true,
     "grade_id": "q6g-answer",
     "locked": false,
     "points": 1,
     "schema_version": 2,
     "solution": true
    },
    "tags": [
     "student"
    ]
   },
   "outputs": [
    {
     "data": {
      "text/plain": [
       "Text(0.5,1,'Distribution of Tweet Polarity if Tweet contains Fox News or New York Times')"
      ]
     },
     "execution_count": 62,
     "metadata": {},
     "output_type": "execute_result"
    },
    {
     "data": {
      "image/png": "[encoded data removed]",
      "text/plain": [
       "<matplotlib.figure.Figure at 0x7fbf69637630>"
      ]
     },
     "metadata": {},
     "output_type": "display_data"
    }
   ],
   "source": [
    "nyt_tweets = trump.loc[trump['no_punc'].str.contains(pat = 'nyt'), 'polarity']\n",
    "fox_tweets = trump.loc[trump['no_punc'].str.contains(pat = 'fox'), 'polarity']\n",
    "sns.distplot(a = nyt_tweets, label = 'New York Times')\n",
    "sns.distplot(a = fox_tweets, label = 'Fox News')\n",
    "plt.xlabel('polarity')\n",
    "plt.ylabel('fraction')\n",
    "plt.legend(labels = ['New York Times', 'Fox News'])\n",
    "plt.title('Distribution of Tweet Polarity if Tweet contains Fox News or New York Times')"
   ]
  },
  {
   "cell_type": "markdown",
   "metadata": {
    "deletable": false,
    "editable": false,
    "nbgrader": {
     "cell_type": "markdown",
     "checksum": "88e3a81cb1d24df731e4d72d10f08d9f",
     "grade": false,
     "grade_id": "comment-on-faux-news",
     "locked": true,
     "schema_version": 2,
     "solution": false
    }
   },
   "source": [
    "#### Comment on what you observe:"
   ]
  },
  {
   "cell_type": "markdown",
   "metadata": {
    "deletable": false,
    "nbgrader": {
     "cell_type": "markdown",
     "checksum": "07f011cfd9a34c2b3314f2a3aa210187",
     "grade": true,
     "grade_id": "q6g-written",
     "locked": false,
     "points": 1,
     "schema_version": 2,
     "solution": true
    }
   },
   "source": [
    "It appears that the New York Times distribution is skewed right, while the Fox News distribution is skewed left. The Fox News distribution clearly has 2 modes: one centered at approximately a polarity of zero, and another at approximately a polarity of 2-3. The New York Times distribution has a wider spread than the Fox News distribution. The Fox News distribution is centered around a positive polarity value of between 1 and 3, while the New York Times distribution is centered around a negative polarity value of between -1 and -3. \n",
    "\n",
    "In context, this distribution seems to confirm the idea that President Trump posts, on average, negative tweets regarding or associated with the New York Times (a primarily liberal-leaning publication), and posts, on average, positive tweets regarding or associated with Fox News (a primarily conservative-leaning TV channel). Since the President supports conservative ideas and politicians and hates liberal ideas and politicians, this interpretation and distribution make sense. "
   ]
  },
  {
   "cell_type": "code",
   "execution_count": 54,
   "metadata": {},
   "outputs": [
    {
     "data": {
      "text/html": [
       "<div>\n",
       "<style scoped>\n",
       "    .dataframe tbody tr th:only-of-type {\n",
       "        vertical-align: middle;\n",
       "    }\n",
       "\n",
       "    .dataframe tbody tr th {\n",
       "        vertical-align: top;\n",
       "    }\n",
       "\n",
       "    .dataframe thead th {\n",
       "        text-align: right;\n",
       "    }\n",
       "</style>\n",
       "<table border=\"1\" class=\"dataframe\">\n",
       "  <thead>\n",
       "    <tr style=\"text-align: right;\">\n",
       "      <th></th>\n",
       "      <th>num</th>\n",
       "      <th>word</th>\n",
       "    </tr>\n",
       "  </thead>\n",
       "  <tbody>\n",
       "    <tr>\n",
       "      <th>1053076069564071936</th>\n",
       "      <td>0</td>\n",
       "      <td>the</td>\n",
       "    </tr>\n",
       "    <tr>\n",
       "      <th>1053076069564071936</th>\n",
       "      <td>1</td>\n",
       "      <td>only</td>\n",
       "    </tr>\n",
       "    <tr>\n",
       "      <th>1053076069564071936</th>\n",
       "      <td>2</td>\n",
       "      <td>thing</td>\n",
       "    </tr>\n",
       "    <tr>\n",
       "      <th>1053076069564071936</th>\n",
       "      <td>3</td>\n",
       "      <td>keeping</td>\n",
       "    </tr>\n",
       "    <tr>\n",
       "      <th>1053076069564071936</th>\n",
       "      <td>4</td>\n",
       "      <td>tester</td>\n",
       "    </tr>\n",
       "    <tr>\n",
       "      <th>1053076069564071936</th>\n",
       "      <td>5</td>\n",
       "      <td>alive</td>\n",
       "    </tr>\n",
       "    <tr>\n",
       "      <th>1053076069564071936</th>\n",
       "      <td>6</td>\n",
       "      <td>is</td>\n",
       "    </tr>\n",
       "    <tr>\n",
       "      <th>1053076069564071936</th>\n",
       "      <td>7</td>\n",
       "      <td>he</td>\n",
       "    </tr>\n",
       "    <tr>\n",
       "      <th>1053076069564071936</th>\n",
       "      <td>8</td>\n",
       "      <td>has</td>\n",
       "    </tr>\n",
       "    <tr>\n",
       "      <th>1053076069564071936</th>\n",
       "      <td>9</td>\n",
       "      <td>millions</td>\n",
       "    </tr>\n",
       "    <tr>\n",
       "      <th>1053076069564071936</th>\n",
       "      <td>10</td>\n",
       "      <td>and</td>\n",
       "    </tr>\n",
       "    <tr>\n",
       "      <th>1053076069564071936</th>\n",
       "      <td>11</td>\n",
       "      <td>millions</td>\n",
       "    </tr>\n",
       "    <tr>\n",
       "      <th>1053076069564071936</th>\n",
       "      <td>12</td>\n",
       "      <td>of</td>\n",
       "    </tr>\n",
       "    <tr>\n",
       "      <th>1053076069564071936</th>\n",
       "      <td>13</td>\n",
       "      <td>dollars</td>\n",
       "    </tr>\n",
       "    <tr>\n",
       "      <th>1053076069564071936</th>\n",
       "      <td>14</td>\n",
       "      <td>from</td>\n",
       "    </tr>\n",
       "    <tr>\n",
       "      <th>1053076069564071936</th>\n",
       "      <td>15</td>\n",
       "      <td>outside</td>\n",
       "    </tr>\n",
       "    <tr>\n",
       "      <th>1053076069564071936</th>\n",
       "      <td>16</td>\n",
       "      <td>liberals</td>\n",
       "    </tr>\n",
       "    <tr>\n",
       "      <th>1053076069564071936</th>\n",
       "      <td>17</td>\n",
       "      <td>and</td>\n",
       "    </tr>\n",
       "    <tr>\n",
       "      <th>1053076069564071936</th>\n",
       "      <td>18</td>\n",
       "      <td>leftists</td>\n",
       "    </tr>\n",
       "    <tr>\n",
       "      <th>1053076069564071936</th>\n",
       "      <td>19</td>\n",
       "      <td>who</td>\n",
       "    </tr>\n",
       "    <tr>\n",
       "      <th>1053076069564071936</th>\n",
       "      <td>20</td>\n",
       "      <td>couldn</td>\n",
       "    </tr>\n",
       "    <tr>\n",
       "      <th>1053076069564071936</th>\n",
       "      <td>21</td>\n",
       "      <td>t</td>\n",
       "    </tr>\n",
       "    <tr>\n",
       "      <th>1053076069564071936</th>\n",
       "      <td>22</td>\n",
       "      <td>care</td>\n",
       "    </tr>\n",
       "    <tr>\n",
       "      <th>1053076069564071936</th>\n",
       "      <td>23</td>\n",
       "      <td>less</td>\n",
       "    </tr>\n",
       "    <tr>\n",
       "      <th>1053076069564071936</th>\n",
       "      <td>24</td>\n",
       "      <td>about</td>\n",
       "    </tr>\n",
       "    <tr>\n",
       "      <th>1053076069564071936</th>\n",
       "      <td>25</td>\n",
       "      <td>our</td>\n",
       "    </tr>\n",
       "    <tr>\n",
       "      <th>1053076069564071936</th>\n",
       "      <td>26</td>\n",
       "      <td>country</td>\n",
       "    </tr>\n",
       "    <tr>\n",
       "      <th>1053074465150578688</th>\n",
       "      <td>0</td>\n",
       "      <td>will</td>\n",
       "    </tr>\n",
       "    <tr>\n",
       "      <th>1053074465150578688</th>\n",
       "      <td>1</td>\n",
       "      <td>be</td>\n",
       "    </tr>\n",
       "    <tr>\n",
       "      <th>1053074465150578688</th>\n",
       "      <td>2</td>\n",
       "      <td>landing</td>\n",
       "    </tr>\n",
       "    <tr>\n",
       "      <th>...</th>\n",
       "      <td>...</td>\n",
       "      <td>...</td>\n",
       "    </tr>\n",
       "    <tr>\n",
       "      <th>894875602045607936</th>\n",
       "      <td>7</td>\n",
       "      <td>from</td>\n",
       "    </tr>\n",
       "    <tr>\n",
       "      <th>894875602045607936</th>\n",
       "      <td>8</td>\n",
       "      <td>obamacare</td>\n",
       "    </tr>\n",
       "    <tr>\n",
       "      <th>894875602045607936</th>\n",
       "      <td>9</td>\n",
       "      <td>exchange</td>\n",
       "    </tr>\n",
       "    <tr>\n",
       "      <th>894875602045607936</th>\n",
       "      <td>10</td>\n",
       "      <td>in</td>\n",
       "    </tr>\n",
       "    <tr>\n",
       "      <th>894875602045607936</th>\n",
       "      <td>11</td>\n",
       "      <td>nevada</td>\n",
       "    </tr>\n",
       "    <tr>\n",
       "      <th>894875602045607936</th>\n",
       "      <td>12</td>\n",
       "      <td>https</td>\n",
       "    </tr>\n",
       "    <tr>\n",
       "      <th>894875602045607936</th>\n",
       "      <td>13</td>\n",
       "      <td>t</td>\n",
       "    </tr>\n",
       "    <tr>\n",
       "      <th>894875602045607936</th>\n",
       "      <td>14</td>\n",
       "      <td>co</td>\n",
       "    </tr>\n",
       "    <tr>\n",
       "      <th>894875602045607936</th>\n",
       "      <td>15</td>\n",
       "      <td>d0cxehqkwz</td>\n",
       "    </tr>\n",
       "    <tr>\n",
       "      <th>894871302250668032</th>\n",
       "      <td>0</td>\n",
       "      <td>rt</td>\n",
       "    </tr>\n",
       "    <tr>\n",
       "      <th>894871302250668032</th>\n",
       "      <td>1</td>\n",
       "      <td>foxandfriends</td>\n",
       "    </tr>\n",
       "    <tr>\n",
       "      <th>894871302250668032</th>\n",
       "      <td>2</td>\n",
       "      <td>u</td>\n",
       "    </tr>\n",
       "    <tr>\n",
       "      <th>894871302250668032</th>\n",
       "      <td>3</td>\n",
       "      <td>s</td>\n",
       "    </tr>\n",
       "    <tr>\n",
       "      <th>894871302250668032</th>\n",
       "      <td>4</td>\n",
       "      <td>spy</td>\n",
       "    </tr>\n",
       "    <tr>\n",
       "      <th>894871302250668032</th>\n",
       "      <td>5</td>\n",
       "      <td>satellites</td>\n",
       "    </tr>\n",
       "    <tr>\n",
       "      <th>894871302250668032</th>\n",
       "      <td>6</td>\n",
       "      <td>detect</td>\n",
       "    </tr>\n",
       "    <tr>\n",
       "      <th>894871302250668032</th>\n",
       "      <td>7</td>\n",
       "      <td>north</td>\n",
       "    </tr>\n",
       "    <tr>\n",
       "      <th>894871302250668032</th>\n",
       "      <td>8</td>\n",
       "      <td>korea</td>\n",
       "    </tr>\n",
       "    <tr>\n",
       "      <th>894871302250668032</th>\n",
       "      <td>9</td>\n",
       "      <td>moving</td>\n",
       "    </tr>\n",
       "    <tr>\n",
       "      <th>894871302250668032</th>\n",
       "      <td>10</td>\n",
       "      <td>anti</td>\n",
       "    </tr>\n",
       "    <tr>\n",
       "      <th>894871302250668032</th>\n",
       "      <td>11</td>\n",
       "      <td>ship</td>\n",
       "    </tr>\n",
       "    <tr>\n",
       "      <th>894871302250668032</th>\n",
       "      <td>12</td>\n",
       "      <td>cruise</td>\n",
       "    </tr>\n",
       "    <tr>\n",
       "      <th>894871302250668032</th>\n",
       "      <td>13</td>\n",
       "      <td>missiles</td>\n",
       "    </tr>\n",
       "    <tr>\n",
       "      <th>894871302250668032</th>\n",
       "      <td>14</td>\n",
       "      <td>to</td>\n",
       "    </tr>\n",
       "    <tr>\n",
       "      <th>894871302250668032</th>\n",
       "      <td>15</td>\n",
       "      <td>patrol</td>\n",
       "    </tr>\n",
       "    <tr>\n",
       "      <th>894871302250668032</th>\n",
       "      <td>16</td>\n",
       "      <td>boat</td>\n",
       "    </tr>\n",
       "    <tr>\n",
       "      <th>894871302250668032</th>\n",
       "      <td>17</td>\n",
       "      <td>https</td>\n",
       "    </tr>\n",
       "    <tr>\n",
       "      <th>894871302250668032</th>\n",
       "      <td>18</td>\n",
       "      <td>t</td>\n",
       "    </tr>\n",
       "    <tr>\n",
       "      <th>894871302250668032</th>\n",
       "      <td>19</td>\n",
       "      <td>co</td>\n",
       "    </tr>\n",
       "    <tr>\n",
       "      <th>894871302250668032</th>\n",
       "      <td>20</td>\n",
       "      <td>bpfxslffgy</td>\n",
       "    </tr>\n",
       "  </tbody>\n",
       "</table>\n",
       "<p>218233 rows × 2 columns</p>\n",
       "</div>"
      ],
      "text/plain": [
       "                     num           word\n",
       "1053076069564071936    0            the\n",
       "1053076069564071936    1           only\n",
       "1053076069564071936    2          thing\n",
       "1053076069564071936    3        keeping\n",
       "1053076069564071936    4         tester\n",
       "1053076069564071936    5          alive\n",
       "1053076069564071936    6             is\n",
       "1053076069564071936    7             he\n",
       "1053076069564071936    8            has\n",
       "1053076069564071936    9       millions\n",
       "1053076069564071936   10            and\n",
       "1053076069564071936   11       millions\n",
       "1053076069564071936   12             of\n",
       "1053076069564071936   13        dollars\n",
       "1053076069564071936   14           from\n",
       "1053076069564071936   15        outside\n",
       "1053076069564071936   16       liberals\n",
       "1053076069564071936   17            and\n",
       "1053076069564071936   18       leftists\n",
       "1053076069564071936   19            who\n",
       "1053076069564071936   20         couldn\n",
       "1053076069564071936   21              t\n",
       "1053076069564071936   22           care\n",
       "1053076069564071936   23           less\n",
       "1053076069564071936   24          about\n",
       "1053076069564071936   25            our\n",
       "1053076069564071936   26        country\n",
       "1053074465150578688    0           will\n",
       "1053074465150578688    1             be\n",
       "1053074465150578688    2        landing\n",
       "...                  ...            ...\n",
       "894875602045607936     7           from\n",
       "894875602045607936     8      obamacare\n",
       "894875602045607936     9       exchange\n",
       "894875602045607936    10             in\n",
       "894875602045607936    11         nevada\n",
       "894875602045607936    12          https\n",
       "894875602045607936    13              t\n",
       "894875602045607936    14             co\n",
       "894875602045607936    15     d0cxehqkwz\n",
       "894871302250668032     0             rt\n",
       "894871302250668032     1  foxandfriends\n",
       "894871302250668032     2              u\n",
       "894871302250668032     3              s\n",
       "894871302250668032     4            spy\n",
       "894871302250668032     5     satellites\n",
       "894871302250668032     6         detect\n",
       "894871302250668032     7          north\n",
       "894871302250668032     8          korea\n",
       "894871302250668032     9         moving\n",
       "894871302250668032    10           anti\n",
       "894871302250668032    11           ship\n",
       "894871302250668032    12         cruise\n",
       "894871302250668032    13       missiles\n",
       "894871302250668032    14             to\n",
       "894871302250668032    15         patrol\n",
       "894871302250668032    16           boat\n",
       "894871302250668032    17          https\n",
       "894871302250668032    18              t\n",
       "894871302250668032    19             co\n",
       "894871302250668032    20     bpfxslffgy\n",
       "\n",
       "[218233 rows x 2 columns]"
      ]
     },
     "execution_count": 54,
     "metadata": {},
     "output_type": "execute_result"
    }
   ],
   "source": [
    "tidy_format"
   ]
  },
  {
   "cell_type": "markdown",
   "metadata": {
    "deletable": false,
    "editable": false,
    "nbgrader": {
     "cell_type": "markdown",
     "checksum": "c5ecdf3a6f728a340b159acc71ac1abe",
     "grade": false,
     "grade_id": "q7-header",
     "locked": true,
     "schema_version": 2,
     "solution": false
    }
   },
   "source": [
    "## Question 7: Engagement\n",
    "\n",
    "## Question 7a\n",
    "\n",
    "In this problem, we'll explore which words led to a greater average number of retweets. For example, at the time of this writing, Donald Trump has two tweets that contain the word 'oakland' (tweets 932570628451954688 and 1016609920031117312) with 36757 and 10286 retweets respectively, for an average of 23,521.5.\n",
    "\n",
    "Find the top 20 most retweeted words. Include only words that appear in at least 25 tweets. As usual, try to do this without any for loops. You can string together ~7 pandas commands and get everything done on one line.\n",
    "\n",
    "Your `top_20` table should have this format:\n",
    "\n",
    "<table border=\"1\" class=\"dataframe\">\n",
    "  <thead>\n",
    "    <tr style=\"text-align: right;\">\n",
    "      <th></th>\n",
    "      <th>retweet_count</th>\n",
    "    </tr>\n",
    "    <tr>\n",
    "      <th>word</th>\n",
    "      <th></th>\n",
    "    </tr>\n",
    "  </thead>\n",
    "  <tbody>\n",
    "    <tr>\n",
    "      <th>jong</th>\n",
    "      <td>40675.666667</td>\n",
    "    </tr>\n",
    "    <tr>\n",
    "      <th>try</th>\n",
    "      <td>33937.800000</td>\n",
    "    </tr>\n",
    "    <tr>\n",
    "      <th>kim</th>\n",
    "      <td>32849.595745</td>\n",
    "    </tr>\n",
    "    <tr>\n",
    "      <th>un</th>\n",
    "      <td>32741.731707</td>\n",
    "    </tr>\n",
    "    <tr>\n",
    "      <th>maybe</th>\n",
    "      <td>30473.192308</td>\n",
    "    </tr>\n",
    "  </tbody>\n",
    "</table>"
   ]
  },
  {
   "cell_type": "code",
   "execution_count": 63,
   "metadata": {
    "deletable": false,
    "nbgrader": {
     "cell_type": "code",
     "checksum": "fd0b39f47c0462c1c6da4a8c31df384c",
     "grade": false,
     "grade_id": "q7a",
     "locked": false,
     "schema_version": 2,
     "solution": true
    },
    "tags": [
     "student"
    ]
   },
   "outputs": [],
   "source": [
    "top_20 = tidy_format.loc[:, :]\n",
    "temp = trump.loc[:, ['no_punc', 'retweet_count']]\n",
    "temp['no_punc'] = temp['no_punc'].str.split(expand = True)\n",
    "top_20 = top_20.merge(temp, right_index = True, left_index = True)"
   ]
  },
  {
   "cell_type": "code",
   "execution_count": 64,
   "metadata": {},
   "outputs": [],
   "source": [
    "top_20 = top_20.groupby('word').agg({'word': len, 'retweet_count': 'mean'})"
   ]
  },
  {
   "cell_type": "code",
   "execution_count": 65,
   "metadata": {},
   "outputs": [],
   "source": [
    "top_20 = top_20.loc[top_20['word'] >= 25, :]"
   ]
  },
  {
   "cell_type": "code",
   "execution_count": 66,
   "metadata": {},
   "outputs": [],
   "source": [
    "top_20 = top_20.drop(labels = 'word', axis = 1)"
   ]
  },
  {
   "cell_type": "code",
   "execution_count": 67,
   "metadata": {},
   "outputs": [],
   "source": [
    "top_20 = top_20.sort_values(by = 'retweet_count', ascending = False)"
   ]
  },
  {
   "cell_type": "code",
   "execution_count": 68,
   "metadata": {},
   "outputs": [],
   "source": [
    "top_20 = top_20.iloc[0:20]"
   ]
  },
  {
   "cell_type": "code",
   "execution_count": 69,
   "metadata": {},
   "outputs": [
    {
     "data": {
      "text/html": [
       "<div>\n",
       "<style scoped>\n",
       "    .dataframe tbody tr th:only-of-type {\n",
       "        vertical-align: middle;\n",
       "    }\n",
       "\n",
       "    .dataframe tbody tr th {\n",
       "        vertical-align: top;\n",
       "    }\n",
       "\n",
       "    .dataframe thead th {\n",
       "        text-align: right;\n",
       "    }\n",
       "</style>\n",
       "<table border=\"1\" class=\"dataframe\">\n",
       "  <thead>\n",
       "    <tr style=\"text-align: right;\">\n",
       "      <th></th>\n",
       "      <th>retweet_count</th>\n",
       "    </tr>\n",
       "    <tr>\n",
       "      <th>word</th>\n",
       "      <th></th>\n",
       "    </tr>\n",
       "  </thead>\n",
       "  <tbody>\n",
       "    <tr>\n",
       "      <th>jong</th>\n",
       "      <td>39606.433333</td>\n",
       "    </tr>\n",
       "    <tr>\n",
       "      <th>try</th>\n",
       "      <td>32509.880000</td>\n",
       "    </tr>\n",
       "    <tr>\n",
       "      <th>un</th>\n",
       "      <td>31931.560976</td>\n",
       "    </tr>\n",
       "    <tr>\n",
       "      <th>kim</th>\n",
       "      <td>31627.510204</td>\n",
       "    </tr>\n",
       "    <tr>\n",
       "      <th>maybe</th>\n",
       "      <td>29821.192308</td>\n",
       "    </tr>\n",
       "    <tr>\n",
       "      <th>kavanaugh</th>\n",
       "      <td>28625.370370</td>\n",
       "    </tr>\n",
       "    <tr>\n",
       "      <th>nuclear</th>\n",
       "      <td>28573.620000</td>\n",
       "    </tr>\n",
       "    <tr>\n",
       "      <th>illegally</th>\n",
       "      <td>28334.787879</td>\n",
       "    </tr>\n",
       "    <tr>\n",
       "      <th>mccabe</th>\n",
       "      <td>27644.870968</td>\n",
       "    </tr>\n",
       "    <tr>\n",
       "      <th>old</th>\n",
       "      <td>27495.787879</td>\n",
       "    </tr>\n",
       "    <tr>\n",
       "      <th>players</th>\n",
       "      <td>26839.233333</td>\n",
       "    </tr>\n",
       "    <tr>\n",
       "      <th>lowest</th>\n",
       "      <td>26482.847826</td>\n",
       "    </tr>\n",
       "    <tr>\n",
       "      <th>flag</th>\n",
       "      <td>26331.766667</td>\n",
       "    </tr>\n",
       "    <tr>\n",
       "      <th>nfl</th>\n",
       "      <td>26178.277778</td>\n",
       "    </tr>\n",
       "    <tr>\n",
       "      <th>emails</th>\n",
       "      <td>25975.169811</td>\n",
       "    </tr>\n",
       "    <tr>\n",
       "      <th>judge</th>\n",
       "      <td>25134.595238</td>\n",
       "    </tr>\n",
       "    <tr>\n",
       "      <th>fbi</th>\n",
       "      <td>25014.760000</td>\n",
       "    </tr>\n",
       "    <tr>\n",
       "      <th>obstruction</th>\n",
       "      <td>24935.918919</td>\n",
       "    </tr>\n",
       "    <tr>\n",
       "      <th>anthem</th>\n",
       "      <td>24867.135135</td>\n",
       "    </tr>\n",
       "    <tr>\n",
       "      <th>bless</th>\n",
       "      <td>24718.156250</td>\n",
       "    </tr>\n",
       "  </tbody>\n",
       "</table>\n",
       "</div>"
      ],
      "text/plain": [
       "             retweet_count\n",
       "word                      \n",
       "jong          39606.433333\n",
       "try           32509.880000\n",
       "un            31931.560976\n",
       "kim           31627.510204\n",
       "maybe         29821.192308\n",
       "kavanaugh     28625.370370\n",
       "nuclear       28573.620000\n",
       "illegally     28334.787879\n",
       "mccabe        27644.870968\n",
       "old           27495.787879\n",
       "players       26839.233333\n",
       "lowest        26482.847826\n",
       "flag          26331.766667\n",
       "nfl           26178.277778\n",
       "emails        25975.169811\n",
       "judge         25134.595238\n",
       "fbi           25014.760000\n",
       "obstruction   24935.918919\n",
       "anthem        24867.135135\n",
       "bless         24718.156250"
      ]
     },
     "execution_count": 69,
     "metadata": {},
     "output_type": "execute_result"
    }
   ],
   "source": [
    "top_20"
   ]
  },
  {
   "cell_type": "code",
   "execution_count": 70,
   "metadata": {
    "deletable": false,
    "editable": false,
    "nbgrader": {
     "cell_type": "code",
     "checksum": "21c9f88159cc2a93678adbf0ed15b141",
     "grade": true,
     "grade_id": "q7a-test",
     "locked": true,
     "points": 1,
     "schema_version": 2,
     "solution": false
    },
    "tags": [
     "test",
     "q07a"
    ]
   },
   "outputs": [],
   "source": [
    "# Although it can't be guaranteed, it's very likely that the top 5 words will still be\n",
    "# in the top 20 words in the next month.\n",
    "assert 'jong'     in top_20.index\n",
    "assert 'try'     in top_20.index\n",
    "assert 'kim' in top_20.index\n",
    "assert 'un'    in top_20.index\n",
    "assert 'maybe'    in top_20.index\n"
   ]
  },
  {
   "cell_type": "markdown",
   "metadata": {
    "deletable": false,
    "editable": false,
    "nbgrader": {
     "cell_type": "markdown",
     "checksum": "a4a12be8f88ac931b51b85a1ffa5cfde",
     "grade": false,
     "grade_id": "bar-chart-results",
     "locked": true,
     "schema_version": 2,
     "solution": false
    }
   },
   "source": [
    "Here's a bar chart of your results:"
   ]
  },
  {
   "cell_type": "code",
   "execution_count": 71,
   "metadata": {
    "deletable": false,
    "editable": false,
    "nbgrader": {
     "cell_type": "code",
     "checksum": "4a962cdd19dad39e5f8aa5fe2ff096e4",
     "grade": false,
     "grade_id": "top-retweets",
     "locked": true,
     "schema_version": 2,
     "solution": false
    }
   },
   "outputs": [
    {
     "data": {
      "image/png": "[encoded data removed]",
      "text/plain": [
       "<matplotlib.figure.Figure at 0x7fbf68e353c8>"
      ]
     },
     "metadata": {},
     "output_type": "display_data"
    }
   ],
   "source": [
    "top_20['retweet_count'].sort_values().plot.barh(figsize=(10, 8));"
   ]
  },
  {
   "cell_type": "markdown",
   "metadata": {
    "deletable": false,
    "editable": false,
    "nbgrader": {
     "cell_type": "markdown",
     "checksum": "70a14a09cd647399e07501fd7ba2c9e1",
     "grade": false,
     "grade_id": "q7b",
     "locked": true,
     "schema_version": 2,
     "solution": false
    }
   },
   "source": [
    "## Question 7b\n",
    "\n",
    "\"kim\", \"jong\" and \"un\" are apparently really popular in Trump's tweets! It seems like we can conclude that his tweets involving jong are more popular than his other tweets. Or can we?\n",
    "\n",
    "Consider each of the statements about possible confounding factors below. State whether each statement is true or false and explain. If the statement is true, state whether the confounding factor could have made kim jong un related tweets higher in the list than they should be.\n",
    "\n",
    "1. We didn't restrict our word list to nouns, so we have unhelpful words like \"let\" and \"any\" in our result.\n",
    "1. We didn't remove hashtags in our text, so we have duplicate words (eg. #great and great).\n",
    "1. We didn't account for the fact that Trump's follower count has increased over time."
   ]
  },
  {
   "cell_type": "markdown",
   "metadata": {
    "deletable": false,
    "nbgrader": {
     "cell_type": "markdown",
     "checksum": "577b78199cd4361dd51b92774e09beb0",
     "grade": true,
     "grade_id": "q7b-answer",
     "locked": false,
     "points": 1,
     "schema_version": 2,
     "solution": true
    },
    "tags": [
     "student",
     "written"
    ]
   },
   "source": [
    "1. True. Our word list has modifiers, adverbs, and adjectives, all of which are not nouns. However, this should not affect the placing of Kim Jong Un related tweets. The reason why Kim Jong Un related tweets are popular (and hence retweeted) is because it's a big foreign policy issue with potentially existential risk to us. Inclusion of unhelpful words will not affect the placement of these tweets because these words likely have roughly zero polarity (so they don't affect people's sentiments of the tweet) and they do not affect the real reason why Kim Jong Un related tweets are high in the list (because it's a pressing issue that could affect all of us). \n",
    "\n",
    "2. False. We did remove hashtags from our text in question 6c, since the hashtag is not considered a unicode word character or the whitespace character. \n",
    "\n",
    "3. True. The President's Twitter account has become more popular over time. Since he has more followers, we should expect that the number of retweets for a given tweet should be higher for a more recent tweet than for an older tweet, since he now has more followers who can retweet his tweets. Thus, older controversies like his claim that President Obama was a non-citizen, or his previous support of anti-vaxxers were retweeted less in total because he had less followers. More recent events, like Kim Jong Un and the North Korea foreign policy problem, were retweeted more in total since he had more followers. Had the North Korea problem become more prominent 4 years ago, it is very likely that the words \"kim\", \"jong\", and \"un\" would be much lower on this list since any tweets the President would've made about it 4 years ago would've occurred when he had less followers to retweet him. Thus, this confounding factor could have made Kim Jong Un related tweets higher in the list than they should've been. (Potentially, this issue could be fixed by normalizing the top 20 popularity list for Trump's follower count at the time of each tweet to return a normalized popularity of retweeted words.)"
   ]
  },
  {
   "cell_type": "markdown",
   "metadata": {
    "deletable": false,
    "editable": false,
    "nbgrader": {
     "cell_type": "markdown",
     "checksum": "2349bca60086e521e2127eb40b1beb29",
     "grade": false,
     "grade_id": "q8",
     "locked": true,
     "schema_version": 2,
     "solution": false
    }
   },
   "source": [
    "## Question 8\n",
    "\n",
    "Using the `trump` tweets construct an interesting plot describing a property of the data and discuss what you found below.\n",
    "\n",
    "**Ideas:**\n",
    "\n",
    "1. How has the sentiment changed with length of the tweets?\n",
    "1. Does sentiment affect retweet count?\n",
    "1. Are retweets more negative than regular tweets?\n",
    "1. Are there any spikes in the number of retweets and do the correspond to world events? \n",
    "1. *Bonus:* How many Russian twitter bots follow Trump? \n",
    "1. What terms have an especially positive or negative sentiment?\n",
    "\n",
    "You can look at other data sources and even tweets.\n"
   ]
  },
  {
   "cell_type": "markdown",
   "metadata": {
    "deletable": false,
    "editable": false,
    "nbgrader": {
     "cell_type": "markdown",
     "checksum": "9742f4a99a0e60845ad7dcc60d774fd7",
     "grade": false,
     "grade_id": "plot8-q",
     "locked": true,
     "schema_version": 2,
     "solution": false
    }
   },
   "source": [
    "### Plot:"
   ]
  },
  {
   "cell_type": "code",
   "execution_count": 72,
   "metadata": {},
   "outputs": [],
   "source": [
    "rt_df = trump.loc[trump['text'].str.contains(r\"^rt\"), 'polarity']"
   ]
  },
  {
   "cell_type": "code",
   "execution_count": 73,
   "metadata": {},
   "outputs": [],
   "source": [
    "trumppersonal_df = trump.loc[~trump['text'].str.contains(r\"^rt\"), 'polarity']"
   ]
  },
  {
   "cell_type": "code",
   "execution_count": 74,
   "metadata": {},
   "outputs": [
    {
     "data": {
      "text/plain": [
       "Text(0.5,1,'Retweet polarity distribution')"
      ]
     },
     "execution_count": 74,
     "metadata": {},
     "output_type": "execute_result"
    },
    {
     "data": {
      "image/png": "[encoded data removed]",
      "text/plain": [
       "<matplotlib.figure.Figure at 0x7fbf5c2b32e8>"
      ]
     },
     "metadata": {},
     "output_type": "display_data"
    }
   ],
   "source": [
    "sns.distplot(a = rt_df, label = 'Retweets')\n",
    "plt.xlabel('Polarity')\n",
    "plt.ylabel('fraction')\n",
    "plt.xlim(-10,10)\n",
    "plt.title(\"Retweet polarity distribution\")"
   ]
  },
  {
   "cell_type": "code",
   "execution_count": 67,
   "metadata": {},
   "outputs": [
    {
     "data": {
      "text/plain": [
       "(-10, 10)"
      ]
     },
     "execution_count": 67,
     "metadata": {},
     "output_type": "execute_result"
    },
    {
     "data": {
      "image/png": "[encoded data removed]",
      "text/plain": [
       "<matplotlib.figure.Figure at 0x7f756ff66be0>"
      ]
     },
     "metadata": {},
     "output_type": "display_data"
    }
   ],
   "source": [
    "sns.distplot(a = trumppersonal_df, label = \"President's Personal Tweets\")\n",
    "plt.xlabel('Polarity')\n",
    "plt.ylabel('fraction')\n",
    "plt.title(\"personal tweet polarity distribution\")\n",
    "plt.xlim(-10,10)"
   ]
  },
  {
   "cell_type": "code",
   "execution_count": 68,
   "metadata": {
    "deletable": false,
    "nbgrader": {
     "cell_type": "code",
     "checksum": "1f84a32506abaa59849e1923f60afb03",
     "grade": true,
     "grade_id": "q8-plot",
     "locked": false,
     "points": 2,
     "schema_version": 2,
     "solution": true
    }
   },
   "outputs": [
    {
     "data": {
      "text/plain": [
       "(-10, 10)"
      ]
     },
     "execution_count": 68,
     "metadata": {},
     "output_type": "execute_result"
    },
    {
     "data": {
      "image/png": "[encoded data removed]",
      "text/plain": [
       "<matplotlib.figure.Figure at 0x7f756e5e9128>"
      ]
     },
     "metadata": {},
     "output_type": "display_data"
    }
   ],
   "source": [
    "sns.distplot(a = rt_df, label = 'Retweets')\n",
    "sns.distplot(a = trumppersonal_df, label = \"President's Personal Tweets\")\n",
    "plt.legend(labels = ['Retweets', \"President's Personal Tweets\"])\n",
    "plt.xlabel('Polarity')\n",
    "plt.ylabel('fraction')\n",
    "plt.title(\"A Comparison of Polarity for Retweets vs President Trump's personal tweets\")\n",
    "plt.xlim(-10,10)"
   ]
  },
  {
   "cell_type": "markdown",
   "metadata": {
    "deletable": false,
    "editable": false,
    "nbgrader": {
     "cell_type": "markdown",
     "checksum": "8bcdf92134fc82c0b7dcfb54c62dadfe",
     "grade": false,
     "grade_id": "disc8-q",
     "locked": true,
     "schema_version": 2,
     "solution": false
    }
   },
   "source": [
    "### Discussion of Your Plot:"
   ]
  },
  {
   "cell_type": "markdown",
   "metadata": {
    "deletable": false,
    "nbgrader": {
     "cell_type": "markdown",
     "checksum": "36550141bfc678e4ad08057239781458",
     "grade": true,
     "grade_id": "q8-disc",
     "locked": false,
     "points": 1,
     "schema_version": 2,
     "solution": true
    }
   },
   "source": [
    "For my plot, I chose to compare the polarity of retweets on the President's account versus the polarity of the President's personal tweets. To find the distribution of both, I pulled data from my trump dataframe which was constructed to contain all data related to tweets in all_tweets. Specifically, I separated the data into retweeted and not retweeted by if the tweet contained the phrase \"rt\" to begin the tweet, denoting a retweet on the account. This may not be a perfect indicator of whether a tweet is a retweet (this phrase does not have to be present to retweet something), but it was the best that I could do given the data in the all_tweets/trump dataframe. Tweets that did not contain this tag were put into the dataframe for Trump's personal tweets. \n",
    "\n",
    "I plotted a stacked histogram and stacked KDEs of the distribution of polarity for both dataframes. To answer the question, \"Are retweets more negative than regular tweets?\", the answer is no. \n",
    "\n",
    "Inspecting the stacked histogram, we see that the peak of the retweet distribution is approximately at a polarity of zero. The same appears to be true of the personal tweet distribution. The two distributions have approximately the same spread, and both appear to be neither skew left/right nor symmetric, as there are long tails on the right and left side of the distribution. \n",
    "\n",
    "What is more interesting to note however is that the president's personal tweets have more highly negative tweets than retweets (polarity -10 to -5). There are more highly positive tweets (polarity 5 to 10) in the president's personal tweet distribution than in the retweet distribution as well. In general, this means that more extreme polarities are found on the president's personal tweets than in retweets. This was ascertained upon inspection of the individual distributions. \n",
    "\n",
    "Thus, a more interesting question would be to ask whether the president's personal tweets contain more extreme polarity tweets than retweets by the president. The answer to this question is yes as explained above."
   ]
  },
  {
   "cell_type": "markdown",
   "metadata": {
    "deletable": false,
    "editable": false,
    "nbgrader": {
     "cell_type": "markdown",
     "checksum": "7cd0d0cd6110eba1fea6f1316c48f4a0",
     "grade": false,
     "grade_id": "submission",
     "locked": true,
     "schema_version": 2,
     "solution": false
    }
   },
   "source": [
    "## Submission\n",
    "\n",
    "Congrats, you just finished Project 1!"
   ]
  },
  {
   "cell_type": "markdown",
   "metadata": {},
   "source": [
    "## Submission\n",
    "\n",
    "You're done!\n",
    "\n",
    "Before submitting this assignment, ensure to:\n",
    "\n",
    "1. Restart the Kernel (in the menubar, select Kernel->Restart & Run All)\n",
    "2. Validate the notebook by clicking the \"Validate\" button\n",
    "\n",
    "Finally, make sure to **submit** the assignment via the Assignments tab in Datahub"
   ]
  }
 ],
 "metadata": {
  "kernelspec": {
   "display_name": "Python 3",
   "language": "python",
   "name": "python3"
  },
  "language_info": {
   "codemirror_mode": {
    "name": "ipython",
    "version": 3
   },
   "file_extension": ".py",
   "mimetype": "text/x-python",
   "name": "python",
   "nbconvert_exporter": "python",
   "pygments_lexer": "ipython3",
   "version": "3.6.4"
  }
 },
 "nbformat": 4,
 "nbformat_minor": 2
}
